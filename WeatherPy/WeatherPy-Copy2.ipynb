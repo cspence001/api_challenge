{
 "cells": [
  {
   "cell_type": "markdown",
   "metadata": {},
   "source": [
    "# WeatherPy\n",
    "----\n",
    "\n",
    "#### Note\n",
    "* Instructions have been included for each segment. You do not have to follow them exactly, but they are included to help you think through the steps."
   ]
  },
  {
   "cell_type": "code",
   "execution_count": 1,
   "metadata": {},
   "outputs": [
    {
     "name": "stdout",
     "output_type": "stream",
     "text": [
      "Requirement already satisfied: citipy in /opt/anaconda3/lib/python3.8/site-packages (0.0.5)\n",
      "Requirement already satisfied: kdtree>=0.12 in /opt/anaconda3/lib/python3.8/site-packages (from citipy) (0.16)\n",
      "Note: you may need to restart the kernel to use updated packages.\n"
     ]
    }
   ],
   "source": [
    "pip install citipy"
   ]
  },
  {
   "cell_type": "code",
   "execution_count": 34,
   "metadata": {
    "scrolled": true
   },
   "outputs": [],
   "source": [
    "# Dependencies and Setup\n",
    "import matplotlib.pyplot as plt\n",
    "import pandas as pd\n",
    "import numpy as np\n",
    "import requests\n",
    "import time\n",
    "from scipy.stats import linregress\n",
    "\n",
    "# Import API key\n",
    "from api_keys import weather_api_key\n",
    "\n",
    "# Incorporated citipy to determine city based on latitude and longitude\n",
    "from citipy import citipy\n",
    "\n",
    "# Output File (CSV)\n",
    "output_data_file = \"Resources/cities.csv\"\n",
    "\n",
    "# Range of latitudes and longitudes\n",
    "lat_range = (-90, 90)\n",
    "lng_range = (-180, 180)"
   ]
  },
  {
   "cell_type": "markdown",
   "metadata": {},
   "source": [
    "## Generate Cities List"
   ]
  },
  {
   "cell_type": "code",
   "execution_count": 35,
   "metadata": {},
   "outputs": [
    {
     "data": {
      "text/plain": [
       "624"
      ]
     },
     "execution_count": 35,
     "metadata": {},
     "output_type": "execute_result"
    }
   ],
   "source": [
    "# List for holding lat_lngs and cities\n",
    "lat_lngs = []\n",
    "cities = []\n",
    "\n",
    "# Create a set of random lat and lng combinations\n",
    "lats = np.random.uniform(lat_range[0], lat_range[1], size=1500)\n",
    "lngs = np.random.uniform(lng_range[0], lng_range[1], size=1500)\n",
    "lat_lngs = zip(lats, lngs)\n",
    "\n",
    "# Identify nearest city for each lat, lng combination\n",
    "for lat_lng in lat_lngs:\n",
    "    city = citipy.nearest_city(lat_lng[0], lat_lng[1]).city_name\n",
    "    \n",
    "    # If the city is unique, then add it to a our cities list\n",
    "    if city not in cities:\n",
    "        cities.append(city)\n",
    "\n",
    "# Print the city count to confirm sufficient count\n",
    "len(cities)"
   ]
  },
  {
   "cell_type": "code",
   "execution_count": 36,
   "metadata": {},
   "outputs": [
    {
     "name": "stdout",
     "output_type": "stream",
     "text": [
      "['pochutla', 'hambantota', 'ribeira grande', 'puerto baquerizo moreno', 'busselton', 'east london', 'cape town', 'cherskiy', 'lompoc', 'fortuna', 'new norfolk', 'hovd', 'rikitea', 'punta arenas', 'barrow', 'bethel', 'clyde river', 'severo-kurilsk', 'ponta do sol', 'buraydah', 'nanortalik', 'touho', 'valreas', 'kosonsoy', 'ushuaia', 'torbay', 'sodertalje', 'port alfred', 'tiksi', 'miltenberg', 'porto novo', 'saint-philippe', 'necochea', 'makakilo city', 'aklavik', 'tuktoyaktuk', 'illoqqortoormiut', 'cabo san lucas', 'hithadhoo', 'tadine', 'along', 'mataura', 'saint george', 'arraial do cabo', 'aksu', 'albany', 'kapaa', 'port macquarie', 'avarua', 'mahebourg', 'san cristobal', 'kavaratti', 'pisco', 'bluff', 'bredasdorp', 'sao joao da barra', 'marawi', 'taolanaro', 'provideniya', 'belushya guba', 'qaanaaq', 'jacareacanga', 'cornelius', 'rungata', 'dikson', 'nongan', 'piranshahr', 'praya', 'atuona', 'hilo', 'khatanga', 'chokurdakh', 'gangotri', 'kenai', 'san policarpo', 'fairbanks', 'georgetown', 'bengkulu', 'sorland', 'pevek', 'kazalinsk', 'tsihombe', 'isangel', 'sioux lookout', 'vaini', 'karauzyak', 'geraldton', 'zhanaozen', 'hemsedal', 'cap malheureux', 'kapoeta', 'pithiviers', 'dingle', 'mount gambier', 'victor harbor', 'orchard homes', 'kurilsk', 'pringsewu', 'amderma', 'san pedro', 'tabiauea', 'souillac', 'santa maria', 'grindavik', 'victoria', 'aswan', 'vaitupu', 'preetz', 'longlac', 'khasan', 'yanan', 'esperance', 'las cruces', 'port elizabeth', 'jamestown', 'saskylakh', 'kamenskoye', 'arroio grande', 'lumeje', 'sukhumi', 'luang prabang', 'tingrela', 'chuy', 'ekimchan', 'carnarvon', 'shunyi', 'vega de alatorre', 'saint-pierre', 'almaznyy', 'delijan', 'bathsheba', 'sitka', 'launceston', 'acapulco', 'marienburg', 'cayenne', 'labutta', 'mys shmidta', 'katsuura', 'rocha', 'margate', 'belaya gora', 'yerbogachen', 'nokaneng', 'hermanus', 'mar del plata', 'port-gentil', 'champawat', 'kaeo', 'broken hill', 'canico', 'kurud', 'longyearbyen', 'vestmannaeyjar', 'puerto ayora', 'atambua', 'presidencia roque saenz pena', 'norman wells', 'oudtshoorn', 'polovinnoye', 'yulara', 'hobart', 'luderitz', 'troitsko-pechorsk', 'orotina', 'port-cartier', 'buqayq', 'krasnoselkup', 'milos', 'talnakh', 'vila velha', 'edd', 'abu samrah', 'faanui', 'la arena', 'hasaki', 'saint-joseph', 'trelew', 'obala', 'padang', 'sindor', 'butaritari', 'chapais', 'inhambane', 'kamenka', 'high prairie', 'awjilah', 'cockburn town', 'mino', 'tessalit', 'warqla', 'bayir', 'dovers', 'umzimvubu', 'iqaluit', 'vardo', 'adrar', 'bagdarin', 'abeche', 'jardim', 'sorong', 'barreirinhas', 'san angelo', 'tasiilaq', 'igrim', 'hay river', 'ahipara', 'madang', 'poroszlo', 'pozo colorado', 'kailua', 'kuruman', 'upernavik', 'palabuhanratu', 'mbini', 'sao filipe', 'castro', 'kavieng', 'sao felix do xingu', 'hualmay', 'airai', 'austin', 'tandil', 'altay', 'paso de carrasco', 'igarka', 'kuche', 'solnechnyy', 'port hedland', 'silva jardim', 'kerema', 'saint anthony', 'college', 'namatanai', 'samusu', 'ancud', 'kandrian', 'mrirt', 'abu kamal', 'mocuba', 'ambilobe', 'brae', 'saleaula', 'pyu', 'hamilton', 'dhidhdhoo', 'tura', 'ende', 'kodiak', 'sofiysk', 'mozarlandia', 'marsh harbour', 'tuni', 'san vicente', 'havoysund', 'caravelas', 'angoram', 'sao paulo de olivenca', 'attawapiskat', 'pacific grove', 'kunyang', 'nioro', 'placido de castro', 'montelimar', 'shimoda', 'taseyevo', 'sibut', 'rawson', 'beringovskiy', 'pirgos', 'pangnirtung', 'guerrero negro', 'goderich', 'stornoway', 'rio grande', 'chernyshevskiy', 'khutar', 'sumbe', 'san patricio', 'laguna', 'murwillumbah', 'adeje', 'lotung', 'los llanos de aridane', 'mount isa', 'creston', 'svetlogorsk', 'shaowu', 'qianan', 'callaway', 'penzance', 'zhoucheng', 'trairi', 'constitucion', 'grand bank', 'port moresby', 'areosa', 'sinnamary', 'riyadh', 'salina', 'ngukurr', 'port antonio', 'palmer', 'plettenberg bay', 'two hills', 'tasbuget', 'dabat', 'ballina', 'lebu', 'at-bashi', 'bambous virieux', 'thinadhoo', 'bhadasar', 'pangody', 'vallenar', 'ust-kalmanka', 'huarmey', 'puerto del rosario', 'portland', 'lagunas', 'kimbe', 'toliary', 'korla', 'ruston', 'codrington', 'port blair', 'coihaique', 'chumikan', 'yellowknife', 'vanimo', 'touros', 'barentsburg', 'nikolskoye', 'sorvag', 'tezu', 'westport', 'lincoln', 'barbar', 'tvedestrand', 'dubai', 'lata', 'quartucciu', 'udachnyy', 'timmins', 'seoul', 'tuatapere', 'rock springs', 'ulagan', 'nizhneyansk', 'balakhninskiy', 'nara', 'akyab', 'rio tuba', 'nayoro', 'olga', 'marsabit', 'buluang', 'ruthin', 'alassio', 'kuala lipis', 'ostrovnoy', 'hunza', 'nguiu', 'phan thiet', 'poum', 'tyniste nad orlici', 'sobolevo', 'berdigestyakh', 'villarrica', 'thanh hoa', 'wittstock', 'belmonte', 'labuhan', 'tual', 'kruisfontein', 'sakakah', 'kiama', 'batie', 'northam', 'itarema', 'matara', 'te anau', 'qaqortoq', 'camden', 'bilma', 'beloha', 'bima', 'umba', 'puri', 'skalistyy', 'roebourne', 'isabela', 'kalianget', 'mayo', 'kloulklubed', 'carballo', 'nandyal', 'new ulm', 'henties bay', 'okha', 'ankazobe', 'paraiso', 'ketchikan', 'dong hoi', 'bur gabo', 'vage', 'panama city', 'namibe', 'vanavara', 'candido de abreu', 'manaus', 'dauriya', 'chimore', 'riohacha', 'komsomolskiy', 'ilulissat', 'vytegra', 'matanzas', 'guozhen', 'del rio', 'sao joao de pirabas', 'salalah', 'maragogi', 'kahului', 'naryan-mar', 'merauke', 'kaura namoda', 'olafsvik', 'marcona', 'kamiiso', 'fort nelson', 'bilibino', 'conceicao do mato dentro', 'amapa', 'alpena', 'do gonbadan', 'rosetown', 'dunedin', 'yaan', 'bad freienwalde', 'puerto colombia', 'gwadar', 'nampula', 'pitimbu', 'sao geraldo do araguaia', 'santa vitoria do palmar', 'bonavista', 'port augusta', 'ciudad bolivar', 'brorup', 'corrientes', 'ippy', 'gillette', 'kushmurun', 'zaozerne', 'winnemucca', 'myitkyina', 'tocopilla', 'kodino', 'thompson', 'bolobo', 'tinos', 'belyy yar', 'nikel', 'miri', 'wencheng', 'emerald', 'comodoro rivadavia', 'tomatlan', 'hauterive', 'moussoro', 'acandi', 'jiangyou', 'calvinia', 'juruti', 'santa maria da boa vista', 'cabedelo', 'constantine', 'ust-kamchatsk', 'sisimiut', 'frontera', 'sile', 'leningradskiy', 'karamken', 'panjwin', 'narrabri', 'muros', 'bolungarvik', 'chipinge', 'babanusah', 'manggar', 'ust-nera', 'kirakira', 'waingapu', 'menongue', 'el balyana', 'vrangel', 'les cayes', 'rameswaram', 'vero beach', 'coahuayana', 'shuya', 'redmond', 'cabildo', 'deputatskiy', 'villaviciosa', 'alyangula', 'stoyba', 'nishihara', 'hami', 'guatire', 'iwanai', 'kununurra', 'akdepe', 'batangafo', 'fare', 'sibolga', 'kachug', 'warmbad', 'kleck', 'sangar', 'santiago del estero', 'kilindoni', 'wahran', 'gizo', 'srednekolymsk', 'dongli', 'sars', 'batemans bay', 'pacifica', 'boende', 'hermon', 'ostersund', 'lake cowichan', 'shieli', 'malkangiri', 'clearwater', 'lorengau', 'yarada', 'tengzhou', 'iquitos', 'maraa', 'hendijan', 'parauna', 'yurgamysh', 'agustin codazzi', 'kathu', 'agva', 'wajir', 'ust-tsilma', 'moranbah', 'yerofey pavlovich', 'red wing', 'leh', 'taoudenni', 'whitehorse', 'oktyabrskiy', 'bahia blanca', 'san quintin', 'harper', 'nizhnyaya pavlovka', 'berbera', 'taveta', 'camacha', 'rocky mountain house', 'galiwinku', 'kamina', 'pahrump', 'puerto escondido', 'roberval', 'satitoa', 'majene', 'nome', 'manta', 'grand river south east', 'marquette', 'chokwe', 'salta', 'mezhdurechensk', 'nemuro', 'road town', 'eyl', 'nhulunbuy', 'gardabani', 'yar-sale', 'alice springs', 'saint-augustin', 'sabang', 'flinders', 'port hardy', 'alta floresta', 'groningen', 'shingu', 'finschhafen', 'verkhniy baskunchak', 'pueblo nuevo', 'ternate', 'toftir', 'san rafael', 'inuvik', 'baruun-urt', 'ruatoria', 'wakkanai', 'kautokeino', 'narsaq', 'ballitoville', 'san luis', 'sola', 'fredericton', 'vestmanna', 'great falls', 'okhotsk', 'buala', 'kitimat', 'fuengirola', 'pascagoula', 'saint-marc-des-carrieres', 'kuito', 'kadaya', 'kyra', 'kaihua', 'carmona', 'prince rupert', 'heihe']\n"
     ]
    }
   ],
   "source": [
    "print(cities)"
   ]
  },
  {
   "cell_type": "markdown",
   "metadata": {},
   "source": [
    "### Perform API Calls\n",
    "* Perform a weather check on each city using a series of successive API calls.\n",
    "* Include a print log of each city as it'sbeing processed (with the city number and city name).\n"
   ]
  },
  {
   "cell_type": "code",
   "execution_count": 37,
   "metadata": {},
   "outputs": [
    {
     "name": "stdout",
     "output_type": "stream",
     "text": [
      "65e67b99df7e4d1a7b6d4e19ea6783d8\n"
     ]
    }
   ],
   "source": [
    "print(weather_api_key)"
   ]
  },
  {
   "cell_type": "code",
   "execution_count": 38,
   "metadata": {},
   "outputs": [
    {
     "data": {
      "text/plain": [
       "{'coord': {'lon': -124.1573, 'lat': 40.5982},\n",
       " 'weather': [{'id': 804,\n",
       "   'main': 'Clouds',\n",
       "   'description': 'overcast clouds',\n",
       "   'icon': '04d'}],\n",
       " 'base': 'stations',\n",
       " 'main': {'temp': 287.75,\n",
       "  'feels_like': 288.45,\n",
       "  'temp_min': 286.48,\n",
       "  'temp_max': 288.71,\n",
       "  'pressure': 1028,\n",
       "  'humidity': 94},\n",
       " 'visibility': 8047,\n",
       " 'wind': {'speed': 0.63, 'deg': 320},\n",
       " 'clouds': {'all': 90},\n",
       " 'dt': 1610575097,\n",
       " 'sys': {'type': 1,\n",
       "  'id': 4127,\n",
       "  'country': 'US',\n",
       "  'sunrise': 1610552323,\n",
       "  'sunset': 1610586708},\n",
       " 'timezone': -28800,\n",
       " 'id': 5563839,\n",
       " 'name': 'Fortuna',\n",
       " 'cod': 200}"
      ]
     },
     "execution_count": 38,
     "metadata": {},
     "output_type": "execute_result"
    }
   ],
   "source": [
    "#establish base url\n",
    "base_url = \"http://api.openweathermap.org/data/2.5/weather?\"\n",
    "\n",
    "#build query url\n",
    "weather_url = base_url + \"appid=\" + weather_api_key + \"&q=\" \n",
    "\n",
    "#get sample weather of city\n",
    "samp_weather = requests.get(weather_url + \"fortuna\").json()\n",
    "samp_weather\n"
   ]
  },
  {
   "cell_type": "code",
   "execution_count": 39,
   "metadata": {},
   "outputs": [
    {
     "name": "stdout",
     "output_type": "stream",
     "text": [
      "pochutla,3517970 found! Appending stats\n",
      "hambantota,1244926 found! Appending stats\n",
      "ribeira grande,3372707 found! Appending stats\n",
      "puerto baquerizo moreno,3652758 found! Appending stats\n",
      "busselton,2075265 found! Appending stats\n",
      "east london,1006984 found! Appending stats\n",
      "cape town,3369157 found! Appending stats\n",
      "cherskiy,2126199 found! Appending stats\n",
      "lompoc,5367788 found! Appending stats\n",
      "fortuna,5563839 found! Appending stats\n",
      "new norfolk,2155415 found! Appending stats\n",
      "hovd,1516048 found! Appending stats\n",
      "rikitea,4030556 found! Appending stats\n",
      "punta arenas,3874787 found! Appending stats\n",
      "barrow,5880054 found! Appending stats\n",
      "bethel,5282297 found! Appending stats\n",
      "clyde river,5924351 found! Appending stats\n",
      "severo-kurilsk,2121385 found! Appending stats\n",
      "ponta do sol,2264557 found! Appending stats\n",
      "buraydah,107304 found! Appending stats\n",
      "nanortalik,3421765 found! Appending stats\n",
      "touho,2137873 found! Appending stats\n",
      "valreas,2970838 found! Appending stats\n",
      "kosonsoy,1513714 found! Appending stats\n",
      "ushuaia,3833367 found! Appending stats\n",
      "torbay,6167817 found! Appending stats\n",
      "sodertalje not found! NaN\n",
      "port alfred,964432 found! Appending stats\n",
      "tiksi,2015306 found! Appending stats\n",
      "miltenberg,2871079 found! Appending stats\n",
      "porto novo,2392087 found! Appending stats\n",
      "saint-philippe,935215 found! Appending stats\n",
      "necochea,3430443 found! Appending stats\n",
      "makakilo city,5850554 found! Appending stats\n",
      "aklavik,5882953 found! Appending stats\n",
      "tuktoyaktuk,6170031 found! Appending stats\n",
      "illoqqortoormiut not found! NaN\n",
      "cabo san lucas,3985710 found! Appending stats\n",
      "hithadhoo,1282256 found! Appending stats\n",
      "tadine,2138285 found! Appending stats\n",
      "along,1278969 found! Appending stats\n",
      "mataura,6201424 found! Appending stats\n",
      "saint george,5546220 found! Appending stats\n",
      "arraial do cabo,3471451 found! Appending stats\n",
      "aksu,1529660 found! Appending stats\n",
      "albany,5106841 found! Appending stats\n",
      "kapaa,5848280 found! Appending stats\n",
      "port macquarie,2152659 found! Appending stats\n",
      "avarua,4035715 found! Appending stats\n",
      "mahebourg,934322 found! Appending stats\n",
      "san cristobal,3628473 found! Appending stats\n",
      "kavaratti,1267390 found! Appending stats\n",
      "pisco,3932145 found! Appending stats\n",
      "bluff,2206939 found! Appending stats\n",
      "bredasdorp,1015776 found! Appending stats\n",
      "sao joao da barra,3448903 found! Appending stats\n",
      "marawi,1701054 found! Appending stats\n",
      "taolanaro not found! NaN\n",
      "provideniya,4031574 found! Appending stats\n",
      "belushya guba not found! NaN\n",
      "qaanaaq,3831208 found! Appending stats\n",
      "jacareacanga,3397763 found! Appending stats\n",
      "cornelius,4461941 found! Appending stats\n",
      "rungata not found! NaN\n",
      "dikson,1507390 found! Appending stats\n",
      "nongan,2035565 found! Appending stats\n",
      "piranshahr,121110 found! Appending stats\n",
      "praya,3374333 found! Appending stats\n",
      "atuona,4020109 found! Appending stats\n",
      "hilo,5855927 found! Appending stats\n",
      "khatanga,2022572 found! Appending stats\n",
      "chokurdakh,2126123 found! Appending stats\n",
      "gangotri not found! NaN\n",
      "kenai,5866063 found! Appending stats\n",
      "san policarpo,1688696 found! Appending stats\n",
      "fairbanks,5861897 found! Appending stats\n",
      "georgetown,1735106 found! Appending stats\n",
      "bengkulu,1649150 found! Appending stats\n",
      "sorland,3137469 found! Appending stats\n",
      "pevek,2122090 found! Appending stats\n",
      "kazalinsk not found! NaN\n",
      "tsihombe not found! NaN\n",
      "isangel,2136825 found! Appending stats\n",
      "sioux lookout,6148373 found! Appending stats\n",
      "vaini,4032243 found! Appending stats\n",
      "karauzyak not found! NaN\n",
      "geraldton,2070998 found! Appending stats\n",
      "zhanaozen,607610 found! Appending stats\n",
      "hemsedal,3152989 found! Appending stats\n",
      "cap malheureux,934649 found! Appending stats\n",
      "kapoeta,372884 found! Appending stats\n",
      "pithiviers,2987002 found! Appending stats\n",
      "dingle,1714733 found! Appending stats\n",
      "mount gambier,2156643 found! Appending stats\n",
      "victor harbor,2059470 found! Appending stats\n",
      "orchard homes,5670128 found! Appending stats\n",
      "kurilsk,2123979 found! Appending stats\n",
      "pringsewu,1630639 found! Appending stats\n",
      "amderma not found! NaN\n",
      "san pedro,1688781 found! Appending stats\n",
      "tabiauea not found! NaN\n",
      "souillac,933995 found! Appending stats\n",
      "santa maria,3450083 found! Appending stats\n",
      "grindavik,3416888 found! Appending stats\n",
      "victoria,1819729 found! Appending stats\n",
      "aswan,359792 found! Appending stats\n",
      "vaitupu not found! NaN\n",
      "preetz,2852280 found! Appending stats\n",
      "longlac not found! NaN\n",
      "khasan,2039557 found! Appending stats\n",
      "yanan not found! NaN\n",
      "esperance,2071860 found! Appending stats\n",
      "las cruces,5475352 found! Appending stats\n",
      "port elizabeth,964420 found! Appending stats\n",
      "jamestown,5122534 found! Appending stats\n",
      "saskylakh,2017155 found! Appending stats\n",
      "kamenskoye not found! NaN\n",
      "arroio grande,3471422 found! Appending stats\n",
      "lumeje,876123 found! Appending stats\n",
      "sukhumi,611847 found! Appending stats\n",
      "luang prabang,1655559 found! Appending stats\n",
      "tingrela not found! NaN\n",
      "chuy,3443061 found! Appending stats\n",
      "ekimchan,2024461 found! Appending stats\n",
      "carnarvon,2074865 found! Appending stats\n",
      "shunyi,2034754 found! Appending stats\n",
      "vega de alatorre,3514843 found! Appending stats\n",
      "saint-pierre,935214 found! Appending stats\n",
      "almaznyy,582447 found! Appending stats\n",
      "delijan,136399 found! Appending stats\n",
      "bathsheba,3374083 found! Appending stats\n",
      "sitka,5557293 found! Appending stats\n",
      "launceston,2160517 found! Appending stats\n",
      "acapulco,3533462 found! Appending stats\n",
      "marienburg,3092472 found! Appending stats\n",
      "cayenne,3382160 found! Appending stats\n",
      "labutta not found! NaN\n",
      "mys shmidta not found! NaN\n",
      "katsuura,2112309 found! Appending stats\n",
      "rocha,3440777 found! Appending stats\n",
      "margate,2643044 found! Appending stats\n",
      "belaya gora,2126785 found! Appending stats\n",
      "yerbogachen,2012956 found! Appending stats\n",
      "nokaneng,933211 found! Appending stats\n",
      "hermanus,3366880 found! Appending stats\n",
      "mar del plata,3430863 found! Appending stats\n",
      "port-gentil,2396518 found! Appending stats\n",
      "champawat,1274824 found! Appending stats\n",
      "kaeo,2189343 found! Appending stats\n",
      "broken hill,2173911 found! Appending stats\n",
      "canico,2270258 found! Appending stats\n",
      "kurud,1265472 found! Appending stats\n",
      "longyearbyen,2729907 found! Appending stats\n",
      "vestmannaeyjar,3412093 found! Appending stats\n",
      "puerto ayora,3652764 found! Appending stats\n",
      "atambua,1651103 found! Appending stats\n",
      "presidencia roque saenz pena,3840300 found! Appending stats\n",
      "norman wells,6089245 found! Appending stats\n",
      "oudtshoorn,967106 found! Appending stats\n",
      "polovinnoye,1494523 found! Appending stats\n",
      "yulara,6355222 found! Appending stats\n",
      "hobart,2163355 found! Appending stats\n",
      "luderitz,3355672 found! Appending stats\n",
      "troitsko-pechorsk,481548 found! Appending stats\n",
      "orotina,3622660 found! Appending stats\n",
      "port-cartier,6111696 found! Appending stats\n",
      "buqayq not found! NaN\n",
      "krasnoselkup,1502073 found! Appending stats\n",
      "milos,256952 found! Appending stats\n",
      "talnakh,1490256 found! Appending stats\n",
      "vila velha,3445026 found! Appending stats\n",
      "edd,338345 found! Appending stats\n",
      "abu samrah,172515 found! Appending stats\n",
      "faanui,4034551 found! Appending stats\n",
      "la arena,3693528 found! Appending stats\n",
      "hasaki,2112802 found! Appending stats\n",
      "saint-joseph,6690296 found! Appending stats\n",
      "trelew,3833883 found! Appending stats\n",
      "obala,2223293 found! Appending stats\n",
      "padang,1633419 found! Appending stats\n",
      "sindor,492860 found! Appending stats\n",
      "butaritari,2110227 found! Appending stats\n",
      "chapais,5919850 found! Appending stats\n",
      "inhambane,1045114 found! Appending stats\n",
      "kamenka,553766 found! Appending stats\n",
      "high prairie,5975034 found! Appending stats\n",
      "awjilah,88533 found! Appending stats\n",
      "cockburn town,3576994 found! Appending stats\n",
      "mino,1857046 found! Appending stats\n",
      "tessalit,2449893 found! Appending stats\n",
      "warqla not found! NaN\n",
      "bayir,304183 found! Appending stats\n",
      "dovers,3577911 found! Appending stats\n",
      "umzimvubu not found! NaN\n",
      "iqaluit,5983720 found! Appending stats\n",
      "vardo,777019 found! Appending stats\n",
      "adrar,2381972 found! Appending stats\n",
      "bagdarin,2027244 found! Appending stats\n",
      "abeche,245785 found! Appending stats\n",
      "jardim,3460087 found! Appending stats\n",
      "sorong,1626542 found! Appending stats\n",
      "barreirinhas,3406196 found! Appending stats\n",
      "san angelo,5530022 found! Appending stats\n",
      "tasiilaq,3424607 found! Appending stats\n",
      "igrim,1505965 found! Appending stats\n",
      "hay river,5972762 found! Appending stats\n",
      "ahipara,2194098 found! Appending stats\n",
      "madang,2091996 found! Appending stats\n",
      "poroszlo,716339 found! Appending stats\n",
      "pozo colorado,3437443 found! Appending stats\n",
      "kailua,5847486 found! Appending stats\n"
     ]
    },
    {
     "name": "stdout",
     "output_type": "stream",
     "text": [
      "kuruman,986134 found! Appending stats\n",
      "upernavik,3418910 found! Appending stats\n",
      "palabuhanratu not found! NaN\n",
      "mbini,2308278 found! Appending stats\n",
      "sao filipe,3374210 found! Appending stats\n",
      "castro,3466704 found! Appending stats\n",
      "kavieng,2094342 found! Appending stats\n",
      "sao felix do xingu,3388847 found! Appending stats\n",
      "hualmay,3939761 found! Appending stats\n",
      "airai,1651810 found! Appending stats\n",
      "austin,4671654 found! Appending stats\n",
      "tandil,3427833 found! Appending stats\n",
      "altay,1529651 found! Appending stats\n",
      "paso de carrasco,3441292 found! Appending stats\n",
      "igarka,1505991 found! Appending stats\n",
      "kuche not found! NaN\n",
      "solnechnyy,2016307 found! Appending stats\n",
      "port hedland,2063042 found! Appending stats\n",
      "silva jardim,3447591 found! Appending stats\n",
      "kerema,2094144 found! Appending stats\n",
      "saint anthony,5044290 found! Appending stats\n",
      "college,5859699 found! Appending stats\n",
      "namatanai,2090021 found! Appending stats\n",
      "samusu not found! NaN\n",
      "ancud,3899695 found! Appending stats\n",
      "kandrian,2094746 found! Appending stats\n",
      "mrirt not found! NaN\n",
      "abu kamal,174448 found! Appending stats\n",
      "mocuba,1024312 found! Appending stats\n",
      "ambilobe,1082243 found! Appending stats\n",
      "brae,2654970 found! Appending stats\n",
      "saleaula not found! NaN\n",
      "pyu,1298911 found! Appending stats\n",
      "hamilton,4513583 found! Appending stats\n",
      "dhidhdhoo,1337612 found! Appending stats\n",
      "tura,1254046 found! Appending stats\n",
      "ende,1644932 found! Appending stats\n",
      "kodiak,5866583 found! Appending stats\n",
      "sofiysk not found! NaN\n",
      "mozarlandia,3456642 found! Appending stats\n",
      "marsh harbour,3571913 found! Appending stats\n",
      "tuni,1254054 found! Appending stats\n",
      "san vicente,3428068 found! Appending stats\n",
      "havoysund,779622 found! Appending stats\n",
      "caravelas,3466980 found! Appending stats\n",
      "angoram,2100765 found! Appending stats\n",
      "sao paulo de olivenca,3662252 found! Appending stats\n",
      "attawapiskat not found! NaN\n",
      "pacific grove,5380437 found! Appending stats\n",
      "kunyang,1804645 found! Appending stats\n",
      "nioro,2412408 found! Appending stats\n",
      "placido de castro,3924895 found! Appending stats\n",
      "montelimar,2992703 found! Appending stats\n",
      "shimoda,1852357 found! Appending stats\n",
      "taseyevo,1490058 found! Appending stats\n",
      "sibut,2383119 found! Appending stats\n",
      "rawson,3839307 found! Appending stats\n",
      "beringovskiy,2126710 found! Appending stats\n",
      "pirgos,261814 found! Appending stats\n",
      "pangnirtung,6096551 found! Appending stats\n",
      "guerrero negro,4021858 found! Appending stats\n",
      "goderich,5962442 found! Appending stats\n",
      "stornoway,2636790 found! Appending stats\n",
      "rio grande,3451138 found! Appending stats\n",
      "chernyshevskiy,2025456 found! Appending stats\n",
      "khutar,1266596 found! Appending stats\n",
      "sumbe,3346015 found! Appending stats\n",
      "san patricio,4726521 found! Appending stats\n",
      "laguna,5364271 found! Appending stats\n",
      "murwillumbah,2156049 found! Appending stats\n",
      "adeje,2522437 found! Appending stats\n",
      "lotung not found! NaN\n",
      "los llanos de aridane,2514651 found! Appending stats\n",
      "mount isa,2065594 found! Appending stats\n",
      "creston,4853078 found! Appending stats\n",
      "svetlogorsk,10722858 found! Appending stats\n",
      "shaowu,1795857 found! Appending stats\n",
      "qianan,2035410 found! Appending stats\n",
      "callaway,4149635 found! Appending stats\n",
      "penzance,2640377 found! Appending stats\n",
      "zhoucheng,1920772 found! Appending stats\n",
      "trairi,3386177 found! Appending stats\n",
      "constitucion,3893726 found! Appending stats\n",
      "grand bank,5964230 found! Appending stats\n",
      "port moresby,2088122 found! Appending stats\n",
      "areosa,2742765 found! Appending stats\n",
      "sinnamary,3380290 found! Appending stats\n",
      "riyadh,108410 found! Appending stats\n",
      "salina,4278890 found! Appending stats\n",
      "ngukurr not found! NaN\n",
      "port antonio,3489005 found! Appending stats\n",
      "palmer,4946620 found! Appending stats\n",
      "plettenberg bay,964712 found! Appending stats\n",
      "two hills,6171332 found! Appending stats\n",
      "tasbuget not found! NaN\n",
      "dabat,340358 found! Appending stats\n",
      "ballina,2177069 found! Appending stats\n",
      "lebu,3883457 found! Appending stats\n",
      "at-bashi,1528796 found! Appending stats\n",
      "bambous virieux,1106677 found! Appending stats\n",
      "thinadhoo,1337610 found! Appending stats\n",
      "bhadasar,1276355 found! Appending stats\n",
      "pangody,1495626 found! Appending stats\n",
      "vallenar,3868633 found! Appending stats\n",
      "ust-kalmanka,1488200 found! Appending stats\n",
      "huarmey,3939168 found! Appending stats\n",
      "puerto del rosario,2512186 found! Appending stats\n",
      "portland,5746545 found! Appending stats\n",
      "lagunas,3695844 found! Appending stats\n",
      "kimbe,2093967 found! Appending stats\n",
      "toliary not found! NaN\n",
      "korla,1529376 found! Appending stats\n",
      "ruston,4339348 found! Appending stats\n",
      "codrington,2171099 found! Appending stats\n",
      "port blair,1259385 found! Appending stats\n",
      "coihaique,3894426 found! Appending stats\n",
      "chumikan,2025256 found! Appending stats\n",
      "yellowknife,6185377 found! Appending stats\n",
      "vanimo,2084442 found! Appending stats\n",
      "touros,3386213 found! Appending stats\n",
      "barentsburg not found! NaN\n",
      "nikolskoye,546105 found! Appending stats\n",
      "sorvag not found! NaN\n",
      "tezu,1254709 found! Appending stats\n",
      "westport,4845585 found! Appending stats\n",
      "lincoln,5072006 found! Appending stats\n",
      "barbar not found! NaN\n",
      "tvedestrand,3133681 found! Appending stats\n",
      "dubai,292223 found! Appending stats\n",
      "lata,2738381 found! Appending stats\n",
      "quartucciu,2523666 found! Appending stats\n",
      "udachnyy,2014624 found! Appending stats\n",
      "timmins,6166739 found! Appending stats\n",
      "seoul,1835848 found! Appending stats\n",
      "tuatapere,2180815 found! Appending stats\n",
      "rock springs,5836898 found! Appending stats\n",
      "ulagan,1488048 found! Appending stats\n",
      "nizhneyansk not found! NaN\n",
      "balakhninskiy,2027196 found! Appending stats\n",
      "nara,1855612 found! Appending stats\n",
      "akyab,1295765 found! Appending stats\n",
      "rio tuba,1691703 found! Appending stats\n",
      "nayoro,2128983 found! Appending stats\n",
      "olga,2018553 found! Appending stats\n",
      "marsabit,187585 found! Appending stats\n",
      "buluang,1722803 found! Appending stats\n",
      "ruthin,2638925 found! Appending stats\n",
      "alassio,3183366 found! Appending stats\n",
      "kuala lipis,1733023 found! Appending stats\n",
      "ostrovnoy,556268 found! Appending stats\n",
      "hunza not found! NaN\n",
      "nguiu not found! NaN\n",
      "phan thiet,1571058 found! Appending stats\n",
      "poum,2138555 found! Appending stats\n",
      "tyniste nad orlici,3063797 found! Appending stats\n",
      "sobolevo,525426 found! Appending stats\n",
      "berdigestyakh,2026861 found! Appending stats\n",
      "villarrica,3436714 found! Appending stats\n",
      "thanh hoa,1566166 found! Appending stats\n",
      "wittstock,2807201 found! Appending stats\n",
      "belmonte,3470137 found! Appending stats\n",
      "labuhan,8079926 found! Appending stats\n",
      "tual,1623197 found! Appending stats\n",
      "kruisfontein,986717 found! Appending stats\n",
      "sakakah,102527 found! Appending stats\n",
      "kiama,2161515 found! Appending stats\n",
      "batie,2362669 found! Appending stats\n",
      "northam,2641434 found! Appending stats\n",
      "itarema,3393692 found! Appending stats\n",
      "matara,1235846 found! Appending stats\n",
      "te anau,2181625 found! Appending stats\n",
      "qaqortoq,3420846 found! Appending stats\n",
      "camden,4501019 found! Appending stats\n",
      "bilma,2446796 found! Appending stats\n",
      "beloha,1067565 found! Appending stats\n",
      "bima,1648759 found! Appending stats\n",
      "umba,479071 found! Appending stats\n",
      "puri,1259184 found! Appending stats\n",
      "skalistyy not found! NaN\n",
      "roebourne,2062276 found! Appending stats\n",
      "isabela,1710519 found! Appending stats\n",
      "kalianget,1641977 found! Appending stats\n",
      "mayo,4362001 found! Appending stats\n",
      "kloulklubed,7671223 found! Appending stats\n",
      "carballo,3126369 found! Appending stats\n",
      "nandyal,1261927 found! Appending stats\n",
      "new ulm,5039173 found! Appending stats\n",
      "henties bay,3356832 found! Appending stats\n",
      "okha,2122614 found! Appending stats\n",
      "ankazobe,1072849 found! Appending stats\n",
      "paraiso,3622547 found! Appending stats\n",
      "ketchikan,5554428 found! Appending stats\n",
      "dong hoi,1582886 found! Appending stats\n",
      "bur gabo not found! NaN\n",
      "vage,3133027 found! Appending stats\n",
      "panama city,3703443 found! Appending stats\n",
      "namibe,3347019 found! Appending stats\n",
      "vanavara,2013727 found! Appending stats\n",
      "candido de abreu,3467545 found! Appending stats\n",
      "manaus,3663517 found! Appending stats\n",
      "dauriya,2025099 found! Appending stats\n",
      "chimore,3920736 found! Appending stats\n",
      "riohacha,3670745 found! Appending stats\n",
      "komsomolskiy,1513491 found! Appending stats\n",
      "ilulissat,3423146 found! Appending stats\n",
      "vytegra,469960 found! Appending stats\n",
      "matanzas,3547398 found! Appending stats\n",
      "guozhen,1809263 found! Appending stats\n",
      "del rio,5520076 found! Appending stats\n",
      "sao joao de pirabas,3388626 found! Appending stats\n",
      "salalah,286621 found! Appending stats\n",
      "maragogi,3395458 found! Appending stats\n",
      "kahului,5847411 found! Appending stats\n",
      "naryan-mar,523392 found! Appending stats\n"
     ]
    },
    {
     "name": "stdout",
     "output_type": "stream",
     "text": [
      "merauke,2082539 found! Appending stats\n",
      "kaura namoda,2334756 found! Appending stats\n",
      "olafsvik,3414079 found! Appending stats\n",
      "marcona not found! NaN\n",
      "kamiiso,2129766 found! Appending stats\n",
      "fort nelson,5955902 found! Appending stats\n",
      "bilibino,2126682 found! Appending stats\n",
      "conceicao do mato dentro,3465745 found! Appending stats\n",
      "amapa,3407762 found! Appending stats\n",
      "alpena,4984075 found! Appending stats\n",
      "do gonbadan,136014 found! Appending stats\n",
      "rosetown,6127749 found! Appending stats\n",
      "dunedin,2191562 found! Appending stats\n",
      "yaan,2338660 found! Appending stats\n",
      "bad freienwalde,2953458 found! Appending stats\n",
      "puerto colombia,3671497 found! Appending stats\n",
      "gwadar,1177446 found! Appending stats\n",
      "nampula,1033356 found! Appending stats\n",
      "pitimbu,3391889 found! Appending stats\n",
      "sao geraldo do araguaia,3388760 found! Appending stats\n",
      "santa vitoria do palmar,3449747 found! Appending stats\n",
      "bonavista,5905393 found! Appending stats\n",
      "port augusta,2063056 found! Appending stats\n",
      "ciudad bolivar,3645532 found! Appending stats\n",
      "brorup,2623321 found! Appending stats\n",
      "corrientes,3435217 found! Appending stats\n",
      "ippy,238566 found! Appending stats\n",
      "gillette,5826027 found! Appending stats\n",
      "kushmurun,1519924 found! Appending stats\n",
      "zaozerne,687726 found! Appending stats\n",
      "winnemucca,5710360 found! Appending stats\n",
      "myitkyina,1307741 found! Appending stats\n",
      "tocopilla,3869716 found! Appending stats\n",
      "kodino,546742 found! Appending stats\n",
      "thompson,6165406 found! Appending stats\n",
      "bolobo,2316748 found! Appending stats\n",
      "tinos,252854 found! Appending stats\n",
      "belyy yar,1510377 found! Appending stats\n",
      "nikel,522260 found! Appending stats\n",
      "miri,1738050 found! Appending stats\n",
      "wencheng,1791539 found! Appending stats\n",
      "emerald,2167426 found! Appending stats\n",
      "comodoro rivadavia,3860443 found! Appending stats\n",
      "tomatlan,3981391 found! Appending stats\n",
      "hauterive,3013748 found! Appending stats\n",
      "moussoro,2427336 found! Appending stats\n",
      "acandi,3690572 found! Appending stats\n",
      "jiangyou,1885823 found! Appending stats\n",
      "calvinia,3369174 found! Appending stats\n",
      "juruti,3396979 found! Appending stats\n",
      "santa maria da boa vista,3389462 found! Appending stats\n",
      "cabedelo,3404558 found! Appending stats\n",
      "constantine,2501152 found! Appending stats\n",
      "ust-kamchatsk not found! NaN\n",
      "sisimiut,3419842 found! Appending stats\n",
      "frontera,3980180 found! Appending stats\n",
      "sile,739636 found! Appending stats\n",
      "leningradskiy,2123814 found! Appending stats\n",
      "karamken not found! NaN\n",
      "panjwin not found! NaN\n",
      "narrabri,2155742 found! Appending stats\n",
      "muros,3115824 found! Appending stats\n",
      "bolungarvik not found! NaN\n",
      "chipinge,893549 found! Appending stats\n",
      "babanusah not found! NaN\n",
      "manggar,1636426 found! Appending stats\n",
      "ust-nera,2120048 found! Appending stats\n",
      "kirakira,2178753 found! Appending stats\n",
      "waingapu,1622318 found! Appending stats\n",
      "menongue,3347353 found! Appending stats\n",
      "el balyana not found! NaN\n",
      "vrangel,2013258 found! Appending stats\n",
      "les cayes,3728097 found! Appending stats\n",
      "rameswaram,1258698 found! Appending stats\n",
      "vero beach,4176409 found! Appending stats\n",
      "coahuayana,4013679 found! Appending stats\n",
      "shuya,493231 found! Appending stats\n",
      "redmond,5808079 found! Appending stats\n",
      "cabildo,3863596 found! Appending stats\n",
      "deputatskiy,2028164 found! Appending stats\n",
      "villaviciosa,3104707 found! Appending stats\n",
      "alyangula,2079582 found! Appending stats\n",
      "stoyba not found! NaN\n",
      "nishihara,1855342 found! Appending stats\n",
      "hami,1529484 found! Appending stats\n",
      "guatire,3639898 found! Appending stats\n",
      "iwanai,2129868 found! Appending stats\n",
      "kununurra,2068110 found! Appending stats\n",
      "akdepe,601551 found! Appending stats\n",
      "batangafo,2389691 found! Appending stats\n",
      "fare,4034496 found! Appending stats\n",
      "sibolga,1213855 found! Appending stats\n",
      "kachug,2023333 found! Appending stats\n",
      "warmbad,3352263 found! Appending stats\n",
      "kleck not found! NaN\n",
      "sangar,2017215 found! Appending stats\n",
      "santiago del estero,3835869 found! Appending stats\n",
      "kilindoni,157429 found! Appending stats\n",
      "wahran not found! NaN\n",
      "gizo,2108857 found! Appending stats\n",
      "srednekolymsk,2121025 found! Appending stats\n",
      "dongli,1812381 found! Appending stats\n",
      "sars,498501 found! Appending stats\n",
      "batemans bay,2176639 found! Appending stats\n",
      "pacifica,5380420 found! Appending stats\n",
      "boende,218680 found! Appending stats\n",
      "hermon,4966992 found! Appending stats\n",
      "ostersund,2685750 found! Appending stats\n",
      "lake cowichan,6048316 found! Appending stats\n",
      "shieli,1524801 found! Appending stats\n",
      "malkangiri,1264075 found! Appending stats\n",
      "clearwater,4151316 found! Appending stats\n",
      "lorengau,2092164 found! Appending stats\n",
      "yarada,1252783 found! Appending stats\n",
      "tengzhou,1793036 found! Appending stats\n",
      "iquitos,3696183 found! Appending stats\n",
      "maraa,3663475 found! Appending stats\n",
      "hendijan not found! NaN\n",
      "parauna,3455020 found! Appending stats\n",
      "yurgamysh,1485721 found! Appending stats\n",
      "agustin codazzi,3792383 found! Appending stats\n",
      "kathu,1153035 found! Appending stats\n",
      "agva not found! NaN\n",
      "wajir,178443 found! Appending stats\n",
      "ust-tsilma,477940 found! Appending stats\n",
      "moranbah,6533368 found! Appending stats\n",
      "yerofey pavlovich,2012938 found! Appending stats\n",
      "red wing,5042773 found! Appending stats\n",
      "leh,1264976 found! Appending stats\n",
      "taoudenni,2450173 found! Appending stats\n",
      "whitehorse,6180550 found! Appending stats\n",
      "oktyabrskiy,515879 found! Appending stats\n",
      "bahia blanca,3865086 found! Appending stats\n",
      "san quintin,3984997 found! Appending stats\n",
      "harper,2276492 found! Appending stats\n",
      "nizhnyaya pavlovka not found! NaN\n",
      "berbera,64435 found! Appending stats\n",
      "taveta,179525 found! Appending stats\n",
      "camacha,2270385 found! Appending stats\n",
      "rocky mountain house,6126749 found! Appending stats\n",
      "galiwinku not found! NaN\n",
      "kamina,214614 found! Appending stats\n",
      "pahrump,5509851 found! Appending stats\n",
      "puerto escondido,3520994 found! Appending stats\n",
      "roberval,6125653 found! Appending stats\n",
      "satitoa not found! NaN\n",
      "majene,1636806 found! Appending stats\n",
      "nome,5870133 found! Appending stats\n",
      "manta,3654410 found! Appending stats\n",
      "grand river south east not found! NaN\n",
      "marquette,5000950 found! Appending stats\n",
      "chokwe,1048364 found! Appending stats\n",
      "salta,3838233 found! Appending stats\n",
      "mezhdurechensk,1498920 found! Appending stats\n",
      "nemuro,2128975 found! Appending stats\n",
      "road town,3577430 found! Appending stats\n",
      "eyl,60019 found! Appending stats\n",
      "nhulunbuy,2064735 found! Appending stats\n",
      "gardabani,614575 found! Appending stats\n",
      "yar-sale,1486321 found! Appending stats\n",
      "alice springs,2077895 found! Appending stats\n",
      "saint-augustin,6137462 found! Appending stats\n",
      "sabang,1214026 found! Appending stats\n",
      "flinders,6255012 found! Appending stats\n",
      "port hardy,6111862 found! Appending stats\n",
      "alta floresta,6316343 found! Appending stats\n",
      "groningen,2755249 found! Appending stats\n",
      "shingu,1847947 found! Appending stats\n",
      "finschhafen,2097418 found! Appending stats\n",
      "verkhniy baskunchak,475196 found! Appending stats\n",
      "pueblo nuevo,4007676 found! Appending stats\n",
      "ternate,1624041 found! Appending stats\n",
      "toftir not found! NaN\n",
      "san rafael,3836669 found! Appending stats\n",
      "inuvik,5983607 found! Appending stats\n",
      "baruun-urt,2032614 found! Appending stats\n",
      "ruatoria not found! NaN\n",
      "wakkanai,2127515 found! Appending stats\n",
      "kautokeino,779330 found! Appending stats\n",
      "narsaq,3421719 found! Appending stats\n",
      "ballitoville,1021360 found! Appending stats\n",
      "san luis,3837056 found! Appending stats\n",
      "sola,2134814 found! Appending stats\n",
      "fredericton,5957776 found! Appending stats\n",
      "vestmanna,2610343 found! Appending stats\n",
      "great falls,5655240 found! Appending stats\n",
      "okhotsk,2122605 found! Appending stats\n",
      "buala,2109528 found! Appending stats\n",
      "kitimat,5993072 found! Appending stats\n",
      "fuengirola,2517595 found! Appending stats\n",
      "pascagoula,4440397 found! Appending stats\n",
      "saint-marc-des-carrieres,6138719 found! Appending stats\n",
      "kuito,3348078 found! Appending stats\n",
      "kadaya,2023324 found! Appending stats\n",
      "kyra,2021041 found! Appending stats\n",
      "kaihua,1804874 found! Appending stats\n",
      "carmona,1718307 found! Appending stats\n",
      "prince rupert,6113406 found! Appending stats\n",
      "heihe,2036973 found! Appending stats\n"
     ]
    }
   ],
   "source": [
    "#set lists\n",
    "city_name = []\n",
    "city_id = []\n",
    "latitude = []\n",
    "longitude = []\n",
    "temperature = []\n",
    "humidity = []\n",
    "cloudiness = []\n",
    "wind_speed = []\n",
    "\n",
    "#loop through cities\n",
    "for city in cities:\n",
    "    \n",
    "    #query\n",
    "    city_data = requests.get(weather_url + city).json()\n",
    "    \n",
    "    try:\n",
    "        city_name.append(city_data['name'])\n",
    "        city_id.append(city_data[\"id\"])\n",
    "        latitude.append(city_data['coord']['lat'])\n",
    "        longitude.append(city_data['coord']['lon'])\n",
    "        temperature.append(city_data['main']['temp'])\n",
    "        humidity.append(city_data['main']['humidity'])\n",
    "        cloudiness.append(city_data['clouds']['all'])\n",
    "        wind_speed.append(city_data['wind']['speed'])\n",
    "        \n",
    "        print(f\"{city},{city_data['id']} found! Appending stats\")\n",
    "        \n",
    "    except:\n",
    "        #append null\n",
    "        print(f\"{city} not found! NaN\")\n",
    "        pass"
   ]
  },
  {
   "cell_type": "code",
   "execution_count": 40,
   "metadata": {
    "scrolled": true
   },
   "outputs": [
    {
     "data": {
      "text/html": [
       "<div>\n",
       "<style scoped>\n",
       "    .dataframe tbody tr th:only-of-type {\n",
       "        vertical-align: middle;\n",
       "    }\n",
       "\n",
       "    .dataframe tbody tr th {\n",
       "        vertical-align: top;\n",
       "    }\n",
       "\n",
       "    .dataframe thead th {\n",
       "        text-align: right;\n",
       "    }\n",
       "</style>\n",
       "<table border=\"1\" class=\"dataframe\">\n",
       "  <thead>\n",
       "    <tr style=\"text-align: right;\">\n",
       "      <th></th>\n",
       "      <th>City</th>\n",
       "      <th>City ID</th>\n",
       "      <th>Latitude</th>\n",
       "      <th>Longitude</th>\n",
       "      <th>temperature</th>\n",
       "      <th>humidity</th>\n",
       "      <th>cloudiness</th>\n",
       "      <th>wind speed</th>\n",
       "    </tr>\n",
       "  </thead>\n",
       "  <tbody>\n",
       "    <tr>\n",
       "      <th>0</th>\n",
       "      <td>Pochutla</td>\n",
       "      <td>3517970</td>\n",
       "      <td>15.7432</td>\n",
       "      <td>-96.4661</td>\n",
       "      <td>302.09</td>\n",
       "      <td>48</td>\n",
       "      <td>40</td>\n",
       "      <td>5.14</td>\n",
       "    </tr>\n",
       "    <tr>\n",
       "      <th>1</th>\n",
       "      <td>Hambantota</td>\n",
       "      <td>1244926</td>\n",
       "      <td>6.1241</td>\n",
       "      <td>81.1185</td>\n",
       "      <td>297.15</td>\n",
       "      <td>100</td>\n",
       "      <td>75</td>\n",
       "      <td>1.54</td>\n",
       "    </tr>\n",
       "    <tr>\n",
       "      <th>2</th>\n",
       "      <td>Ribeira Grande</td>\n",
       "      <td>3372707</td>\n",
       "      <td>38.5167</td>\n",
       "      <td>-28.7000</td>\n",
       "      <td>289.15</td>\n",
       "      <td>88</td>\n",
       "      <td>40</td>\n",
       "      <td>4.12</td>\n",
       "    </tr>\n",
       "    <tr>\n",
       "      <th>3</th>\n",
       "      <td>Puerto Baquerizo Moreno</td>\n",
       "      <td>3652758</td>\n",
       "      <td>-0.9000</td>\n",
       "      <td>-89.6000</td>\n",
       "      <td>300.15</td>\n",
       "      <td>83</td>\n",
       "      <td>40</td>\n",
       "      <td>7.72</td>\n",
       "    </tr>\n",
       "    <tr>\n",
       "      <th>4</th>\n",
       "      <td>Busselton</td>\n",
       "      <td>2075265</td>\n",
       "      <td>-33.6500</td>\n",
       "      <td>115.3333</td>\n",
       "      <td>286.43</td>\n",
       "      <td>71</td>\n",
       "      <td>99</td>\n",
       "      <td>0.89</td>\n",
       "    </tr>\n",
       "    <tr>\n",
       "      <th>...</th>\n",
       "      <td>...</td>\n",
       "      <td>...</td>\n",
       "      <td>...</td>\n",
       "      <td>...</td>\n",
       "      <td>...</td>\n",
       "      <td>...</td>\n",
       "      <td>...</td>\n",
       "      <td>...</td>\n",
       "    </tr>\n",
       "    <tr>\n",
       "      <th>561</th>\n",
       "      <td>Kyra</td>\n",
       "      <td>2021041</td>\n",
       "      <td>49.5776</td>\n",
       "      <td>111.9753</td>\n",
       "      <td>249.19</td>\n",
       "      <td>81</td>\n",
       "      <td>97</td>\n",
       "      <td>1.52</td>\n",
       "    </tr>\n",
       "    <tr>\n",
       "      <th>562</th>\n",
       "      <td>Kaihua</td>\n",
       "      <td>1804874</td>\n",
       "      <td>23.3687</td>\n",
       "      <td>104.2800</td>\n",
       "      <td>277.11</td>\n",
       "      <td>81</td>\n",
       "      <td>20</td>\n",
       "      <td>0.88</td>\n",
       "    </tr>\n",
       "    <tr>\n",
       "      <th>563</th>\n",
       "      <td>Carmona</td>\n",
       "      <td>1718307</td>\n",
       "      <td>14.3000</td>\n",
       "      <td>121.0167</td>\n",
       "      <td>296.68</td>\n",
       "      <td>83</td>\n",
       "      <td>20</td>\n",
       "      <td>0.51</td>\n",
       "    </tr>\n",
       "    <tr>\n",
       "      <th>564</th>\n",
       "      <td>Prince Rupert</td>\n",
       "      <td>6113406</td>\n",
       "      <td>54.3161</td>\n",
       "      <td>-130.3201</td>\n",
       "      <td>279.45</td>\n",
       "      <td>75</td>\n",
       "      <td>40</td>\n",
       "      <td>4.12</td>\n",
       "    </tr>\n",
       "    <tr>\n",
       "      <th>565</th>\n",
       "      <td>Heihe</td>\n",
       "      <td>2036973</td>\n",
       "      <td>50.2441</td>\n",
       "      <td>127.4902</td>\n",
       "      <td>246.15</td>\n",
       "      <td>76</td>\n",
       "      <td>0</td>\n",
       "      <td>2.00</td>\n",
       "    </tr>\n",
       "  </tbody>\n",
       "</table>\n",
       "<p>566 rows × 8 columns</p>\n",
       "</div>"
      ],
      "text/plain": [
       "                        City  City ID  Latitude  Longitude  temperature  \\\n",
       "0                   Pochutla  3517970   15.7432   -96.4661       302.09   \n",
       "1                 Hambantota  1244926    6.1241    81.1185       297.15   \n",
       "2             Ribeira Grande  3372707   38.5167   -28.7000       289.15   \n",
       "3    Puerto Baquerizo Moreno  3652758   -0.9000   -89.6000       300.15   \n",
       "4                  Busselton  2075265  -33.6500   115.3333       286.43   \n",
       "..                       ...      ...       ...        ...          ...   \n",
       "561                     Kyra  2021041   49.5776   111.9753       249.19   \n",
       "562                   Kaihua  1804874   23.3687   104.2800       277.11   \n",
       "563                  Carmona  1718307   14.3000   121.0167       296.68   \n",
       "564            Prince Rupert  6113406   54.3161  -130.3201       279.45   \n",
       "565                    Heihe  2036973   50.2441   127.4902       246.15   \n",
       "\n",
       "     humidity  cloudiness  wind speed  \n",
       "0          48          40        5.14  \n",
       "1         100          75        1.54  \n",
       "2          88          40        4.12  \n",
       "3          83          40        7.72  \n",
       "4          71          99        0.89  \n",
       "..        ...         ...         ...  \n",
       "561        81          97        1.52  \n",
       "562        81          20        0.88  \n",
       "563        83          20        0.51  \n",
       "564        75          40        4.12  \n",
       "565        76           0        2.00  \n",
       "\n",
       "[566 rows x 8 columns]"
      ]
     },
     "execution_count": 40,
     "metadata": {},
     "output_type": "execute_result"
    }
   ],
   "source": [
    "#df\n",
    "weather_data = pd.DataFrame({\"City\" : pd.Series(city_name),\n",
    "            \"City ID\" : pd.Series(city_id),\n",
    "            \"Latitude\" : pd.Series(latitude),\n",
    "            \"Longitude\" : pd.Series(longitude),\n",
    "            \"temperature\" : pd.Series(temperature),\n",
    "            \"humidity\" : pd.Series(humidity),\n",
    "            \"cloudiness\" : pd.Series(cloudiness),\n",
    "            \"wind speed\" : pd.Series(wind_speed)\n",
    "            })\n",
    "\n",
    "weather_data \n",
    "        \n"
   ]
  },
  {
   "cell_type": "markdown",
   "metadata": {},
   "source": [
    "### Convert Raw Data to DataFrame\n",
    "* Export the city data into a .csv.\n",
    "* Display the DataFrame"
   ]
  },
  {
   "cell_type": "code",
   "execution_count": null,
   "metadata": {},
   "outputs": [],
   "source": []
  },
  {
   "cell_type": "code",
   "execution_count": 41,
   "metadata": {},
   "outputs": [
    {
     "data": {
      "text/html": [
       "<div>\n",
       "<style scoped>\n",
       "    .dataframe tbody tr th:only-of-type {\n",
       "        vertical-align: middle;\n",
       "    }\n",
       "\n",
       "    .dataframe tbody tr th {\n",
       "        vertical-align: top;\n",
       "    }\n",
       "\n",
       "    .dataframe thead th {\n",
       "        text-align: right;\n",
       "    }\n",
       "</style>\n",
       "<table border=\"1\" class=\"dataframe\">\n",
       "  <thead>\n",
       "    <tr style=\"text-align: right;\">\n",
       "      <th></th>\n",
       "      <th>City</th>\n",
       "      <th>City ID</th>\n",
       "      <th>Latitude</th>\n",
       "      <th>Longitude</th>\n",
       "      <th>temperature</th>\n",
       "      <th>humidity</th>\n",
       "      <th>cloudiness</th>\n",
       "      <th>wind speed</th>\n",
       "    </tr>\n",
       "  </thead>\n",
       "  <tbody>\n",
       "    <tr>\n",
       "      <th>0</th>\n",
       "      <td>Pochutla</td>\n",
       "      <td>3517970</td>\n",
       "      <td>15.7432</td>\n",
       "      <td>-96.4661</td>\n",
       "      <td>302.09</td>\n",
       "      <td>48</td>\n",
       "      <td>40</td>\n",
       "      <td>5.14</td>\n",
       "    </tr>\n",
       "    <tr>\n",
       "      <th>1</th>\n",
       "      <td>Hambantota</td>\n",
       "      <td>1244926</td>\n",
       "      <td>6.1241</td>\n",
       "      <td>81.1185</td>\n",
       "      <td>297.15</td>\n",
       "      <td>100</td>\n",
       "      <td>75</td>\n",
       "      <td>1.54</td>\n",
       "    </tr>\n",
       "    <tr>\n",
       "      <th>2</th>\n",
       "      <td>Ribeira Grande</td>\n",
       "      <td>3372707</td>\n",
       "      <td>38.5167</td>\n",
       "      <td>-28.7000</td>\n",
       "      <td>289.15</td>\n",
       "      <td>88</td>\n",
       "      <td>40</td>\n",
       "      <td>4.12</td>\n",
       "    </tr>\n",
       "    <tr>\n",
       "      <th>3</th>\n",
       "      <td>Puerto Baquerizo Moreno</td>\n",
       "      <td>3652758</td>\n",
       "      <td>-0.9000</td>\n",
       "      <td>-89.6000</td>\n",
       "      <td>300.15</td>\n",
       "      <td>83</td>\n",
       "      <td>40</td>\n",
       "      <td>7.72</td>\n",
       "    </tr>\n",
       "    <tr>\n",
       "      <th>4</th>\n",
       "      <td>Busselton</td>\n",
       "      <td>2075265</td>\n",
       "      <td>-33.6500</td>\n",
       "      <td>115.3333</td>\n",
       "      <td>286.43</td>\n",
       "      <td>71</td>\n",
       "      <td>99</td>\n",
       "      <td>0.89</td>\n",
       "    </tr>\n",
       "  </tbody>\n",
       "</table>\n",
       "</div>"
      ],
      "text/plain": [
       "                      City  City ID  Latitude  Longitude  temperature  \\\n",
       "0                 Pochutla  3517970   15.7432   -96.4661       302.09   \n",
       "1               Hambantota  1244926    6.1241    81.1185       297.15   \n",
       "2           Ribeira Grande  3372707   38.5167   -28.7000       289.15   \n",
       "3  Puerto Baquerizo Moreno  3652758   -0.9000   -89.6000       300.15   \n",
       "4                Busselton  2075265  -33.6500   115.3333       286.43   \n",
       "\n",
       "   humidity  cloudiness  wind speed  \n",
       "0        48          40        5.14  \n",
       "1       100          75        1.54  \n",
       "2        88          40        4.12  \n",
       "3        83          40        7.72  \n",
       "4        71          99        0.89  "
      ]
     },
     "execution_count": 41,
     "metadata": {},
     "output_type": "execute_result"
    }
   ],
   "source": [
    "# Save the updated dataframe as a csv\n",
    "weather_data.to_csv(\"Resources/city_data.csv\", encoding=\"utf-8\", index=False)\n",
    "weather_data.head()"
   ]
  },
  {
   "cell_type": "markdown",
   "metadata": {},
   "source": [
    "## Inspect the data and remove the cities where the humidity > 100%.\n",
    "----\n",
    "Skip this step if there are no cities that have humidity > 100%. "
   ]
  },
  {
   "cell_type": "code",
   "execution_count": 42,
   "metadata": {},
   "outputs": [
    {
     "data": {
      "text/html": [
       "<div>\n",
       "<style scoped>\n",
       "    .dataframe tbody tr th:only-of-type {\n",
       "        vertical-align: middle;\n",
       "    }\n",
       "\n",
       "    .dataframe tbody tr th {\n",
       "        vertical-align: top;\n",
       "    }\n",
       "\n",
       "    .dataframe thead th {\n",
       "        text-align: right;\n",
       "    }\n",
       "</style>\n",
       "<table border=\"1\" class=\"dataframe\">\n",
       "  <thead>\n",
       "    <tr style=\"text-align: right;\">\n",
       "      <th></th>\n",
       "      <th>City</th>\n",
       "      <th>City ID</th>\n",
       "      <th>Latitude</th>\n",
       "      <th>Longitude</th>\n",
       "      <th>temperature</th>\n",
       "      <th>humidity</th>\n",
       "      <th>cloudiness</th>\n",
       "      <th>wind speed</th>\n",
       "    </tr>\n",
       "  </thead>\n",
       "  <tbody>\n",
       "    <tr>\n",
       "      <th>0</th>\n",
       "      <td>Pochutla</td>\n",
       "      <td>3517970</td>\n",
       "      <td>15.7432</td>\n",
       "      <td>-96.4661</td>\n",
       "      <td>302.09</td>\n",
       "      <td>48</td>\n",
       "      <td>40</td>\n",
       "      <td>5.14</td>\n",
       "    </tr>\n",
       "    <tr>\n",
       "      <th>2</th>\n",
       "      <td>Ribeira Grande</td>\n",
       "      <td>3372707</td>\n",
       "      <td>38.5167</td>\n",
       "      <td>-28.7000</td>\n",
       "      <td>289.15</td>\n",
       "      <td>88</td>\n",
       "      <td>40</td>\n",
       "      <td>4.12</td>\n",
       "    </tr>\n",
       "    <tr>\n",
       "      <th>3</th>\n",
       "      <td>Puerto Baquerizo Moreno</td>\n",
       "      <td>3652758</td>\n",
       "      <td>-0.9000</td>\n",
       "      <td>-89.6000</td>\n",
       "      <td>300.15</td>\n",
       "      <td>83</td>\n",
       "      <td>40</td>\n",
       "      <td>7.72</td>\n",
       "    </tr>\n",
       "    <tr>\n",
       "      <th>4</th>\n",
       "      <td>Busselton</td>\n",
       "      <td>2075265</td>\n",
       "      <td>-33.6500</td>\n",
       "      <td>115.3333</td>\n",
       "      <td>286.43</td>\n",
       "      <td>71</td>\n",
       "      <td>99</td>\n",
       "      <td>0.89</td>\n",
       "    </tr>\n",
       "    <tr>\n",
       "      <th>5</th>\n",
       "      <td>East London</td>\n",
       "      <td>1006984</td>\n",
       "      <td>-33.0153</td>\n",
       "      <td>27.9116</td>\n",
       "      <td>296.09</td>\n",
       "      <td>91</td>\n",
       "      <td>100</td>\n",
       "      <td>6.45</td>\n",
       "    </tr>\n",
       "    <tr>\n",
       "      <th>...</th>\n",
       "      <td>...</td>\n",
       "      <td>...</td>\n",
       "      <td>...</td>\n",
       "      <td>...</td>\n",
       "      <td>...</td>\n",
       "      <td>...</td>\n",
       "      <td>...</td>\n",
       "      <td>...</td>\n",
       "    </tr>\n",
       "    <tr>\n",
       "      <th>561</th>\n",
       "      <td>Kyra</td>\n",
       "      <td>2021041</td>\n",
       "      <td>49.5776</td>\n",
       "      <td>111.9753</td>\n",
       "      <td>249.19</td>\n",
       "      <td>81</td>\n",
       "      <td>97</td>\n",
       "      <td>1.52</td>\n",
       "    </tr>\n",
       "    <tr>\n",
       "      <th>562</th>\n",
       "      <td>Kaihua</td>\n",
       "      <td>1804874</td>\n",
       "      <td>23.3687</td>\n",
       "      <td>104.2800</td>\n",
       "      <td>277.11</td>\n",
       "      <td>81</td>\n",
       "      <td>20</td>\n",
       "      <td>0.88</td>\n",
       "    </tr>\n",
       "    <tr>\n",
       "      <th>563</th>\n",
       "      <td>Carmona</td>\n",
       "      <td>1718307</td>\n",
       "      <td>14.3000</td>\n",
       "      <td>121.0167</td>\n",
       "      <td>296.68</td>\n",
       "      <td>83</td>\n",
       "      <td>20</td>\n",
       "      <td>0.51</td>\n",
       "    </tr>\n",
       "    <tr>\n",
       "      <th>564</th>\n",
       "      <td>Prince Rupert</td>\n",
       "      <td>6113406</td>\n",
       "      <td>54.3161</td>\n",
       "      <td>-130.3201</td>\n",
       "      <td>279.45</td>\n",
       "      <td>75</td>\n",
       "      <td>40</td>\n",
       "      <td>4.12</td>\n",
       "    </tr>\n",
       "    <tr>\n",
       "      <th>565</th>\n",
       "      <td>Heihe</td>\n",
       "      <td>2036973</td>\n",
       "      <td>50.2441</td>\n",
       "      <td>127.4902</td>\n",
       "      <td>246.15</td>\n",
       "      <td>76</td>\n",
       "      <td>0</td>\n",
       "      <td>2.00</td>\n",
       "    </tr>\n",
       "  </tbody>\n",
       "</table>\n",
       "<p>552 rows × 8 columns</p>\n",
       "</div>"
      ],
      "text/plain": [
       "                        City  City ID  Latitude  Longitude  temperature  \\\n",
       "0                   Pochutla  3517970   15.7432   -96.4661       302.09   \n",
       "2             Ribeira Grande  3372707   38.5167   -28.7000       289.15   \n",
       "3    Puerto Baquerizo Moreno  3652758   -0.9000   -89.6000       300.15   \n",
       "4                  Busselton  2075265  -33.6500   115.3333       286.43   \n",
       "5                East London  1006984  -33.0153    27.9116       296.09   \n",
       "..                       ...      ...       ...        ...          ...   \n",
       "561                     Kyra  2021041   49.5776   111.9753       249.19   \n",
       "562                   Kaihua  1804874   23.3687   104.2800       277.11   \n",
       "563                  Carmona  1718307   14.3000   121.0167       296.68   \n",
       "564            Prince Rupert  6113406   54.3161  -130.3201       279.45   \n",
       "565                    Heihe  2036973   50.2441   127.4902       246.15   \n",
       "\n",
       "     humidity  cloudiness  wind speed  \n",
       "0          48          40        5.14  \n",
       "2          88          40        4.12  \n",
       "3          83          40        7.72  \n",
       "4          71          99        0.89  \n",
       "5          91         100        6.45  \n",
       "..        ...         ...         ...  \n",
       "561        81          97        1.52  \n",
       "562        81          20        0.88  \n",
       "563        83          20        0.51  \n",
       "564        75          40        4.12  \n",
       "565        76           0        2.00  \n",
       "\n",
       "[552 rows x 8 columns]"
      ]
     },
     "execution_count": 42,
     "metadata": {},
     "output_type": "execute_result"
    }
   ],
   "source": [
    "humidity_100 = weather_data.loc[weather_data[\"humidity\"] <100]\n",
    "humidity_100"
   ]
  },
  {
   "cell_type": "code",
   "execution_count": 43,
   "metadata": {},
   "outputs": [],
   "source": [
    "#  Get the indices of cities that have humidity over 100%.\n",
    "#index = humidity_100.index\n",
    "#index"
   ]
  },
  {
   "cell_type": "code",
   "execution_count": null,
   "metadata": {},
   "outputs": [],
   "source": [
    "# Make a new DataFrame equal to the city data to drop all humidity outliers by index.\n",
    "# Passing \"inplace=False\" will make a copy of the city_data DataFrame, which we call \"clean_city_data\".\n",
    "\n",
    "#clean_city_data = weather_data.dropna[(weather_data[\"humidity\"] != )]"
   ]
  },
  {
   "cell_type": "code",
   "execution_count": 22,
   "metadata": {
    "scrolled": true
   },
   "outputs": [
    {
     "data": {
      "text/plain": [
       "City            object\n",
       "City ID          int64\n",
       "Latitude       float64\n",
       "Longitude      float64\n",
       "temperature    float64\n",
       "humidity         int64\n",
       "cloudiness       int64\n",
       "wind speed     float64\n",
       "dtype: object"
      ]
     },
     "execution_count": 22,
     "metadata": {},
     "output_type": "execute_result"
    }
   ],
   "source": [
    "humidity_100.dtypes"
   ]
  },
  {
   "cell_type": "markdown",
   "metadata": {},
   "source": [
    "## Plotting the Data\n",
    "* Use proper labeling of the plots using plot titles (including date of analysis) and axes labels.\n",
    "* Save the plotted figures as .pngs."
   ]
  },
  {
   "cell_type": "markdown",
   "metadata": {},
   "source": [
    "## Latitude vs. Temperature Plot"
   ]
  },
  {
   "cell_type": "code",
   "execution_count": 44,
   "metadata": {
    "scrolled": true
   },
   "outputs": [
    {
     "data": {
      "image/png": "[encoded data removed]",
      "text/plain": [
       "<Figure size 576x576 with 1 Axes>"
      ]
     },
     "metadata": {
      "needs_background": "light"
     },
     "output_type": "display_data"
    }
   ],
   "source": [
    "humidity_100.plot(kind=\"scatter\", x=\"Latitude\", y=\"temperature\", grid=True, figsize=(8, 8),\n",
    "                  title=\"Latitude vs Temperature\")\n",
    "\n",
    "plt.savefig(\"Resources/LatvsTemp.png\")"
   ]
  },
  {
   "cell_type": "markdown",
   "metadata": {},
   "source": [
    "## Latitude vs. Humidity Plot"
   ]
  },
  {
   "cell_type": "code",
   "execution_count": 49,
   "metadata": {},
   "outputs": [
    {
     "data": {
      "image/png": "[encoded data removed]",
      "text/plain": [
       "<Figure size 576x576 with 1 Axes>"
      ]
     },
     "metadata": {
      "needs_background": "light"
     },
     "output_type": "display_data"
    }
   ],
   "source": [
    "humidity_100.plot(kind=\"scatter\", x=\"Latitude\", y=\"humidity\", grid=True, figsize=(8, 8),\n",
    "                  title=\"Latitude vs Humidity\")\n",
    "\n",
    "plt.savefig(\"Resources/LatvsHumid.png\")"
   ]
  },
  {
   "cell_type": "markdown",
   "metadata": {},
   "source": [
    "## Latitude vs. Cloudiness Plot"
   ]
  },
  {
   "cell_type": "code",
   "execution_count": 50,
   "metadata": {},
   "outputs": [
    {
     "data": {
      "image/png": "[encoded data removed]",
      "text/plain": [
       "<Figure size 576x576 with 1 Axes>"
      ]
     },
     "metadata": {
      "needs_background": "light"
     },
     "output_type": "display_data"
    }
   ],
   "source": [
    "humidity_100.plot(kind=\"scatter\", x=\"Latitude\", y=\"cloudiness\", grid=True, figsize=(8, 8),\n",
    "                  title=\"Latitude vs Cloudiness\")\n",
    "\n",
    "plt.savefig(\"Resources/LatvsCloud.png\")"
   ]
  },
  {
   "cell_type": "markdown",
   "metadata": {},
   "source": [
    "## Latitude vs. Wind Speed Plot"
   ]
  },
  {
   "cell_type": "code",
   "execution_count": 51,
   "metadata": {},
   "outputs": [
    {
     "data": {
      "image/png": "[encoded data removed]",
      "text/plain": [
       "<Figure size 576x576 with 1 Axes>"
      ]
     },
     "metadata": {
      "needs_background": "light"
     },
     "output_type": "display_data"
    }
   ],
   "source": [
    "humidity_100.plot(kind=\"scatter\", x=\"Latitude\", y=\"wind speed\", grid=True, figsize=(8, 8),\n",
    "                  title=\"Latitude vs Wind Speed\")\n",
    "\n",
    "plt.savefig(\"Resources/LatvsWind.png\")"
   ]
  },
  {
   "cell_type": "code",
   "execution_count": null,
   "metadata": {},
   "outputs": [],
   "source": []
  },
  {
   "cell_type": "markdown",
   "metadata": {},
   "source": [
    "## Linear Regression"
   ]
  },
  {
   "cell_type": "code",
   "execution_count": 48,
   "metadata": {},
   "outputs": [],
   "source": [
    "north_hem = humidity_100.loc[humidity_100[\"Latitude\"] >= 0]\n",
    "south_hem = humidity_100.loc[humidity_100[\"Latitude\"] < 0]"
   ]
  },
  {
   "cell_type": "markdown",
   "metadata": {},
   "source": [
    "####  Northern Hemisphere - Max Temp vs. Latitude Linear Regression"
   ]
  },
  {
   "cell_type": "code",
   "execution_count": 59,
   "metadata": {},
   "outputs": [
    {
     "name": "stdout",
     "output_type": "stream",
     "text": [
      "The r-squared is: 0.7370290358253949\n"
     ]
    },
    {
     "data": {
      "image/png": "[encoded data removed]",
      "text/plain": [
       "<Figure size 432x288 with 1 Axes>"
      ]
     },
     "metadata": {
      "needs_background": "light"
     },
     "output_type": "display_data"
    },
    {
     "data": {
      "text/plain": [
       "<Figure size 432x288 with 0 Axes>"
      ]
     },
     "metadata": {},
     "output_type": "display_data"
    }
   ],
   "source": [
    "# Add the linear regression equation and line to plot\n",
    "x_values = north_hem['Latitude']\n",
    "y_values = north_hem['temperature']\n",
    "\n",
    "#all of these calculations are formulated by 'linregress'\n",
    "(slope, intercept, rvalue, pvalue, stderr) = linregress(x_values, y_values)\n",
    "regress_values = x_values * slope + intercept\n",
    "line_eq = \"y = \" + str(round(slope,2)) + \"x + \" + str(round(intercept,2))\n",
    "\n",
    "plt.scatter(x_values,y_values)\n",
    "\n",
    "plt.plot(x_values,regress_values,\"r-\")\n",
    "plt.annotate(line_eq,(6,10),fontsize=15,color=\"red\")\n",
    "\n",
    "plt.xlabel('Latitude')\n",
    "plt.ylabel('Temperature (F)')\n",
    "plt.title('Temperature vs Latitude Northern Hemisphere')\n",
    "print(f\"The r-squared is: {rvalue**2}\")\n",
    "plt.show()\n",
    "\n",
    "plt.savefig(\"Resources/North_LatvsTemp_LinReg.png\")"
   ]
  },
  {
   "cell_type": "markdown",
   "metadata": {},
   "source": [
    "####  Southern Hemisphere - Max Temp vs. Latitude Linear Regression"
   ]
  },
  {
   "cell_type": "code",
   "execution_count": 58,
   "metadata": {},
   "outputs": [
    {
     "name": "stdout",
     "output_type": "stream",
     "text": [
      "The r-squared is: 0.2895834604002358\n"
     ]
    },
    {
     "data": {
      "image/png": "[encoded data removed]",
      "text/plain": [
       "<Figure size 432x288 with 1 Axes>"
      ]
     },
     "metadata": {
      "needs_background": "light"
     },
     "output_type": "display_data"
    },
    {
     "data": {
      "text/plain": [
       "<Figure size 432x288 with 0 Axes>"
      ]
     },
     "metadata": {},
     "output_type": "display_data"
    }
   ],
   "source": [
    "# Add the linear regression equation and line to plot\n",
    "x_values = south_hem['Latitude']\n",
    "y_values = south_hem['temperature']\n",
    "\n",
    "#all of these calculations are formulated by 'linregress'\n",
    "(slope, intercept, rvalue, pvalue, stderr) = linregress(x_values, y_values)\n",
    "regress_values = x_values * slope + intercept\n",
    "line_eq = \"y = \" + str(round(slope,2)) + \"x + \" + str(round(intercept,2))\n",
    "\n",
    "plt.scatter(x_values,y_values)\n",
    "\n",
    "plt.plot(x_values,regress_values,\"r-\")\n",
    "plt.annotate(line_eq,(6,10),fontsize=15,color=\"red\")\n",
    "\n",
    "plt.xlabel('Latitude')\n",
    "plt.ylabel('Temperature (F)')\n",
    "plt.title('Temperature vs Latitude Southern Hemisphere')\n",
    "print(f\"The r-squared is: {rvalue**2}\")\n",
    "plt.show()\n",
    "\n",
    "\n",
    "plt.savefig(\"Resources/South_LatvsTemp_LinReg.png\")"
   ]
  },
  {
   "cell_type": "markdown",
   "metadata": {},
   "source": [
    "####  Northern Hemisphere - Humidity (%) vs. Latitude Linear Regression"
   ]
  },
  {
   "cell_type": "code",
   "execution_count": 60,
   "metadata": {},
   "outputs": [
    {
     "name": "stdout",
     "output_type": "stream",
     "text": [
      "The r-squared is: 0.15597876820459136\n"
     ]
    },
    {
     "data": {
      "image/png": "[encoded data removed]",
      "text/plain": [
       "<Figure size 432x288 with 1 Axes>"
      ]
     },
     "metadata": {
      "needs_background": "light"
     },
     "output_type": "display_data"
    },
    {
     "data": {
      "text/plain": [
       "<Figure size 432x288 with 0 Axes>"
      ]
     },
     "metadata": {},
     "output_type": "display_data"
    }
   ],
   "source": [
    "# Add the linear regression equation and line to plot\n",
    "x_values = north_hem['Latitude']\n",
    "y_values = north_hem['humidity']\n",
    "\n",
    "#all of these calculations are formulated by 'linregress'\n",
    "(slope, intercept, rvalue, pvalue, stderr) = linregress(x_values, y_values)\n",
    "regress_values = x_values * slope + intercept\n",
    "line_eq = \"y = \" + str(round(slope,2)) + \"x + \" + str(round(intercept,2))\n",
    "\n",
    "plt.scatter(x_values,y_values)\n",
    "\n",
    "plt.plot(x_values,regress_values,\"r-\")\n",
    "plt.annotate(line_eq,(6,10),fontsize=15,color=\"red\")\n",
    "\n",
    "plt.xlabel('Latitude')\n",
    "plt.ylabel('Humidity (%))')\n",
    "plt.title('Humidity vs Latitude Northern Hemisphere')\n",
    "print(f\"The r-squared is: {rvalue**2}\")\n",
    "plt.show()\n",
    "\n",
    "plt.savefig(\"Resources/North_LatvsHumid_LinReg.png\")"
   ]
  },
  {
   "cell_type": "markdown",
   "metadata": {},
   "source": [
    "####  Southern Hemisphere - Humidity (%) vs. Latitude Linear Regression"
   ]
  },
  {
   "cell_type": "code",
   "execution_count": 61,
   "metadata": {},
   "outputs": [
    {
     "name": "stdout",
     "output_type": "stream",
     "text": [
      "The r-squared is: 0.2091487765638731\n"
     ]
    },
    {
     "data": {
      "image/png": "[encoded data removed]",
      "text/plain": [
       "<Figure size 432x288 with 1 Axes>"
      ]
     },
     "metadata": {
      "needs_background": "light"
     },
     "output_type": "display_data"
    },
    {
     "data": {
      "text/plain": [
       "<Figure size 432x288 with 0 Axes>"
      ]
     },
     "metadata": {},
     "output_type": "display_data"
    }
   ],
   "source": [
    "# Add the linear regression equation and line to plot\n",
    "x_values = south_hem['Latitude']\n",
    "y_values = south_hem['humidity']\n",
    "\n",
    "#all of these calculations are formulated by 'linregress'\n",
    "(slope, intercept, rvalue, pvalue, stderr) = linregress(x_values, y_values)\n",
    "regress_values = x_values * slope + intercept\n",
    "line_eq = \"y = \" + str(round(slope,2)) + \"x + \" + str(round(intercept,2))\n",
    "\n",
    "plt.scatter(x_values,y_values)\n",
    "\n",
    "plt.plot(x_values,regress_values,\"r-\")\n",
    "plt.annotate(line_eq,(6,10),fontsize=15,color=\"red\")\n",
    "\n",
    "plt.xlabel('Latitude')\n",
    "plt.ylabel('Humidity (%))')\n",
    "plt.title('Humidity vs Latitude Southern Hemisphere')\n",
    "print(f\"The r-squared is: {rvalue**2}\")\n",
    "plt.show()\n",
    "\n",
    "plt.savefig(\"Resources/South_LatvsHumid_LinReg.png\")"
   ]
  },
  {
   "cell_type": "markdown",
   "metadata": {},
   "source": [
    "####  Northern Hemisphere - Cloudiness (%) vs. Latitude Linear Regression"
   ]
  },
  {
   "cell_type": "code",
   "execution_count": 62,
   "metadata": {},
   "outputs": [
    {
     "name": "stdout",
     "output_type": "stream",
     "text": [
      "The r-squared is: 0.05170049883190792\n"
     ]
    },
    {
     "data": {
      "image/png": "[encoded data removed]",
      "text/plain": [
       "<Figure size 432x288 with 1 Axes>"
      ]
     },
     "metadata": {
      "needs_background": "light"
     },
     "output_type": "display_data"
    },
    {
     "data": {
      "text/plain": [
       "<Figure size 432x288 with 0 Axes>"
      ]
     },
     "metadata": {},
     "output_type": "display_data"
    }
   ],
   "source": [
    "x_values = north_hem['Latitude']\n",
    "y_values = north_hem['cloudiness']\n",
    "\n",
    "#all of these calculations are formulated by 'linregress'\n",
    "(slope, intercept, rvalue, pvalue, stderr) = linregress(x_values, y_values)\n",
    "regress_values = x_values * slope + intercept\n",
    "line_eq = \"y = \" + str(round(slope,2)) + \"x + \" + str(round(intercept,2))\n",
    "\n",
    "plt.scatter(x_values,y_values)\n",
    "\n",
    "plt.plot(x_values,regress_values,\"r-\")\n",
    "plt.annotate(line_eq,(6,10),fontsize=15,color=\"red\")\n",
    "\n",
    "plt.xlabel('Latitude')\n",
    "plt.ylabel('Cloudiness (%))')\n",
    "plt.title('Cloudiness vs Latitude Northern Hemisphere')\n",
    "print(f\"The r-squared is: {rvalue**2}\")\n",
    "plt.show()\n",
    "\n",
    "plt.savefig(\"Resources/North_LatvsCloud_LinReg.png\")"
   ]
  },
  {
   "cell_type": "markdown",
   "metadata": {},
   "source": [
    "####  Southern Hemisphere - Cloudiness (%) vs. Latitude Linear Regression"
   ]
  },
  {
   "cell_type": "code",
   "execution_count": 63,
   "metadata": {},
   "outputs": [
    {
     "name": "stdout",
     "output_type": "stream",
     "text": [
      "The r-squared is: 0.24174021067942392\n"
     ]
    },
    {
     "data": {
      "image/png": "[encoded data removed]",
      "text/plain": [
       "<Figure size 432x288 with 1 Axes>"
      ]
     },
     "metadata": {
      "needs_background": "light"
     },
     "output_type": "display_data"
    },
    {
     "data": {
      "text/plain": [
       "<Figure size 432x288 with 0 Axes>"
      ]
     },
     "metadata": {},
     "output_type": "display_data"
    }
   ],
   "source": [
    "x_values = south_hem['Latitude']\n",
    "y_values = south_hem['cloudiness']\n",
    "\n",
    "#all of these calculations are formulated by 'linregress'\n",
    "(slope, intercept, rvalue, pvalue, stderr) = linregress(x_values, y_values)\n",
    "regress_values = x_values * slope + intercept\n",
    "line_eq = \"y = \" + str(round(slope,2)) + \"x + \" + str(round(intercept,2))\n",
    "\n",
    "plt.scatter(x_values,y_values)\n",
    "\n",
    "plt.plot(x_values,regress_values,\"r-\")\n",
    "plt.annotate(line_eq,(6,10),fontsize=15,color=\"red\")\n",
    "\n",
    "plt.xlabel('Latitude')\n",
    "plt.ylabel('Cloudiness (%))')\n",
    "plt.title('Cloudiness vs Latitude Southern Hemisphere')\n",
    "print(f\"The r-squared is: {rvalue**2}\")\n",
    "plt.show()\n",
    "\n",
    "plt.savefig(\"Resources/South_LatvsCloud_LinReg.png\")"
   ]
  },
  {
   "cell_type": "markdown",
   "metadata": {},
   "source": [
    "####  Northern Hemisphere - Wind Speed (mph) vs. Latitude Linear Regression"
   ]
  },
  {
   "cell_type": "code",
   "execution_count": 64,
   "metadata": {},
   "outputs": [
    {
     "name": "stdout",
     "output_type": "stream",
     "text": [
      "The r-squared is: 0.0026578332902271857\n"
     ]
    },
    {
     "data": {
      "image/png": "[encoded data removed]",
      "text/plain": [
       "<Figure size 432x288 with 1 Axes>"
      ]
     },
     "metadata": {
      "needs_background": "light"
     },
     "output_type": "display_data"
    },
    {
     "data": {
      "text/plain": [
       "<Figure size 432x288 with 0 Axes>"
      ]
     },
     "metadata": {},
     "output_type": "display_data"
    }
   ],
   "source": [
    "x_values = north_hem['Latitude']\n",
    "y_values = north_hem['wind speed']\n",
    "\n",
    "#all of these calculations are formulated by 'linregress'\n",
    "(slope, intercept, rvalue, pvalue, stderr) = linregress(x_values, y_values)\n",
    "regress_values = x_values * slope + intercept\n",
    "line_eq = \"y = \" + str(round(slope,2)) + \"x + \" + str(round(intercept,2))\n",
    "\n",
    "plt.scatter(x_values,y_values)\n",
    "\n",
    "plt.plot(x_values,regress_values,\"r-\")\n",
    "plt.annotate(line_eq,(6,10),fontsize=15,color=\"red\")\n",
    "\n",
    "plt.xlabel('Latitude')\n",
    "plt.ylabel('Wind Speed (mph))')\n",
    "plt.title('Wind Speed vs Latitude Northern Hemisphere')\n",
    "print(f\"The r-squared is: {rvalue**2}\")\n",
    "plt.show()\n",
    "\n",
    "plt.savefig(\"Resources/North_LatvsWind_LinReg.png\")"
   ]
  },
  {
   "cell_type": "markdown",
   "metadata": {},
   "source": [
    "####  Southern Hemisphere - Wind Speed (mph) vs. Latitude Linear Regression"
   ]
  },
  {
   "cell_type": "code",
   "execution_count": 65,
   "metadata": {},
   "outputs": [
    {
     "name": "stdout",
     "output_type": "stream",
     "text": [
      "The r-squared is: 0.021629530817217895\n"
     ]
    },
    {
     "data": {
      "image/png": "[encoded data removed]",
      "text/plain": [
       "<Figure size 432x288 with 1 Axes>"
      ]
     },
     "metadata": {
      "needs_background": "light"
     },
     "output_type": "display_data"
    },
    {
     "data": {
      "text/plain": [
       "<Figure size 432x288 with 0 Axes>"
      ]
     },
     "metadata": {},
     "output_type": "display_data"
    }
   ],
   "source": [
    "x_values = south_hem['Latitude']\n",
    "y_values = south_hem['wind speed']\n",
    "\n",
    "#all of these calculations are formulated by 'linregress'\n",
    "(slope, intercept, rvalue, pvalue, stderr) = linregress(x_values, y_values)\n",
    "regress_values = x_values * slope + intercept\n",
    "line_eq = \"y = \" + str(round(slope,2)) + \"x + \" + str(round(intercept,2))\n",
    "\n",
    "plt.scatter(x_values,y_values)\n",
    "\n",
    "plt.plot(x_values,regress_values,\"r-\")\n",
    "plt.annotate(line_eq,(6,10),fontsize=15,color=\"red\")\n",
    "\n",
    "plt.xlabel('Latitude')\n",
    "plt.ylabel('Wind Speed (mph))')\n",
    "plt.title('Wind Speed vs Latitude Southern Hemisphere')\n",
    "print(f\"The r-squared is: {rvalue**2}\")\n",
    "plt.show()\n",
    "\n",
    "plt.savefig(\"Resources/South_LatvsWind_LinReg.png\")"
   ]
  },
  {
   "cell_type": "code",
   "execution_count": null,
   "metadata": {},
   "outputs": [],
   "source": []
  }
 ],
 "metadata": {
  "anaconda-cloud": {},
  "kernel_info": {
   "name": "python3"
  },
  "kernelspec": {
   "display_name": "Python 3",
   "language": "python",
   "name": "python3"
  },
  "language_info": {
   "codemirror_mode": {
    "name": "ipython",
    "version": 3
   },
   "file_extension": ".py",
   "mimetype": "text/x-python",
   "name": "python",
   "nbconvert_exporter": "python",
   "pygments_lexer": "ipython3",
   "version": "3.8.3"
  },
  "latex_envs": {
   "LaTeX_envs_menu_present": true,
   "autoclose": false,
   "autocomplete": true,
   "bibliofile": "biblio.bib",
   "cite_by": "apalike",
   "current_citInitial": 1,
   "eqLabelWithNumbers": true,
   "eqNumInitial": 1,
   "hotkeys": {
    "equation": "Ctrl-E",
    "itemize": "Ctrl-I"
   },
   "labels_anchors": false,
   "latex_user_defs": false,
   "report_style_numbering": false,
   "user_envs_cfg": false
  },
  "nteract": {
   "version": "0.12.3"
  }
 },
 "nbformat": 4,
 "nbformat_minor": 2
}
