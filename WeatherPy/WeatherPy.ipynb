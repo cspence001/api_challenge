{
 "cells": [
  {
   "cell_type": "markdown",
   "metadata": {},
   "source": [
    "# WeatherPy\n",
    "----\n",
    "\n",
    "#### Note\n",
    "* Instructions have been included for each segment. You do not have to follow them exactly, but they are included to help you think through the steps."
   ]
  },
  {
   "cell_type": "code",
   "execution_count": 1,
   "metadata": {},
   "outputs": [
    {
     "name": "stdout",
     "output_type": "stream",
     "text": [
      "Requirement already satisfied: citipy in /opt/anaconda3/lib/python3.8/site-packages (0.0.5)\n",
      "Requirement already satisfied: kdtree>=0.12 in /opt/anaconda3/lib/python3.8/site-packages (from citipy) (0.16)\n",
      "Note: you may need to restart the kernel to use updated packages.\n"
     ]
    }
   ],
   "source": [
    "pip install citipy"
   ]
  },
  {
   "cell_type": "code",
   "execution_count": 11,
   "metadata": {
    "scrolled": true
   },
   "outputs": [],
   "source": [
    "# Dependencies and Setup\n",
    "import matplotlib.pyplot as plt\n",
    "import pandas as pd\n",
    "import numpy as np\n",
    "import requests\n",
    "import time\n",
    "from scipy.stats import linregress\n",
    "\n",
    "# Import API key\n",
    "from api_keys import weather_api_key\n",
    "\n",
    "# Incorporated citipy to determine city based on latitude and longitude\n",
    "from citipy import citipy\n",
    "\n",
    "# Output File (CSV)\n",
    "output_data_file = \"Resources/cities.csv\"\n",
    "\n",
    "# Range of latitudes and longitudes\n",
    "lat_range = (-90, 90)\n",
    "lng_range = (-180, 180)"
   ]
  },
  {
   "cell_type": "markdown",
   "metadata": {},
   "source": [
    "## Generate Cities List"
   ]
  },
  {
   "cell_type": "code",
   "execution_count": 12,
   "metadata": {},
   "outputs": [
    {
     "data": {
      "text/plain": [
       "617"
      ]
     },
     "execution_count": 12,
     "metadata": {},
     "output_type": "execute_result"
    }
   ],
   "source": [
    "# List for holding lat_lngs and cities\n",
    "lat_lngs = []\n",
    "cities = []\n",
    "\n",
    "# Create a set of random lat and lng combinations\n",
    "lats = np.random.uniform(lat_range[0], lat_range[1], size=1500)\n",
    "lngs = np.random.uniform(lng_range[0], lng_range[1], size=1500)\n",
    "lat_lngs = zip(lats, lngs)\n",
    "\n",
    "# Identify nearest city for each lat, lng combination\n",
    "for lat_lng in lat_lngs:\n",
    "    city = citipy.nearest_city(lat_lng[0], lat_lng[1]).city_name\n",
    "    \n",
    "    # If the city is unique, then add it to a our cities list\n",
    "    if city not in cities:\n",
    "        cities.append(city)\n",
    "\n",
    "# Print the city count to confirm sufficient count\n",
    "len(cities)"
   ]
  },
  {
   "cell_type": "code",
   "execution_count": 13,
   "metadata": {},
   "outputs": [
    {
     "name": "stdout",
     "output_type": "stream",
     "text": [
      "['te anau', 'mataura', 'nanortalik', 'kapaa', 'hearst', 'qaanaaq', 'chokurdakh', 'new norfolk', 'cidreira', 'saldanha', 'jamestown', 'saint george', 'poum', 'avarua', 'magadan', 'narsaq', 'dagana', 'chodavaram', 'rikitea', 'vila franca do campo', 'port alfred', 'punta arenas', 'cape town', 'hobart', 'esmeraldas', 'hilo', 'eau claire', 'saint-philippe', 'bredasdorp', 'pokhara', 'tilichiki', 'padang', 'samusu', 'horki', 'cabo san lucas', 'bani walid', 'misratah', 'ushuaia', 'ixtapa', 'sept-iles', 'nizhneyansk', 'hithadhoo', 'luderitz', 'yellowknife', 'kiunga', 'attawapiskat', 'carnarvon', 'kegayli', 'kumba', 'sundsvall', 'belushya guba', 'fairbanks', 'kayalpattinam', 'bathsheba', 'saskylakh', 'petatlan', 'nouakchott', 'vaini', 'khatanga', 'uribia', 'codrington', 'karratha', 'tura', 'hambantota', 'victoria', 'xining', 'hermanus', 'mahanoro', 'grand river south east', 'killarney', 'arraial do cabo', 'barrow', 'chagda', 'busselton', 'ubinskoye', 'tarudant', 'blackwater', 'coban', 'upernavik', 'bluff', 'iqaluit', 'amderma', 'lebu', 'dumas', 'provideniya', 'the valley', 'port elizabeth', 'butaritari', 'marawi', 'thompson', 'nadym', 'bonavista', 'jertih', 'borujan', 'taolanaro', 'torbay', 'albany', 'phan rang', 'clyde river', 'hasaki', 'port lincoln', 'sitka', 'bambous virieux', 'san blas', 'chalus', 'kaitangata', 'illoqqortoormiut', 'banmo', 'souillac', 'port angeles', 'airai', 'adana', 'pleasanton', 'quatre cocos', 'kushima', 'naze', 'saint-joseph', 'palabuhanratu', 'laguna', 'mys shmidta', 'sadiqabad', 'dikson', 'lata', 'gari', 'bundaberg', 'las varas', 'port hedland', 'kiama', 'pontarlier', 'tasiilaq', 'avera', 'basqal', 'barentsburg', 'tuatapere', 'omboue', 'kodiak', 'sao filipe', 'faanui', 'zdvinsk', 'anchorage', 'ribeira grande', 'ban nahin', 'longyearbyen', 'fernley', 'susurluk', 'asenovgrad', 'kahului', 'evensk', 'waddan', 'bethel', 'hualmay', 'cuyo', 'aksha', 'filadelfia', 'abay', 'pevek', 'puerto ayora', 'podgornoye', 'georgetown', 'vaitupu', 'santa ines', 'hirata', 'castro', 'manjacaze', 'eldikan', 'pionki', 'sakakah', 'toora-khem', 'lakki marwat', 'aripuana', 'rocha', 'espanola', 'oxford', 'mahebourg', 'cherskiy', 'villa maria', 'riyadh', 'tsihombe', 'taltal', 'launceston', 'umzimvubu', 'alizai', 'bonthe', 'manggar', 'stara ves nad ondrejnici', 'svetlogorsk', 'nueve de julio', 'santa isabel do rio negro', 'helena', 'sharan', 'nemuro', 'jiaojiang', 'norman wells', 'biak', 'esperance', 'pasni', 'san jose', 'lichuan', 'ambon', 'guerrero negro', 'shush', 'lovozero', 'ozgon', 'labuan', 'zachagansk', 'kamenka', 'kailua', 'coihaique', 'nikolskoye', 'ancud', 'oistins', 'east london', 'umm bab', 'chipinge', 'katsuura', 'khasan', 'shamli', 'yaan', 'constitucion', 'kutum', 'lorengau', 'grafton', 'chuy', 'mananjary', 'tanshui', 'faya', 'chara', 'karaul', 'henties bay', 'ilulissat', 'bilma', 'redlands', 'novosokolniki', 'santa luzia', 'ilinskiy', 'kuche', 'new castle', 'mogadishu', 'burnie', 'vila velha', 'beringovskiy', 'yar-sale', 'ponta do sol', 'cayenne', 'severo-kurilsk', 'araouane', 'yerbogachen', 'progreso', 'ikom', 'gao', 'mavur', 'swan hill', 'nurota', 'tabiauea', 'brewster', 'bayanday', 'baturyn', 'dabakala', 'carbonear', 'show low', 'boatlaname', 'kampot', 'edson', 'tuktoyaktuk', 'bengkulu', 'makakilo city', 'san policarpo', 'curup', 'atuona', 'bam', 'saint-augustin', 'vostok', 'mar del plata', 'xiaoshi', 'taoudenni', 'verkhniye tatyshly', 'thessalon', 'hasanabad', 'sambava', 'birin', 'sentyabrskiy', 'fort nelson', 'nantucket', 'sechura', 'broken hill', 'morondava', 'tullow', 'chifeng', 'praia', 'grand gaube', 'vrede', 'tshikapa', 'roald', 'southbridge', 'nome', 'basco', 'stokmarknes', 'lienz', 'sisimiut', 'bandarban', 'yulara', 'hofn', 'klin', 'yatou', 'villarrica', 'devarkonda', 'okhotsk', 'freeport', 'mount gambier', 'passi', 'san cristobal', 'galle', 'ihosy', 'nouadhibou', 'los llanos de aridane', 'yarmouth', 'zhigansk', 'fukue', 'klaksvik', 'mackay', 'cholet', 'kieta', 'kruisfontein', 'praia da vitoria', 'morro bay', 'lavrentiya', 'leningradskiy', 'amarkantak', 'fortuna', 'sahrak', 'bubaque', 'buchanan', 'atar', 'srednekolymsk', 'zhangye', 'kalmunai', 'freetown', 'turukhansk', 'pacific grove', 'fuerte', 'salto', 'grand centre', 'durango', 'rincon', 'akyab', 'andenes', 'anadyr', 'nyurba', 'karoi', 'luau', 'ponta delgada', 'akola', 'palanga', 'yucca valley', 'haines junction', 'alyangula', 'namatanai', 'kavaratti', 'awjilah', 'yemtsa', 'lambarene', 'kudahuvadhoo', 'singaraja', 'plettenberg bay', 'edd', 'tuban', 'pozo colorado', 'porlamar', 'acapulco', 'lagoa', 'salinas', 'kloulklubed', 'merrill', 'aksu', 'pachino', 'iskateley', 'tocopilla', 'carutapera', 'panchgani', 'altay', 'bernalillo', 'muswellbrook', 'sao felix do xingu', 'umm lajj', 'alofi', 'geetbets', 'warragul', 'talcahuano', 'horconcitos', 'wamba', 'marcona', 'constantine', 'rio grande', 'ukiah', 'karamken', 'deputatskiy', 'portland', 'chapada dos guimaraes', 'semporna', 'oranjemund', 'fallingbostel', 'lompoc', 'kabo', 'ust-tsilma', 'port hardy', 'sioux lookout', 'klerksdorp', 'kondoa', 'asfi', 'kracheh', 'srandakan', 'elizabeth city', 'sangmelima', 'dingle', 'sola', 'nara', 'umtata', 'coquimbo', 'barranca', 'vestmannaeyjar', 'mount pleasant', 'nioro', 'nalbari', 'yumen', 'kupang', 'zhezkazgan', 'ahipara', 'ostrovnoy', 'vao', 'ulladulla', 'kommunisticheskiy', 'orocue', 'college', 'teguise', 'bur gabo', 'isangel', 'warqla', 'la palma', 'oksfjord', 'taihe', 'kyren', 'kyzyl', 'saint-gilles', 'takoradi', 'ingham', 'novozybkov', 'kavieng', 'sobinka', 'harper', 'navalmoral de la mata', 'elko', 'idukki', 'brownsville', 'mayo', 'gushikawa', 'la palma del condado', 'bilibino', 'mizdah', 'chinsali', 'husavik', 'half moon bay', 'jumla', 'aklavik', 'san ramon', 'vardo', 'richards bay', 'aktyubinskiy', 'paralimni', 'edmond', 'caracoli', 'hihifo', 'nuuk', 'aloleng', 'bolshaya glushitsa', 'port shepstone', 'baghdad', 'tiksi', 'sistranda', 'were ilu', 'toccoa', 'cranbrook', 'labuhan', 'mitsamiouli', 'rabo de peixe', 'siuna', 'russell', 'talnakh', 'taksimo', 'honiara', 'qiongshan', 'west wendover', 'ivanivka', 'chernyshevskiy', 'mragowo', 'amga', 'kamenskoye', 'tromso', 'lazaro cardenas', 'raudeberg', 'lar gerd', 'bekasi', 'mafinga', 'synya', 'san borja', 'san patricio', 'yakima', 'honningsvag', 'jalu', 'dunedin', 'sao miguel do oeste', 'iquitos', 'kargil', 'saleaula', 'eureka', 'nagorsk', 'abu kamal', 'felidhoo', 'cockburn town', 'diamantino', 'salalah', 'zherdevka', 'maniitsoq', 'matamoros', 'igrim', 'washington', 'matara', 'winslow', 'hamilton', 'oranjestad', 'trinidad', 'umm kaddadah', 'makat', 'montepuez', 'yamnytsya', 'mirabad', 'troy', 'mehamn', 'maragogi', 'bonito', 'el alto', 'illimo', 'smithers', 'port moresby', 'mangan', 'goderich', 'aberystwyth', 'vrangel', 'korla', 'pemberton', 'roma', 'touros', 'kirensk', 'sinjah', 'grenville', 'pangnirtung', 'colares', 'hobyo', 'tabou', 'jomalig', 'karaidel', 'aliaga', 'geraldton', 'santiago de chuco', 'dubenskiy', 'piranshahr', 'olga', 'rawannawi', 'salisbury', 'arauca', 'matveyevka', 'vakhrushev', 'pasan', 'yermekeyevo', 'carballo', 'santa maria', 'belmonte', 'tomakomai', 'kralendijk', 'cooma', 'shelburne', 'primo tapia', 'kozloduj', 'castelo do piaui', 'karkaralinsk', 'kapuskasing', 'san carlos de bariloche', 'bonfim', 'galesong', 'batemans bay', 'kaoma', 'sao joao da barra', 'hulan ergi', 'atasu', 'sur', 'canaries', 'peringat', 'praxedis guerrero', 'itoman', 'savannah bight', 'diffa', 'bardiyah', 'khuzdar', 'port macquarie', 'vila do maio', 'dolores', 'simbahan', 'mitchell', 'chapais', 'pascagoula', 'cintalapa', 'kemi', 'mount isa', 'geresk', 'zhob', 'formosa', 'tofield', 'krasnovishersk']\n"
     ]
    }
   ],
   "source": [
    "print(cities)"
   ]
  },
  {
   "cell_type": "markdown",
   "metadata": {},
   "source": [
    "### Perform API Calls\n",
    "* Perform a weather check on each city using a series of successive API calls.\n",
    "* Include a print log of each city as it'sbeing processed (with the city number and city name).\n"
   ]
  },
  {
   "cell_type": "code",
   "execution_count": 14,
   "metadata": {},
   "outputs": [
    {
     "name": "stdout",
     "output_type": "stream",
     "text": [
      "65e67b99df7e4d1a7b6d4e19ea6783d8\n"
     ]
    }
   ],
   "source": [
    "print(weather_api_key)"
   ]
  },
  {
   "cell_type": "code",
   "execution_count": 15,
   "metadata": {},
   "outputs": [
    {
     "data": {
      "text/plain": [
       "{'coord': {'lon': -124.1573, 'lat': 40.5982},\n",
       " 'weather': [{'id': 804,\n",
       "   'main': 'Clouds',\n",
       "   'description': 'overcast clouds',\n",
       "   'icon': '04n'}],\n",
       " 'base': 'stations',\n",
       " 'main': {'temp': 54.57,\n",
       "  'feels_like': 54.73,\n",
       "  'temp_min': 53.6,\n",
       "  'temp_max': 55.99,\n",
       "  'pressure': 1029,\n",
       "  'humidity': 100},\n",
       " 'visibility': 805,\n",
       " 'wind': {'speed': 2.21, 'deg': 48},\n",
       " 'clouds': {'all': 90},\n",
       " 'dt': 1610595042,\n",
       " 'sys': {'type': 1,\n",
       "  'id': 4127,\n",
       "  'country': 'US',\n",
       "  'sunrise': 1610552323,\n",
       "  'sunset': 1610586708},\n",
       " 'timezone': -28800,\n",
       " 'id': 5563839,\n",
       " 'name': 'Fortuna',\n",
       " 'cod': 200}"
      ]
     },
     "execution_count": 15,
     "metadata": {},
     "output_type": "execute_result"
    }
   ],
   "source": [
    "#making calls: https://openweathermap.org/current#data\n",
    "#establish base url\n",
    "base_url = \"http://api.openweathermap.org/data/2.5/weather?\"\n",
    "units = \"imperial\"\n",
    "#build query url\n",
    "weather_url = base_url + \"appid=\" + weather_api_key + \"&units=\" + units + \"&q=\" \n",
    "\n",
    "#get sample weather of city\n",
    "samp_weather = requests.get(weather_url + \"fortuna\").json()\n",
    "samp_weather\n"
   ]
  },
  {
   "cell_type": "code",
   "execution_count": 17,
   "metadata": {},
   "outputs": [
    {
     "name": "stdout",
     "output_type": "stream",
     "text": [
      "te anau,2181625 found! Appending stats\n",
      "mataura,6201424 found! Appending stats\n",
      "nanortalik,3421765 found! Appending stats\n",
      "kapaa,5848280 found! Appending stats\n",
      "hearst,5973108 found! Appending stats\n",
      "qaanaaq,3831208 found! Appending stats\n",
      "chokurdakh,2126123 found! Appending stats\n",
      "new norfolk,2155415 found! Appending stats\n",
      "cidreira,3466165 found! Appending stats\n",
      "saldanha,3361934 found! Appending stats\n",
      "jamestown,5122534 found! Appending stats\n",
      "saint george,5546220 found! Appending stats\n",
      "poum,2138555 found! Appending stats\n",
      "avarua,4035715 found! Appending stats\n",
      "magadan,2123628 found! Appending stats\n",
      "narsaq,3421719 found! Appending stats\n",
      "dagana,2246550 found! Appending stats\n",
      "chodavaram,1274020 found! Appending stats\n",
      "rikitea,4030556 found! Appending stats\n",
      "vila franca do campo,3372472 found! Appending stats\n",
      "port alfred,964432 found! Appending stats\n",
      "punta arenas,3874787 found! Appending stats\n",
      "cape town,3369157 found! Appending stats\n",
      "hobart,2163355 found! Appending stats\n",
      "esmeraldas,3464008 found! Appending stats\n",
      "hilo,5855927 found! Appending stats\n",
      "eau claire,5251436 found! Appending stats\n",
      "saint-philippe,935215 found! Appending stats\n",
      "bredasdorp,1015776 found! Appending stats\n",
      "pokhara,1282898 found! Appending stats\n",
      "tilichiki,2120591 found! Appending stats\n",
      "padang,1633419 found! Appending stats\n",
      "samusu not found! NaN\n",
      "horki,627905 found! Appending stats\n",
      "cabo san lucas,3985710 found! Appending stats\n",
      "bani walid,2218840 found! Appending stats\n",
      "misratah,2214846 found! Appending stats\n",
      "ushuaia,3833367 found! Appending stats\n",
      "ixtapa,4004293 found! Appending stats\n",
      "sept-iles,6144312 found! Appending stats\n",
      "nizhneyansk not found! NaN\n",
      "hithadhoo,1282256 found! Appending stats\n",
      "luderitz,3355672 found! Appending stats\n",
      "yellowknife,6185377 found! Appending stats\n",
      "kiunga,2093846 found! Appending stats\n",
      "attawapiskat not found! NaN\n",
      "carnarvon,2074865 found! Appending stats\n",
      "kegayli not found! NaN\n",
      "kumba,2229752 found! Appending stats\n",
      "sundsvall,2670781 found! Appending stats\n",
      "belushya guba not found! NaN\n",
      "fairbanks,5861897 found! Appending stats\n",
      "kayalpattinam,1267361 found! Appending stats\n",
      "bathsheba,3374083 found! Appending stats\n",
      "saskylakh,2017155 found! Appending stats\n",
      "petatlan,3992842 found! Appending stats\n",
      "nouakchott,2377450 found! Appending stats\n",
      "vaini,4032243 found! Appending stats\n",
      "khatanga,2022572 found! Appending stats\n",
      "uribia,3666409 found! Appending stats\n",
      "codrington,2171099 found! Appending stats\n",
      "karratha,6620339 found! Appending stats\n",
      "tura,1254046 found! Appending stats\n",
      "hambantota,1244926 found! Appending stats\n",
      "victoria,1819729 found! Appending stats\n",
      "xining,1788852 found! Appending stats\n",
      "hermanus,3366880 found! Appending stats\n",
      "mahanoro,1062553 found! Appending stats\n",
      "grand river south east not found! NaN\n",
      "killarney,2963370 found! Appending stats\n",
      "arraial do cabo,3471451 found! Appending stats\n",
      "barrow,5880054 found! Appending stats\n",
      "chagda not found! NaN\n",
      "busselton,2075265 found! Appending stats\n",
      "ubinskoye,1488708 found! Appending stats\n",
      "tarudant not found! NaN\n",
      "blackwater,2175403 found! Appending stats\n",
      "coban,3598119 found! Appending stats\n",
      "upernavik,3418910 found! Appending stats\n",
      "bluff,2206939 found! Appending stats\n",
      "iqaluit,5983720 found! Appending stats\n",
      "amderma not found! NaN\n",
      "lebu,3883457 found! Appending stats\n",
      "dumas,5520552 found! Appending stats\n",
      "provideniya,4031574 found! Appending stats\n",
      "the valley,3573374 found! Appending stats\n",
      "port elizabeth,964420 found! Appending stats\n",
      "butaritari,2110227 found! Appending stats\n",
      "marawi,1701054 found! Appending stats\n",
      "thompson,6165406 found! Appending stats\n",
      "nadym,1498087 found! Appending stats\n",
      "bonavista,5905393 found! Appending stats\n",
      "jertih,1736405 found! Appending stats\n",
      "borujan not found! NaN\n",
      "taolanaro not found! NaN\n",
      "torbay,6167817 found! Appending stats\n",
      "albany,5106841 found! Appending stats\n",
      "phan rang not found! NaN\n",
      "clyde river,5924351 found! Appending stats\n",
      "hasaki,2112802 found! Appending stats\n",
      "port lincoln,2063036 found! Appending stats\n",
      "sitka,5557293 found! Appending stats\n",
      "bambous virieux,1106677 found! Appending stats\n",
      "san blas,3987544 found! Appending stats\n",
      "chalus,139223 found! Appending stats\n",
      "kaitangata,2208248 found! Appending stats\n",
      "illoqqortoormiut not found! NaN\n",
      "banmo not found! NaN\n",
      "souillac,933995 found! Appending stats\n",
      "port angeles,5807212 found! Appending stats\n",
      "airai,1651810 found! Appending stats\n",
      "adana,325361 found! Appending stats\n",
      "pleasanton,5383777 found! Appending stats\n",
      "quatre cocos,1106643 found! Appending stats\n",
      "kushima,1895695 found! Appending stats\n",
      "naze,1855540 found! Appending stats\n",
      "saint-joseph,6690296 found! Appending stats\n",
      "palabuhanratu not found! NaN\n",
      "laguna,5364271 found! Appending stats\n",
      "mys shmidta not found! NaN\n",
      "sadiqabad,1166652 found! Appending stats\n",
      "dikson,1507390 found! Appending stats\n",
      "lata,2738381 found! Appending stats\n",
      "gari,1506676 found! Appending stats\n",
      "bundaberg,2173323 found! Appending stats\n",
      "las varas,3999162 found! Appending stats\n",
      "port hedland,2063042 found! Appending stats\n",
      "kiama,2161515 found! Appending stats\n",
      "pontarlier,2986301 found! Appending stats\n",
      "tasiilaq,3424607 found! Appending stats\n",
      "avera,4231997 found! Appending stats\n",
      "basqal,587033 found! Appending stats\n",
      "barentsburg not found! NaN\n",
      "tuatapere,2180815 found! Appending stats\n",
      "omboue,2396853 found! Appending stats\n",
      "kodiak,5866583 found! Appending stats\n",
      "sao filipe,3374210 found! Appending stats\n",
      "faanui,4034551 found! Appending stats\n",
      "zdvinsk,1485312 found! Appending stats\n",
      "anchorage,5879400 found! Appending stats\n",
      "ribeira grande,3372707 found! Appending stats\n",
      "ban nahin,1661950 found! Appending stats\n",
      "longyearbyen,2729907 found! Appending stats\n",
      "fernley,5504003 found! Appending stats\n",
      "susurluk,300058 found! Appending stats\n",
      "asenovgrad,733618 found! Appending stats\n",
      "kahului,5847411 found! Appending stats\n",
      "evensk,2125693 found! Appending stats\n",
      "waddan,2209055 found! Appending stats\n",
      "bethel,5282297 found! Appending stats\n",
      "hualmay,3939761 found! Appending stats\n",
      "cuyo,1716397 found! Appending stats\n",
      "aksha,2028028 found! Appending stats\n",
      "filadelfia,4560349 found! Appending stats\n",
      "abay,1526970 found! Appending stats\n",
      "pevek,2122090 found! Appending stats\n",
      "puerto ayora,3652764 found! Appending stats\n",
      "podgornoye,508362 found! Appending stats\n",
      "georgetown,1735106 found! Appending stats\n",
      "vaitupu not found! NaN\n",
      "santa ines,3389609 found! Appending stats\n",
      "hirata,1862471 found! Appending stats\n",
      "castro,3466704 found! Appending stats\n",
      "manjacaze,1040938 found! Appending stats\n",
      "eldikan not found! NaN\n",
      "pionki,762199 found! Appending stats\n",
      "sakakah,102527 found! Appending stats\n",
      "toora-khem,1489401 found! Appending stats\n",
      "lakki marwat,1172339 found! Appending stats\n",
      "aripuana,3665202 found! Appending stats\n",
      "rocha,3440777 found! Appending stats\n",
      "espanola,5467024 found! Appending stats\n",
      "oxford,2640729 found! Appending stats\n",
      "mahebourg,934322 found! Appending stats\n",
      "cherskiy,2126199 found! Appending stats\n",
      "villa maria,3832694 found! Appending stats\n",
      "riyadh,108410 found! Appending stats\n",
      "tsihombe not found! NaN\n",
      "taltal,3870243 found! Appending stats\n",
      "launceston,2160517 found! Appending stats\n",
      "umzimvubu not found! NaN\n",
      "alizai,1184626 found! Appending stats\n",
      "bonthe,2409914 found! Appending stats\n",
      "manggar,1636426 found! Appending stats\n",
      "stara ves nad ondrejnici,3065379 found! Appending stats\n",
      "svetlogorsk,10722858 found! Appending stats\n",
      "nueve de julio,3842881 found! Appending stats\n",
      "santa isabel do rio negro,3662489 found! Appending stats\n",
      "helena,5656882 found! Appending stats\n",
      "sharan,495770 found! Appending stats\n",
      "nemuro,2128975 found! Appending stats\n",
      "jiaojiang,1809061 found! Appending stats\n",
      "norman wells,6089245 found! Appending stats\n",
      "biak,1637001 found! Appending stats\n",
      "esperance,2071860 found! Appending stats\n",
      "pasni,1168312 found! Appending stats\n",
      "san jose,5392171 found! Appending stats\n",
      "lichuan,1803782 found! Appending stats\n",
      "ambon,1651531 found! Appending stats\n",
      "guerrero negro,4021858 found! Appending stats\n",
      "shush,114593 found! Appending stats\n",
      "lovozero,533933 found! Appending stats\n",
      "ozgon not found! NaN\n",
      "labuan,1733782 found! Appending stats\n",
      "zachagansk not found! NaN\n",
      "kamenka,553766 found! Appending stats\n",
      "kailua,5847486 found! Appending stats\n",
      "coihaique,3894426 found! Appending stats\n",
      "nikolskoye,546105 found! Appending stats\n",
      "ancud,3899695 found! Appending stats\n",
      "oistins,3373652 found! Appending stats\n",
      "east london,1006984 found! Appending stats\n",
      "umm bab,289548 found! Appending stats\n"
     ]
    },
    {
     "name": "stdout",
     "output_type": "stream",
     "text": [
      "chipinge,893549 found! Appending stats\n",
      "katsuura,2112309 found! Appending stats\n",
      "khasan,2039557 found! Appending stats\n",
      "shamli,1256671 found! Appending stats\n",
      "yaan,2338660 found! Appending stats\n",
      "constitucion,3893726 found! Appending stats\n",
      "kutum,371745 found! Appending stats\n",
      "lorengau,2092164 found! Appending stats\n",
      "grafton,4938048 found! Appending stats\n",
      "chuy,3443061 found! Appending stats\n",
      "mananjary,1061335 found! Appending stats\n",
      "tanshui not found! NaN\n",
      "faya,110690 found! Appending stats\n",
      "chara,2025630 found! Appending stats\n",
      "karaul not found! NaN\n",
      "henties bay,3356832 found! Appending stats\n",
      "ilulissat,3423146 found! Appending stats\n",
      "bilma,2446796 found! Appending stats\n",
      "redlands,5386754 found! Appending stats\n",
      "novosokolniki,517921 found! Appending stats\n",
      "santa luzia,3450144 found! Appending stats\n",
      "ilinskiy,557140 found! Appending stats\n",
      "kuche not found! NaN\n",
      "new castle,5203127 found! Appending stats\n",
      "mogadishu,53654 found! Appending stats\n",
      "burnie,2173125 found! Appending stats\n",
      "vila velha,3445026 found! Appending stats\n",
      "beringovskiy,2126710 found! Appending stats\n",
      "yar-sale,1486321 found! Appending stats\n",
      "ponta do sol,2264557 found! Appending stats\n",
      "cayenne,3382160 found! Appending stats\n",
      "severo-kurilsk,2121385 found! Appending stats\n",
      "araouane,2460954 found! Appending stats\n",
      "yerbogachen,2012956 found! Appending stats\n",
      "progreso,3521108 found! Appending stats\n",
      "ikom,2338242 found! Appending stats\n",
      "gao,2457161 found! Appending stats\n",
      "mavur not found! NaN\n",
      "swan hill,2147756 found! Appending stats\n",
      "nurota,1513087 found! Appending stats\n",
      "tabiauea not found! NaN\n",
      "brewster,5110092 found! Appending stats\n",
      "bayanday,2027004 found! Appending stats\n",
      "baturyn,712745 found! Appending stats\n",
      "dabakala,2290609 found! Appending stats\n",
      "carbonear,5916722 found! Appending stats\n",
      "show low,5314245 found! Appending stats\n",
      "boatlaname not found! NaN\n",
      "kampot,1831112 found! Appending stats\n",
      "edson,5946820 found! Appending stats\n",
      "tuktoyaktuk,6170031 found! Appending stats\n",
      "bengkulu,1649150 found! Appending stats\n",
      "makakilo city,5850554 found! Appending stats\n",
      "san policarpo,1688696 found! Appending stats\n",
      "curup,1645875 found! Appending stats\n",
      "atuona,4020109 found! Appending stats\n",
      "bam,141736 found! Appending stats\n",
      "saint-augustin,6137462 found! Appending stats\n",
      "vostok,2013279 found! Appending stats\n",
      "mar del plata,3430863 found! Appending stats\n",
      "xiaoshi,2033934 found! Appending stats\n",
      "taoudenni,2450173 found! Appending stats\n",
      "verkhniye tatyshly,475030 found! Appending stats\n",
      "thessalon,6164831 found! Appending stats\n",
      "hasanabad,7052836 found! Appending stats\n",
      "sambava,1056899 found! Appending stats\n",
      "birin,1283334 found! Appending stats\n",
      "sentyabrskiy not found! NaN\n",
      "fort nelson,5955902 found! Appending stats\n",
      "nantucket,4944903 found! Appending stats\n",
      "sechura,3691954 found! Appending stats\n",
      "broken hill,2173911 found! Appending stats\n",
      "morondava,1058381 found! Appending stats\n",
      "tullow,2961079 found! Appending stats\n",
      "chifeng,2038067 found! Appending stats\n",
      "praia,3374333 found! Appending stats\n",
      "grand gaube,934479 found! Appending stats\n",
      "vrede,942701 found! Appending stats\n",
      "tshikapa,204953 found! Appending stats\n",
      "roald,3141667 found! Appending stats\n",
      "southbridge,4951594 found! Appending stats\n",
      "nome,5870133 found! Appending stats\n",
      "basco,1726449 found! Appending stats\n",
      "stokmarknes,3136690 found! Appending stats\n",
      "lienz,2772505 found! Appending stats\n",
      "sisimiut,3419842 found! Appending stats\n",
      "bandarban,1185270 found! Appending stats\n",
      "yulara,6355222 found! Appending stats\n",
      "hofn,2630299 found! Appending stats\n",
      "klin,547523 found! Appending stats\n",
      "yatou,1786855 found! Appending stats\n",
      "villarrica,3436714 found! Appending stats\n",
      "devarkonda,1273109 found! Appending stats\n",
      "okhotsk,2122605 found! Appending stats\n",
      "freeport,5117949 found! Appending stats\n",
      "mount gambier,2156643 found! Appending stats\n",
      "passi,1694500 found! Appending stats\n",
      "san cristobal,3628473 found! Appending stats\n",
      "galle,1246294 found! Appending stats\n",
      "ihosy,1064275 found! Appending stats\n",
      "nouadhibou,2377457 found! Appending stats\n",
      "los llanos de aridane,2514651 found! Appending stats\n",
      "yarmouth,4956335 found! Appending stats\n",
      "zhigansk,2012530 found! Appending stats\n",
      "fukue,1863997 found! Appending stats\n",
      "klaksvik,2618795 found! Appending stats\n",
      "mackay,2159220 found! Appending stats\n",
      "cholet,3025052 found! Appending stats\n",
      "kieta,2094027 found! Appending stats\n",
      "kruisfontein,986717 found! Appending stats\n",
      "praia da vitoria,3372760 found! Appending stats\n",
      "morro bay,5374920 found! Appending stats\n",
      "lavrentiya,4031637 found! Appending stats\n",
      "leningradskiy,2123814 found! Appending stats\n",
      "amarkantak,1278905 found! Appending stats\n",
      "fortuna,5563839 found! Appending stats\n",
      "sahrak not found! NaN\n",
      "bubaque,2374583 found! Appending stats\n",
      "buchanan,2278158 found! Appending stats\n",
      "atar,2381334 found! Appending stats\n",
      "srednekolymsk,2121025 found! Appending stats\n",
      "zhangye,1785036 found! Appending stats\n",
      "kalmunai,1242110 found! Appending stats\n",
      "freetown,2409306 found! Appending stats\n",
      "turukhansk,1488903 found! Appending stats\n",
      "pacific grove,5380437 found! Appending stats\n",
      "fuerte,1713558 found! Appending stats\n",
      "salto,3440714 found! Appending stats\n",
      "grand centre not found! NaN\n",
      "durango,4011741 found! Appending stats\n",
      "rincon,4218882 found! Appending stats\n",
      "akyab,1295765 found! Appending stats\n",
      "andenes,3163146 found! Appending stats\n",
      "anadyr,2127202 found! Appending stats\n",
      "nyurba,2018735 found! Appending stats\n",
      "karoi,889191 found! Appending stats\n",
      "luau,876177 found! Appending stats\n",
      "ponta delgada,3372783 found! Appending stats\n",
      "akola,1279105 found! Appending stats\n",
      "palanga,596238 found! Appending stats\n",
      "yucca valley,5411079 found! Appending stats\n",
      "haines junction,5969025 found! Appending stats\n",
      "alyangula,2079582 found! Appending stats\n",
      "namatanai,2090021 found! Appending stats\n",
      "kavaratti,1267390 found! Appending stats\n",
      "awjilah,88533 found! Appending stats\n",
      "yemtsa,467527 found! Appending stats\n",
      "lambarene,2399888 found! Appending stats\n",
      "kudahuvadhoo,1337607 found! Appending stats\n",
      "singaraja,1626932 found! Appending stats\n",
      "plettenberg bay,964712 found! Appending stats\n",
      "edd,338345 found! Appending stats\n",
      "tuban,1623180 found! Appending stats\n",
      "pozo colorado,3437443 found! Appending stats\n",
      "porlamar,3629965 found! Appending stats\n",
      "acapulco,3533462 found! Appending stats\n",
      "lagoa,3372964 found! Appending stats\n",
      "salinas,5391295 found! Appending stats\n",
      "kloulklubed,7671223 found! Appending stats\n",
      "merrill,5262680 found! Appending stats\n",
      "aksu,1529660 found! Appending stats\n",
      "pachino,6539213 found! Appending stats\n",
      "iskateley,866062 found! Appending stats\n",
      "tocopilla,3869716 found! Appending stats\n",
      "carutapera,3402648 found! Appending stats\n",
      "panchgani,1260577 found! Appending stats\n",
      "altay,1529651 found! Appending stats\n",
      "bernalillo,5457180 found! Appending stats\n",
      "muswellbrook,2156034 found! Appending stats\n",
      "sao felix do xingu,3388847 found! Appending stats\n",
      "umm lajj,100926 found! Appending stats\n",
      "alofi,4036284 found! Appending stats\n",
      "geetbets,2797762 found! Appending stats\n",
      "warragul,2144604 found! Appending stats\n",
      "talcahuano,3870282 found! Appending stats\n",
      "horconcitos,3702269 found! Appending stats\n",
      "wamba,2319257 found! Appending stats\n",
      "marcona not found! NaN\n",
      "constantine,2501152 found! Appending stats\n",
      "rio grande,3451138 found! Appending stats\n",
      "ukiah,5404476 found! Appending stats\n",
      "karamken not found! NaN\n",
      "deputatskiy,2028164 found! Appending stats\n",
      "portland,5746545 found! Appending stats\n",
      "chapada dos guimaraes,3466307 found! Appending stats\n",
      "semporna,1733697 found! Appending stats\n",
      "oranjemund,3354071 found! Appending stats\n",
      "fallingbostel,2927871 found! Appending stats\n",
      "lompoc,5367788 found! Appending stats\n",
      "kabo,2386042 found! Appending stats\n",
      "ust-tsilma,477940 found! Appending stats\n",
      "port hardy,6111862 found! Appending stats\n",
      "sioux lookout,6148373 found! Appending stats\n",
      "klerksdorp,989921 found! Appending stats\n",
      "kondoa,156510 found! Appending stats\n",
      "asfi,2537881 found! Appending stats\n",
      "kracheh not found! NaN\n",
      "srandakan,1626493 found! Appending stats\n",
      "elizabeth city,4465088 found! Appending stats\n",
      "sangmelima,2222230 found! Appending stats\n",
      "dingle,1714733 found! Appending stats\n",
      "sola,2134814 found! Appending stats\n",
      "nara,1855612 found! Appending stats\n",
      "umtata,946058 found! Appending stats\n",
      "coquimbo,3893629 found! Appending stats\n",
      "barranca,3946820 found! Appending stats\n",
      "vestmannaeyjar,3412093 found! Appending stats\n",
      "mount pleasant,4588165 found! Appending stats\n",
      "nioro,2412408 found! Appending stats\n",
      "nalbari,1258492 found! Appending stats\n"
     ]
    },
    {
     "name": "stdout",
     "output_type": "stream",
     "text": [
      "yumen,1528998 found! Appending stats\n",
      "kupang,2057087 found! Appending stats\n",
      "zhezkazgan,1516589 found! Appending stats\n",
      "ahipara,2194098 found! Appending stats\n",
      "ostrovnoy,556268 found! Appending stats\n",
      "vao,2137773 found! Appending stats\n",
      "ulladulla,2145554 found! Appending stats\n",
      "kommunisticheskiy,1502750 found! Appending stats\n",
      "orocue,3673536 found! Appending stats\n",
      "college,5859699 found! Appending stats\n",
      "teguise,2510573 found! Appending stats\n",
      "bur gabo not found! NaN\n",
      "isangel,2136825 found! Appending stats\n",
      "warqla not found! NaN\n",
      "la palma,5364022 found! Appending stats\n",
      "oksfjord,778362 found! Appending stats\n",
      "taihe,1793684 found! Appending stats\n",
      "kyren,2021031 found! Appending stats\n",
      "kyzyl,1500973 found! Appending stats\n",
      "saint-gilles,2979679 found! Appending stats\n",
      "takoradi,2294915 found! Appending stats\n",
      "ingham,4997130 found! Appending stats\n",
      "novozybkov,517269 found! Appending stats\n",
      "kavieng,2094342 found! Appending stats\n",
      "sobinka,491480 found! Appending stats\n",
      "harper,2276492 found! Appending stats\n",
      "navalmoral de la mata,2513324 found! Appending stats\n",
      "elko,5703673 found! Appending stats\n",
      "idukki,1269811 found! Appending stats\n",
      "brownsville,4676740 found! Appending stats\n",
      "mayo,4362001 found! Appending stats\n",
      "gushikawa,1863495 found! Appending stats\n",
      "la palma del condado,2515679 found! Appending stats\n",
      "bilibino,2126682 found! Appending stats\n",
      "mizdah,2214827 found! Appending stats\n",
      "chinsali,918905 found! Appending stats\n",
      "husavik,2629833 found! Appending stats\n",
      "half moon bay,5354943 found! Appending stats\n",
      "jumla,1283285 found! Appending stats\n",
      "aklavik,5882953 found! Appending stats\n",
      "san ramon,5392593 found! Appending stats\n",
      "vardo,777019 found! Appending stats\n",
      "richards bay,962367 found! Appending stats\n",
      "aktyubinskiy,583548 found! Appending stats\n",
      "paralimni,146209 found! Appending stats\n",
      "edmond,4535740 found! Appending stats\n",
      "caracoli,3687451 found! Appending stats\n",
      "hihifo not found! NaN\n",
      "nuuk,3421319 found! Appending stats\n",
      "aloleng,1731298 found! Appending stats\n",
      "bolshaya glushitsa,486923 found! Appending stats\n",
      "port shepstone,964406 found! Appending stats\n",
      "baghdad,98182 found! Appending stats\n",
      "tiksi,2015306 found! Appending stats\n",
      "sistranda,3139597 found! Appending stats\n",
      "were ilu,326259 found! Appending stats\n",
      "toccoa,4226722 found! Appending stats\n",
      "cranbrook,5931800 found! Appending stats\n",
      "labuhan,8079926 found! Appending stats\n",
      "mitsamiouli,921786 found! Appending stats\n",
      "rabo de peixe,3372745 found! Appending stats\n",
      "siuna,3616253 found! Appending stats\n",
      "russell,4047434 found! Appending stats\n",
      "talnakh,1490256 found! Appending stats\n",
      "taksimo,2015701 found! Appending stats\n",
      "honiara,2108502 found! Appending stats\n",
      "qiongshan,1797535 found! Appending stats\n",
      "west wendover,5710035 found! Appending stats\n",
      "ivanivka,707453 found! Appending stats\n",
      "chernyshevskiy,2025456 found! Appending stats\n",
      "mragowo,764312 found! Appending stats\n",
      "amga,2027786 found! Appending stats\n",
      "kamenskoye not found! NaN\n",
      "tromso,6453316 found! Appending stats\n",
      "lazaro cardenas,4026082 found! Appending stats\n",
      "raudeberg,3146487 found! Appending stats\n",
      "lar gerd not found! NaN\n",
      "bekasi,1649378 found! Appending stats\n",
      "mafinga,155405 found! Appending stats\n",
      "synya,485215 found! Appending stats\n",
      "san borja,3905792 found! Appending stats\n",
      "san patricio,4726521 found! Appending stats\n",
      "yakima,5816597 found! Appending stats\n",
      "honningsvag,779554 found! Appending stats\n",
      "jalu,86049 found! Appending stats\n",
      "dunedin,2191562 found! Appending stats\n",
      "sao miguel do oeste not found! NaN\n",
      "iquitos,3696183 found! Appending stats\n",
      "kargil,1267776 found! Appending stats\n",
      "saleaula not found! NaN\n",
      "eureka,5563397 found! Appending stats\n",
      "nagorsk,523583 found! Appending stats\n",
      "abu kamal,174448 found! Appending stats\n",
      "felidhoo not found! NaN\n",
      "cockburn town,3576994 found! Appending stats\n",
      "diamantino,3464724 found! Appending stats\n",
      "salalah,286621 found! Appending stats\n",
      "zherdevka,463217 found! Appending stats\n",
      "maniitsoq,3421982 found! Appending stats\n",
      "matamoros,3996426 found! Appending stats\n",
      "igrim,1505965 found! Appending stats\n",
      "washington,5815135 found! Appending stats\n",
      "matara,1235846 found! Appending stats\n",
      "winslow,5321473 found! Appending stats\n",
      "hamilton,4513583 found! Appending stats\n",
      "oranjestad,3577154 found! Appending stats\n",
      "trinidad,3902377 found! Appending stats\n",
      "umm kaddadah,364933 found! Appending stats\n",
      "makat,608872 found! Appending stats\n",
      "montepuez,1037125 found! Appending stats\n",
      "yamnytsya,688512 found! Appending stats\n",
      "mirabad,1133310 found! Appending stats\n",
      "troy,5012639 found! Appending stats\n",
      "mehamn,778707 found! Appending stats\n",
      "maragogi,3395458 found! Appending stats\n",
      "bonito,3469294 found! Appending stats\n",
      "el alto,3697441 found! Appending stats\n",
      "illimo not found! NaN\n",
      "smithers,6149996 found! Appending stats\n",
      "port moresby,2088122 found! Appending stats\n",
      "mangan,1263776 found! Appending stats\n",
      "goderich,5962442 found! Appending stats\n",
      "aberystwyth,2657782 found! Appending stats\n",
      "vrangel,2013258 found! Appending stats\n",
      "korla,1529376 found! Appending stats\n",
      "pemberton,6100799 found! Appending stats\n",
      "roma,5134295 found! Appending stats\n",
      "touros,3386213 found! Appending stats\n",
      "kirensk,2022083 found! Appending stats\n",
      "sinjah not found! NaN\n",
      "grenville,3580236 found! Appending stats\n",
      "pangnirtung,6096551 found! Appending stats\n",
      "colares,2269142 found! Appending stats\n",
      "hobyo,57000 found! Appending stats\n",
      "tabou,2281120 found! Appending stats\n",
      "jomalig not found! NaN\n",
      "karaidel,552862 found! Appending stats\n",
      "aliaga,1731529 found! Appending stats\n",
      "geraldton,2070998 found! Appending stats\n",
      "santiago de chuco,3692072 found! Appending stats\n",
      "dubenskiy not found! NaN\n",
      "piranshahr,121110 found! Appending stats\n",
      "olga,2018553 found! Appending stats\n",
      "rawannawi not found! NaN\n",
      "salisbury,2638664 found! Appending stats\n",
      "arauca,3689718 found! Appending stats\n",
      "matveyevka,528521 found! Appending stats\n",
      "vakhrushev,2119964 found! Appending stats\n",
      "pasan,1260210 found! Appending stats\n",
      "yermekeyevo,467260 found! Appending stats\n",
      "carballo,3126369 found! Appending stats\n",
      "santa maria,3450083 found! Appending stats\n",
      "belmonte,3470137 found! Appending stats\n",
      "tomakomai,2127733 found! Appending stats\n",
      "kralendijk,3513563 found! Appending stats\n",
      "cooma,2170577 found! Appending stats\n",
      "shelburne,6145890 found! Appending stats\n",
      "primo tapia,3979430 found! Appending stats\n",
      "kozloduj not found! NaN\n",
      "castelo do piaui,3402548 found! Appending stats\n",
      "karkaralinsk not found! NaN\n",
      "kapuskasing,5989403 found! Appending stats\n",
      "san carlos de bariloche,7647007 found! Appending stats\n",
      "bonfim,3405215 found! Appending stats\n",
      "galesong,1644605 found! Appending stats\n",
      "batemans bay,2176639 found! Appending stats\n",
      "kaoma,913323 found! Appending stats\n",
      "sao joao da barra,3448903 found! Appending stats\n",
      "hulan ergi,2036670 found! Appending stats\n",
      "atasu,1526041 found! Appending stats\n",
      "sur,286245 found! Appending stats\n",
      "canaries,2593110 found! Appending stats\n",
      "peringat,1750582 found! Appending stats\n",
      "praxedis guerrero,3974771 found! Appending stats\n",
      "itoman,1861280 found! Appending stats\n",
      "savannah bight,3601402 found! Appending stats\n",
      "diffa,2445704 found! Appending stats\n",
      "bardiyah,80509 found! Appending stats\n",
      "khuzdar,7082481 found! Appending stats\n",
      "port macquarie,2152659 found! Appending stats\n",
      "vila do maio,3374120 found! Appending stats\n",
      "dolores,3435038 found! Appending stats\n",
      "simbahan,1695180 found! Appending stats\n",
      "mitchell,5229794 found! Appending stats\n",
      "chapais,5919850 found! Appending stats\n",
      "pascagoula,4440397 found! Appending stats\n",
      "cintalapa,3530617 found! Appending stats\n",
      "kemi,653257 found! Appending stats\n",
      "mount isa,2065594 found! Appending stats\n",
      "geresk not found! NaN\n",
      "zhob,1162105 found! Appending stats\n",
      "formosa,3433899 found! Appending stats\n",
      "tofield,6167254 found! Appending stats\n",
      "krasnovishersk,542184 found! Appending stats\n"
     ]
    }
   ],
   "source": [
    "#set lists\n",
    "city_name = []\n",
    "country = []\n",
    "city_id = []\n",
    "latitude = []\n",
    "longitude = []\n",
    "temperature = []\n",
    "humidity = []\n",
    "cloudiness = []\n",
    "wind_speed = []\n",
    "\n",
    "#loop through cities\n",
    "for city in cities:\n",
    "    \n",
    "    #query\n",
    "    city_data = requests.get(weather_url + city).json()\n",
    "    \n",
    "    try:\n",
    "        city_name.append(city_data['name'])\n",
    "        country.append(city_data['sys']['country'])\n",
    "        city_id.append(city_data[\"id\"])\n",
    "        latitude.append(city_data['coord']['lat'])\n",
    "        longitude.append(city_data['coord']['lon'])\n",
    "        temperature.append(city_data['main']['temp'])\n",
    "        humidity.append(city_data['main']['humidity'])\n",
    "        cloudiness.append(city_data['clouds']['all'])\n",
    "        wind_speed.append(city_data['wind']['speed'])\n",
    "        \n",
    "        print(f\"{city},{city_data['id']} found! Appending stats\")\n",
    "        \n",
    "    except:\n",
    "        #append null\n",
    "        print(f\"{city} not found! NaN\")\n",
    "        pass"
   ]
  },
  {
   "cell_type": "code",
   "execution_count": 19,
   "metadata": {
    "scrolled": true
   },
   "outputs": [
    {
     "data": {
      "text/html": [
       "<div>\n",
       "<style scoped>\n",
       "    .dataframe tbody tr th:only-of-type {\n",
       "        vertical-align: middle;\n",
       "    }\n",
       "\n",
       "    .dataframe tbody tr th {\n",
       "        vertical-align: top;\n",
       "    }\n",
       "\n",
       "    .dataframe thead th {\n",
       "        text-align: right;\n",
       "    }\n",
       "</style>\n",
       "<table border=\"1\" class=\"dataframe\">\n",
       "  <thead>\n",
       "    <tr style=\"text-align: right;\">\n",
       "      <th></th>\n",
       "      <th>City</th>\n",
       "      <th>Country</th>\n",
       "      <th>City ID</th>\n",
       "      <th>Latitude</th>\n",
       "      <th>Longitude</th>\n",
       "      <th>temperature</th>\n",
       "      <th>humidity</th>\n",
       "      <th>cloudiness</th>\n",
       "      <th>wind speed</th>\n",
       "    </tr>\n",
       "  </thead>\n",
       "  <tbody>\n",
       "    <tr>\n",
       "      <th>0</th>\n",
       "      <td>Te Anau</td>\n",
       "      <td>NZ</td>\n",
       "      <td>2181625</td>\n",
       "      <td>-45.4167</td>\n",
       "      <td>167.7167</td>\n",
       "      <td>75.51</td>\n",
       "      <td>39</td>\n",
       "      <td>0</td>\n",
       "      <td>5.66</td>\n",
       "    </tr>\n",
       "    <tr>\n",
       "      <th>1</th>\n",
       "      <td>Mataura</td>\n",
       "      <td>NZ</td>\n",
       "      <td>6201424</td>\n",
       "      <td>-46.1927</td>\n",
       "      <td>168.8643</td>\n",
       "      <td>73.87</td>\n",
       "      <td>53</td>\n",
       "      <td>16</td>\n",
       "      <td>7.65</td>\n",
       "    </tr>\n",
       "    <tr>\n",
       "      <th>2</th>\n",
       "      <td>Nanortalik</td>\n",
       "      <td>GL</td>\n",
       "      <td>3421765</td>\n",
       "      <td>60.1432</td>\n",
       "      <td>-45.2371</td>\n",
       "      <td>28.99</td>\n",
       "      <td>94</td>\n",
       "      <td>100</td>\n",
       "      <td>11.14</td>\n",
       "    </tr>\n",
       "    <tr>\n",
       "      <th>3</th>\n",
       "      <td>Kapaa</td>\n",
       "      <td>US</td>\n",
       "      <td>5848280</td>\n",
       "      <td>22.0752</td>\n",
       "      <td>-159.3190</td>\n",
       "      <td>72.82</td>\n",
       "      <td>78</td>\n",
       "      <td>20</td>\n",
       "      <td>18.41</td>\n",
       "    </tr>\n",
       "    <tr>\n",
       "      <th>4</th>\n",
       "      <td>Hearst</td>\n",
       "      <td>CA</td>\n",
       "      <td>5973108</td>\n",
       "      <td>49.6835</td>\n",
       "      <td>-83.6665</td>\n",
       "      <td>26.60</td>\n",
       "      <td>93</td>\n",
       "      <td>89</td>\n",
       "      <td>2.30</td>\n",
       "    </tr>\n",
       "    <tr>\n",
       "      <th>...</th>\n",
       "      <td>...</td>\n",
       "      <td>...</td>\n",
       "      <td>...</td>\n",
       "      <td>...</td>\n",
       "      <td>...</td>\n",
       "      <td>...</td>\n",
       "      <td>...</td>\n",
       "      <td>...</td>\n",
       "      <td>...</td>\n",
       "    </tr>\n",
       "    <tr>\n",
       "      <th>561</th>\n",
       "      <td>Mount Isa</td>\n",
       "      <td>AU</td>\n",
       "      <td>2065594</td>\n",
       "      <td>-20.7333</td>\n",
       "      <td>139.5000</td>\n",
       "      <td>96.80</td>\n",
       "      <td>23</td>\n",
       "      <td>0</td>\n",
       "      <td>13.80</td>\n",
       "    </tr>\n",
       "    <tr>\n",
       "      <th>562</th>\n",
       "      <td>Zhob</td>\n",
       "      <td>PK</td>\n",
       "      <td>1162105</td>\n",
       "      <td>31.3411</td>\n",
       "      <td>69.4481</td>\n",
       "      <td>48.61</td>\n",
       "      <td>40</td>\n",
       "      <td>3</td>\n",
       "      <td>0.83</td>\n",
       "    </tr>\n",
       "    <tr>\n",
       "      <th>563</th>\n",
       "      <td>Formosa</td>\n",
       "      <td>AR</td>\n",
       "      <td>3433899</td>\n",
       "      <td>-26.1775</td>\n",
       "      <td>-58.1781</td>\n",
       "      <td>80.60</td>\n",
       "      <td>78</td>\n",
       "      <td>0</td>\n",
       "      <td>8.05</td>\n",
       "    </tr>\n",
       "    <tr>\n",
       "      <th>564</th>\n",
       "      <td>Tofield</td>\n",
       "      <td>CA</td>\n",
       "      <td>6167254</td>\n",
       "      <td>53.3668</td>\n",
       "      <td>-112.6686</td>\n",
       "      <td>28.99</td>\n",
       "      <td>80</td>\n",
       "      <td>67</td>\n",
       "      <td>21.85</td>\n",
       "    </tr>\n",
       "    <tr>\n",
       "      <th>565</th>\n",
       "      <td>Krasnovishersk</td>\n",
       "      <td>RU</td>\n",
       "      <td>542184</td>\n",
       "      <td>60.4078</td>\n",
       "      <td>57.0820</td>\n",
       "      <td>-18.00</td>\n",
       "      <td>85</td>\n",
       "      <td>0</td>\n",
       "      <td>2.04</td>\n",
       "    </tr>\n",
       "  </tbody>\n",
       "</table>\n",
       "<p>566 rows × 9 columns</p>\n",
       "</div>"
      ],
      "text/plain": [
       "               City Country  City ID  Latitude  Longitude  temperature  \\\n",
       "0           Te Anau      NZ  2181625  -45.4167   167.7167        75.51   \n",
       "1           Mataura      NZ  6201424  -46.1927   168.8643        73.87   \n",
       "2        Nanortalik      GL  3421765   60.1432   -45.2371        28.99   \n",
       "3             Kapaa      US  5848280   22.0752  -159.3190        72.82   \n",
       "4            Hearst      CA  5973108   49.6835   -83.6665        26.60   \n",
       "..              ...     ...      ...       ...        ...          ...   \n",
       "561       Mount Isa      AU  2065594  -20.7333   139.5000        96.80   \n",
       "562            Zhob      PK  1162105   31.3411    69.4481        48.61   \n",
       "563         Formosa      AR  3433899  -26.1775   -58.1781        80.60   \n",
       "564         Tofield      CA  6167254   53.3668  -112.6686        28.99   \n",
       "565  Krasnovishersk      RU   542184   60.4078    57.0820       -18.00   \n",
       "\n",
       "     humidity  cloudiness  wind speed  \n",
       "0          39           0        5.66  \n",
       "1          53          16        7.65  \n",
       "2          94         100       11.14  \n",
       "3          78          20       18.41  \n",
       "4          93          89        2.30  \n",
       "..        ...         ...         ...  \n",
       "561        23           0       13.80  \n",
       "562        40           3        0.83  \n",
       "563        78           0        8.05  \n",
       "564        80          67       21.85  \n",
       "565        85           0        2.04  \n",
       "\n",
       "[566 rows x 9 columns]"
      ]
     },
     "execution_count": 19,
     "metadata": {},
     "output_type": "execute_result"
    }
   ],
   "source": [
    "#df\n",
    "weather_data = pd.DataFrame({\"City\" : pd.Series(city_name),\n",
    "            \"Country\" : pd.Series(country),\n",
    "            \"City ID\" : pd.Series(city_id),\n",
    "            \"Latitude\" : pd.Series(latitude),\n",
    "            \"Longitude\" : pd.Series(longitude),\n",
    "            \"temperature\" : pd.Series(temperature),\n",
    "            \"humidity\" : pd.Series(humidity),\n",
    "            \"cloudiness\" : pd.Series(cloudiness),\n",
    "            \"wind speed\" : pd.Series(wind_speed)\n",
    "            })\n",
    "\n",
    "weather_data \n",
    "        \n"
   ]
  },
  {
   "cell_type": "markdown",
   "metadata": {},
   "source": [
    "### Convert Raw Data to DataFrame\n",
    "* Export the city data into a .csv.\n",
    "* Display the DataFrame"
   ]
  },
  {
   "cell_type": "code",
   "execution_count": null,
   "metadata": {},
   "outputs": [],
   "source": []
  },
  {
   "cell_type": "code",
   "execution_count": 20,
   "metadata": {},
   "outputs": [
    {
     "data": {
      "text/html": [
       "<div>\n",
       "<style scoped>\n",
       "    .dataframe tbody tr th:only-of-type {\n",
       "        vertical-align: middle;\n",
       "    }\n",
       "\n",
       "    .dataframe tbody tr th {\n",
       "        vertical-align: top;\n",
       "    }\n",
       "\n",
       "    .dataframe thead th {\n",
       "        text-align: right;\n",
       "    }\n",
       "</style>\n",
       "<table border=\"1\" class=\"dataframe\">\n",
       "  <thead>\n",
       "    <tr style=\"text-align: right;\">\n",
       "      <th></th>\n",
       "      <th>City</th>\n",
       "      <th>Country</th>\n",
       "      <th>City ID</th>\n",
       "      <th>Latitude</th>\n",
       "      <th>Longitude</th>\n",
       "      <th>temperature</th>\n",
       "      <th>humidity</th>\n",
       "      <th>cloudiness</th>\n",
       "      <th>wind speed</th>\n",
       "    </tr>\n",
       "  </thead>\n",
       "  <tbody>\n",
       "    <tr>\n",
       "      <th>0</th>\n",
       "      <td>Te Anau</td>\n",
       "      <td>NZ</td>\n",
       "      <td>2181625</td>\n",
       "      <td>-45.4167</td>\n",
       "      <td>167.7167</td>\n",
       "      <td>75.51</td>\n",
       "      <td>39</td>\n",
       "      <td>0</td>\n",
       "      <td>5.66</td>\n",
       "    </tr>\n",
       "    <tr>\n",
       "      <th>1</th>\n",
       "      <td>Mataura</td>\n",
       "      <td>NZ</td>\n",
       "      <td>6201424</td>\n",
       "      <td>-46.1927</td>\n",
       "      <td>168.8643</td>\n",
       "      <td>73.87</td>\n",
       "      <td>53</td>\n",
       "      <td>16</td>\n",
       "      <td>7.65</td>\n",
       "    </tr>\n",
       "    <tr>\n",
       "      <th>2</th>\n",
       "      <td>Nanortalik</td>\n",
       "      <td>GL</td>\n",
       "      <td>3421765</td>\n",
       "      <td>60.1432</td>\n",
       "      <td>-45.2371</td>\n",
       "      <td>28.99</td>\n",
       "      <td>94</td>\n",
       "      <td>100</td>\n",
       "      <td>11.14</td>\n",
       "    </tr>\n",
       "    <tr>\n",
       "      <th>3</th>\n",
       "      <td>Kapaa</td>\n",
       "      <td>US</td>\n",
       "      <td>5848280</td>\n",
       "      <td>22.0752</td>\n",
       "      <td>-159.3190</td>\n",
       "      <td>72.82</td>\n",
       "      <td>78</td>\n",
       "      <td>20</td>\n",
       "      <td>18.41</td>\n",
       "    </tr>\n",
       "    <tr>\n",
       "      <th>4</th>\n",
       "      <td>Hearst</td>\n",
       "      <td>CA</td>\n",
       "      <td>5973108</td>\n",
       "      <td>49.6835</td>\n",
       "      <td>-83.6665</td>\n",
       "      <td>26.60</td>\n",
       "      <td>93</td>\n",
       "      <td>89</td>\n",
       "      <td>2.30</td>\n",
       "    </tr>\n",
       "  </tbody>\n",
       "</table>\n",
       "</div>"
      ],
      "text/plain": [
       "         City Country  City ID  Latitude  Longitude  temperature  humidity  \\\n",
       "0     Te Anau      NZ  2181625  -45.4167   167.7167        75.51        39   \n",
       "1     Mataura      NZ  6201424  -46.1927   168.8643        73.87        53   \n",
       "2  Nanortalik      GL  3421765   60.1432   -45.2371        28.99        94   \n",
       "3       Kapaa      US  5848280   22.0752  -159.3190        72.82        78   \n",
       "4      Hearst      CA  5973108   49.6835   -83.6665        26.60        93   \n",
       "\n",
       "   cloudiness  wind speed  \n",
       "0           0        5.66  \n",
       "1          16        7.65  \n",
       "2         100       11.14  \n",
       "3          20       18.41  \n",
       "4          89        2.30  "
      ]
     },
     "execution_count": 20,
     "metadata": {},
     "output_type": "execute_result"
    }
   ],
   "source": [
    "# Save the updated dataframe as a csv\n",
    "weather_data.to_csv(\"Resources/city_data.csv\", encoding=\"utf-8\", index=False)\n",
    "weather_data.head()"
   ]
  },
  {
   "cell_type": "markdown",
   "metadata": {},
   "source": [
    "## Inspect the data and remove the cities where the humidity > 100%.\n",
    "----\n",
    "Skip this step if there are no cities that have humidity > 100%. "
   ]
  },
  {
   "cell_type": "code",
   "execution_count": 21,
   "metadata": {},
   "outputs": [
    {
     "data": {
      "text/html": [
       "<div>\n",
       "<style scoped>\n",
       "    .dataframe tbody tr th:only-of-type {\n",
       "        vertical-align: middle;\n",
       "    }\n",
       "\n",
       "    .dataframe tbody tr th {\n",
       "        vertical-align: top;\n",
       "    }\n",
       "\n",
       "    .dataframe thead th {\n",
       "        text-align: right;\n",
       "    }\n",
       "</style>\n",
       "<table border=\"1\" class=\"dataframe\">\n",
       "  <thead>\n",
       "    <tr style=\"text-align: right;\">\n",
       "      <th></th>\n",
       "      <th>City</th>\n",
       "      <th>Country</th>\n",
       "      <th>City ID</th>\n",
       "      <th>Latitude</th>\n",
       "      <th>Longitude</th>\n",
       "      <th>temperature</th>\n",
       "      <th>humidity</th>\n",
       "      <th>cloudiness</th>\n",
       "      <th>wind speed</th>\n",
       "    </tr>\n",
       "  </thead>\n",
       "  <tbody>\n",
       "    <tr>\n",
       "      <th>0</th>\n",
       "      <td>Te Anau</td>\n",
       "      <td>NZ</td>\n",
       "      <td>2181625</td>\n",
       "      <td>-45.4167</td>\n",
       "      <td>167.7167</td>\n",
       "      <td>75.51</td>\n",
       "      <td>39</td>\n",
       "      <td>0</td>\n",
       "      <td>5.66</td>\n",
       "    </tr>\n",
       "    <tr>\n",
       "      <th>1</th>\n",
       "      <td>Mataura</td>\n",
       "      <td>NZ</td>\n",
       "      <td>6201424</td>\n",
       "      <td>-46.1927</td>\n",
       "      <td>168.8643</td>\n",
       "      <td>73.87</td>\n",
       "      <td>53</td>\n",
       "      <td>16</td>\n",
       "      <td>7.65</td>\n",
       "    </tr>\n",
       "    <tr>\n",
       "      <th>2</th>\n",
       "      <td>Nanortalik</td>\n",
       "      <td>GL</td>\n",
       "      <td>3421765</td>\n",
       "      <td>60.1432</td>\n",
       "      <td>-45.2371</td>\n",
       "      <td>28.99</td>\n",
       "      <td>94</td>\n",
       "      <td>100</td>\n",
       "      <td>11.14</td>\n",
       "    </tr>\n",
       "    <tr>\n",
       "      <th>3</th>\n",
       "      <td>Kapaa</td>\n",
       "      <td>US</td>\n",
       "      <td>5848280</td>\n",
       "      <td>22.0752</td>\n",
       "      <td>-159.3190</td>\n",
       "      <td>72.82</td>\n",
       "      <td>78</td>\n",
       "      <td>20</td>\n",
       "      <td>18.41</td>\n",
       "    </tr>\n",
       "    <tr>\n",
       "      <th>4</th>\n",
       "      <td>Hearst</td>\n",
       "      <td>CA</td>\n",
       "      <td>5973108</td>\n",
       "      <td>49.6835</td>\n",
       "      <td>-83.6665</td>\n",
       "      <td>26.60</td>\n",
       "      <td>93</td>\n",
       "      <td>89</td>\n",
       "      <td>2.30</td>\n",
       "    </tr>\n",
       "    <tr>\n",
       "      <th>...</th>\n",
       "      <td>...</td>\n",
       "      <td>...</td>\n",
       "      <td>...</td>\n",
       "      <td>...</td>\n",
       "      <td>...</td>\n",
       "      <td>...</td>\n",
       "      <td>...</td>\n",
       "      <td>...</td>\n",
       "      <td>...</td>\n",
       "    </tr>\n",
       "    <tr>\n",
       "      <th>561</th>\n",
       "      <td>Mount Isa</td>\n",
       "      <td>AU</td>\n",
       "      <td>2065594</td>\n",
       "      <td>-20.7333</td>\n",
       "      <td>139.5000</td>\n",
       "      <td>96.80</td>\n",
       "      <td>23</td>\n",
       "      <td>0</td>\n",
       "      <td>13.80</td>\n",
       "    </tr>\n",
       "    <tr>\n",
       "      <th>562</th>\n",
       "      <td>Zhob</td>\n",
       "      <td>PK</td>\n",
       "      <td>1162105</td>\n",
       "      <td>31.3411</td>\n",
       "      <td>69.4481</td>\n",
       "      <td>48.61</td>\n",
       "      <td>40</td>\n",
       "      <td>3</td>\n",
       "      <td>0.83</td>\n",
       "    </tr>\n",
       "    <tr>\n",
       "      <th>563</th>\n",
       "      <td>Formosa</td>\n",
       "      <td>AR</td>\n",
       "      <td>3433899</td>\n",
       "      <td>-26.1775</td>\n",
       "      <td>-58.1781</td>\n",
       "      <td>80.60</td>\n",
       "      <td>78</td>\n",
       "      <td>0</td>\n",
       "      <td>8.05</td>\n",
       "    </tr>\n",
       "    <tr>\n",
       "      <th>564</th>\n",
       "      <td>Tofield</td>\n",
       "      <td>CA</td>\n",
       "      <td>6167254</td>\n",
       "      <td>53.3668</td>\n",
       "      <td>-112.6686</td>\n",
       "      <td>28.99</td>\n",
       "      <td>80</td>\n",
       "      <td>67</td>\n",
       "      <td>21.85</td>\n",
       "    </tr>\n",
       "    <tr>\n",
       "      <th>565</th>\n",
       "      <td>Krasnovishersk</td>\n",
       "      <td>RU</td>\n",
       "      <td>542184</td>\n",
       "      <td>60.4078</td>\n",
       "      <td>57.0820</td>\n",
       "      <td>-18.00</td>\n",
       "      <td>85</td>\n",
       "      <td>0</td>\n",
       "      <td>2.04</td>\n",
       "    </tr>\n",
       "  </tbody>\n",
       "</table>\n",
       "<p>548 rows × 9 columns</p>\n",
       "</div>"
      ],
      "text/plain": [
       "               City Country  City ID  Latitude  Longitude  temperature  \\\n",
       "0           Te Anau      NZ  2181625  -45.4167   167.7167        75.51   \n",
       "1           Mataura      NZ  6201424  -46.1927   168.8643        73.87   \n",
       "2        Nanortalik      GL  3421765   60.1432   -45.2371        28.99   \n",
       "3             Kapaa      US  5848280   22.0752  -159.3190        72.82   \n",
       "4            Hearst      CA  5973108   49.6835   -83.6665        26.60   \n",
       "..              ...     ...      ...       ...        ...          ...   \n",
       "561       Mount Isa      AU  2065594  -20.7333   139.5000        96.80   \n",
       "562            Zhob      PK  1162105   31.3411    69.4481        48.61   \n",
       "563         Formosa      AR  3433899  -26.1775   -58.1781        80.60   \n",
       "564         Tofield      CA  6167254   53.3668  -112.6686        28.99   \n",
       "565  Krasnovishersk      RU   542184   60.4078    57.0820       -18.00   \n",
       "\n",
       "     humidity  cloudiness  wind speed  \n",
       "0          39           0        5.66  \n",
       "1          53          16        7.65  \n",
       "2          94         100       11.14  \n",
       "3          78          20       18.41  \n",
       "4          93          89        2.30  \n",
       "..        ...         ...         ...  \n",
       "561        23           0       13.80  \n",
       "562        40           3        0.83  \n",
       "563        78           0        8.05  \n",
       "564        80          67       21.85  \n",
       "565        85           0        2.04  \n",
       "\n",
       "[548 rows x 9 columns]"
      ]
     },
     "execution_count": 21,
     "metadata": {},
     "output_type": "execute_result"
    }
   ],
   "source": [
    "humidity_100 = weather_data.loc[weather_data[\"humidity\"] <100]\n",
    "humidity_100"
   ]
  },
  {
   "cell_type": "code",
   "execution_count": 22,
   "metadata": {},
   "outputs": [],
   "source": [
    "#  Get the indices of cities that have humidity over 100%.\n",
    "#index = humidity_100.index\n",
    "#index"
   ]
  },
  {
   "cell_type": "code",
   "execution_count": 23,
   "metadata": {},
   "outputs": [],
   "source": [
    "# Make a new DataFrame equal to the city data to drop all humidity outliers by index.\n",
    "# Passing \"inplace=False\" will make a copy of the city_data DataFrame, which we call \"clean_city_data\".\n",
    "\n",
    "#clean_city_data = weather_data.dropna[(weather_data[\"humidity\"] != )]"
   ]
  },
  {
   "cell_type": "code",
   "execution_count": 24,
   "metadata": {
    "scrolled": true
   },
   "outputs": [
    {
     "data": {
      "text/plain": [
       "City            object\n",
       "Country         object\n",
       "City ID          int64\n",
       "Latitude       float64\n",
       "Longitude      float64\n",
       "temperature    float64\n",
       "humidity         int64\n",
       "cloudiness       int64\n",
       "wind speed     float64\n",
       "dtype: object"
      ]
     },
     "execution_count": 24,
     "metadata": {},
     "output_type": "execute_result"
    }
   ],
   "source": [
    "humidity_100.dtypes"
   ]
  },
  {
   "cell_type": "markdown",
   "metadata": {},
   "source": [
    "## Plotting the Data\n",
    "* Use proper labeling of the plots using plot titles (including date of analysis) and axes labels.\n",
    "* Save the plotted figures as .pngs."
   ]
  },
  {
   "cell_type": "markdown",
   "metadata": {},
   "source": [
    "## Latitude vs. Temperature Plot"
   ]
  },
  {
   "cell_type": "code",
   "execution_count": 25,
   "metadata": {
    "scrolled": true
   },
   "outputs": [
    {
     "data": {
      "image/png": "[encoded data removed]",
      "text/plain": [
       "<Figure size 576x576 with 1 Axes>"
      ]
     },
     "metadata": {
      "needs_background": "light"
     },
     "output_type": "display_data"
    }
   ],
   "source": [
    "humidity_100.plot(kind=\"scatter\", x=\"Latitude\", y=\"temperature\", grid=True, figsize=(8, 8),\n",
    "                  title=\"Latitude vs Temperature\")\n",
    "\n",
    "plt.savefig(\"Resources/LatvsTemp.png\")"
   ]
  },
  {
   "cell_type": "markdown",
   "metadata": {},
   "source": [
    "## Latitude vs. Humidity Plot"
   ]
  },
  {
   "cell_type": "code",
   "execution_count": 26,
   "metadata": {},
   "outputs": [
    {
     "data": {
      "image/png": "[encoded data removed]",
      "text/plain": [
       "<Figure size 576x576 with 1 Axes>"
      ]
     },
     "metadata": {
      "needs_background": "light"
     },
     "output_type": "display_data"
    }
   ],
   "source": [
    "humidity_100.plot(kind=\"scatter\", x=\"Latitude\", y=\"humidity\", grid=True, figsize=(8, 8),\n",
    "                  title=\"Latitude vs Humidity\")\n",
    "\n",
    "plt.savefig(\"Resources/LatvsHumid.png\")"
   ]
  },
  {
   "cell_type": "markdown",
   "metadata": {},
   "source": [
    "## Latitude vs. Cloudiness Plot"
   ]
  },
  {
   "cell_type": "code",
   "execution_count": 27,
   "metadata": {},
   "outputs": [
    {
     "data": {
      "image/png": "[encoded data removed]",
      "text/plain": [
       "<Figure size 576x576 with 1 Axes>"
      ]
     },
     "metadata": {
      "needs_background": "light"
     },
     "output_type": "display_data"
    }
   ],
   "source": [
    "humidity_100.plot(kind=\"scatter\", x=\"Latitude\", y=\"cloudiness\", grid=True, figsize=(8, 8),\n",
    "                  title=\"Latitude vs Cloudiness\")\n",
    "\n",
    "plt.savefig(\"Resources/LatvsCloud.png\")"
   ]
  },
  {
   "cell_type": "markdown",
   "metadata": {},
   "source": [
    "## Latitude vs. Wind Speed Plot"
   ]
  },
  {
   "cell_type": "code",
   "execution_count": 28,
   "metadata": {},
   "outputs": [
    {
     "data": {
      "image/png": "[encoded data removed]",
      "text/plain": [
       "<Figure size 576x576 with 1 Axes>"
      ]
     },
     "metadata": {
      "needs_background": "light"
     },
     "output_type": "display_data"
    }
   ],
   "source": [
    "humidity_100.plot(kind=\"scatter\", x=\"Latitude\", y=\"wind speed\", grid=True, figsize=(8, 8),\n",
    "                  title=\"Latitude vs Wind Speed\")\n",
    "\n",
    "plt.savefig(\"Resources/LatvsWind.png\")"
   ]
  },
  {
   "cell_type": "code",
   "execution_count": null,
   "metadata": {},
   "outputs": [],
   "source": []
  },
  {
   "cell_type": "markdown",
   "metadata": {},
   "source": [
    "## Linear Regression"
   ]
  },
  {
   "cell_type": "code",
   "execution_count": 29,
   "metadata": {},
   "outputs": [],
   "source": [
    "north_hem = humidity_100.loc[humidity_100[\"Latitude\"] >= 0]\n",
    "south_hem = humidity_100.loc[humidity_100[\"Latitude\"] < 0]"
   ]
  },
  {
   "cell_type": "markdown",
   "metadata": {},
   "source": [
    "####  Northern Hemisphere - Max Temp vs. Latitude Linear Regression"
   ]
  },
  {
   "cell_type": "code",
   "execution_count": 30,
   "metadata": {},
   "outputs": [
    {
     "name": "stdout",
     "output_type": "stream",
     "text": [
      "The r-squared is: 0.7602240909364001\n"
     ]
    },
    {
     "data": {
      "image/png": "[encoded data removed]",
      "text/plain": [
       "<Figure size 432x288 with 1 Axes>"
      ]
     },
     "metadata": {
      "needs_background": "light"
     },
     "output_type": "display_data"
    },
    {
     "data": {
      "text/plain": [
       "<Figure size 432x288 with 0 Axes>"
      ]
     },
     "metadata": {},
     "output_type": "display_data"
    }
   ],
   "source": [
    "# Add the linear regression equation and line to plot\n",
    "x_values = north_hem['Latitude']\n",
    "y_values = north_hem['temperature']\n",
    "\n",
    "#all of these calculations are formulated by 'linregress'\n",
    "(slope, intercept, rvalue, pvalue, stderr) = linregress(x_values, y_values)\n",
    "regress_values = x_values * slope + intercept\n",
    "line_eq = \"y = \" + str(round(slope,2)) + \"x + \" + str(round(intercept,2))\n",
    "\n",
    "plt.scatter(x_values,y_values)\n",
    "\n",
    "plt.plot(x_values,regress_values,\"r-\")\n",
    "plt.annotate(line_eq,(6,10),fontsize=15,color=\"red\")\n",
    "\n",
    "plt.xlabel('Latitude')\n",
    "plt.ylabel('Temperature (F)')\n",
    "plt.title('Temperature vs Latitude Northern Hemisphere')\n",
    "print(f\"The r-squared is: {rvalue**2}\")\n",
    "plt.show()\n",
    "\n",
    "plt.savefig(\"Resources/North_LatvsTemp_LinReg.png\")"
   ]
  },
  {
   "cell_type": "markdown",
   "metadata": {},
   "source": [
    "####  Southern Hemisphere - Max Temp vs. Latitude Linear Regression"
   ]
  },
  {
   "cell_type": "code",
   "execution_count": 31,
   "metadata": {},
   "outputs": [
    {
     "name": "stdout",
     "output_type": "stream",
     "text": [
      "The r-squared is: 0.1707500302527112\n"
     ]
    },
    {
     "data": {
      "image/png": "[encoded data removed]",
      "text/plain": [
       "<Figure size 432x288 with 1 Axes>"
      ]
     },
     "metadata": {
      "needs_background": "light"
     },
     "output_type": "display_data"
    },
    {
     "data": {
      "text/plain": [
       "<Figure size 432x288 with 0 Axes>"
      ]
     },
     "metadata": {},
     "output_type": "display_data"
    }
   ],
   "source": [
    "# Add the linear regression equation and line to plot\n",
    "x_values = south_hem['Latitude']\n",
    "y_values = south_hem['temperature']\n",
    "\n",
    "#all of these calculations are formulated by 'linregress'\n",
    "(slope, intercept, rvalue, pvalue, stderr) = linregress(x_values, y_values)\n",
    "regress_values = x_values * slope + intercept\n",
    "line_eq = \"y = \" + str(round(slope,2)) + \"x + \" + str(round(intercept,2))\n",
    "\n",
    "plt.scatter(x_values,y_values)\n",
    "\n",
    "plt.plot(x_values,regress_values,\"r-\")\n",
    "plt.annotate(line_eq,(6,10),fontsize=15,color=\"red\")\n",
    "\n",
    "plt.xlabel('Latitude')\n",
    "plt.ylabel('Temperature (F)')\n",
    "plt.title('Temperature vs Latitude Southern Hemisphere')\n",
    "print(f\"The r-squared is: {rvalue**2}\")\n",
    "plt.show()\n",
    "\n",
    "\n",
    "plt.savefig(\"Resources/South_LatvsTemp_LinReg.png\")"
   ]
  },
  {
   "cell_type": "markdown",
   "metadata": {},
   "source": [
    "####  Northern Hemisphere - Humidity (%) vs. Latitude Linear Regression"
   ]
  },
  {
   "cell_type": "code",
   "execution_count": 32,
   "metadata": {},
   "outputs": [
    {
     "name": "stdout",
     "output_type": "stream",
     "text": [
      "The r-squared is: 0.13883068485966296\n"
     ]
    },
    {
     "data": {
      "image/png": "[encoded data removed]",
      "text/plain": [
       "<Figure size 432x288 with 1 Axes>"
      ]
     },
     "metadata": {
      "needs_background": "light"
     },
     "output_type": "display_data"
    },
    {
     "data": {
      "text/plain": [
       "<Figure size 432x288 with 0 Axes>"
      ]
     },
     "metadata": {},
     "output_type": "display_data"
    }
   ],
   "source": [
    "# Add the linear regression equation and line to plot\n",
    "x_values = north_hem['Latitude']\n",
    "y_values = north_hem['humidity']\n",
    "\n",
    "#all of these calculations are formulated by 'linregress'\n",
    "(slope, intercept, rvalue, pvalue, stderr) = linregress(x_values, y_values)\n",
    "regress_values = x_values * slope + intercept\n",
    "line_eq = \"y = \" + str(round(slope,2)) + \"x + \" + str(round(intercept,2))\n",
    "\n",
    "plt.scatter(x_values,y_values)\n",
    "\n",
    "plt.plot(x_values,regress_values,\"r-\")\n",
    "plt.annotate(line_eq,(6,10),fontsize=15,color=\"red\")\n",
    "\n",
    "plt.xlabel('Latitude')\n",
    "plt.ylabel('Humidity (%))')\n",
    "plt.title('Humidity vs Latitude Northern Hemisphere')\n",
    "print(f\"The r-squared is: {rvalue**2}\")\n",
    "plt.show()\n",
    "\n",
    "plt.savefig(\"Resources/North_LatvsHumid_LinReg.png\")"
   ]
  },
  {
   "cell_type": "markdown",
   "metadata": {},
   "source": [
    "####  Southern Hemisphere - Humidity (%) vs. Latitude Linear Regression"
   ]
  },
  {
   "cell_type": "code",
   "execution_count": 33,
   "metadata": {},
   "outputs": [
    {
     "name": "stdout",
     "output_type": "stream",
     "text": [
      "The r-squared is: 0.08964010538631383\n"
     ]
    },
    {
     "data": {
      "image/png": "[encoded data removed]",
      "text/plain": [
       "<Figure size 432x288 with 1 Axes>"
      ]
     },
     "metadata": {
      "needs_background": "light"
     },
     "output_type": "display_data"
    },
    {
     "data": {
      "text/plain": [
       "<Figure size 432x288 with 0 Axes>"
      ]
     },
     "metadata": {},
     "output_type": "display_data"
    }
   ],
   "source": [
    "# Add the linear regression equation and line to plot\n",
    "x_values = south_hem['Latitude']\n",
    "y_values = south_hem['humidity']\n",
    "\n",
    "#all of these calculations are formulated by 'linregress'\n",
    "(slope, intercept, rvalue, pvalue, stderr) = linregress(x_values, y_values)\n",
    "regress_values = x_values * slope + intercept\n",
    "line_eq = \"y = \" + str(round(slope,2)) + \"x + \" + str(round(intercept,2))\n",
    "\n",
    "plt.scatter(x_values,y_values)\n",
    "\n",
    "plt.plot(x_values,regress_values,\"r-\")\n",
    "plt.annotate(line_eq,(6,10),fontsize=15,color=\"red\")\n",
    "\n",
    "plt.xlabel('Latitude')\n",
    "plt.ylabel('Humidity (%))')\n",
    "plt.title('Humidity vs Latitude Southern Hemisphere')\n",
    "print(f\"The r-squared is: {rvalue**2}\")\n",
    "plt.show()\n",
    "\n",
    "plt.savefig(\"Resources/South_LatvsHumid_LinReg.png\")"
   ]
  },
  {
   "cell_type": "markdown",
   "metadata": {},
   "source": [
    "####  Northern Hemisphere - Cloudiness (%) vs. Latitude Linear Regression"
   ]
  },
  {
   "cell_type": "code",
   "execution_count": 34,
   "metadata": {},
   "outputs": [
    {
     "name": "stdout",
     "output_type": "stream",
     "text": [
      "The r-squared is: 0.08655338429428056\n"
     ]
    },
    {
     "data": {
      "image/png": "[encoded data removed]",
      "text/plain": [
       "<Figure size 432x288 with 1 Axes>"
      ]
     },
     "metadata": {
      "needs_background": "light"
     },
     "output_type": "display_data"
    },
    {
     "data": {
      "text/plain": [
       "<Figure size 432x288 with 0 Axes>"
      ]
     },
     "metadata": {},
     "output_type": "display_data"
    }
   ],
   "source": [
    "x_values = north_hem['Latitude']\n",
    "y_values = north_hem['cloudiness']\n",
    "\n",
    "#all of these calculations are formulated by 'linregress'\n",
    "(slope, intercept, rvalue, pvalue, stderr) = linregress(x_values, y_values)\n",
    "regress_values = x_values * slope + intercept\n",
    "line_eq = \"y = \" + str(round(slope,2)) + \"x + \" + str(round(intercept,2))\n",
    "\n",
    "plt.scatter(x_values,y_values)\n",
    "\n",
    "plt.plot(x_values,regress_values,\"r-\")\n",
    "plt.annotate(line_eq,(6,10),fontsize=15,color=\"red\")\n",
    "\n",
    "plt.xlabel('Latitude')\n",
    "plt.ylabel('Cloudiness (%))')\n",
    "plt.title('Cloudiness vs Latitude Northern Hemisphere')\n",
    "print(f\"The r-squared is: {rvalue**2}\")\n",
    "plt.show()\n",
    "\n",
    "plt.savefig(\"Resources/North_LatvsCloud_LinReg.png\")"
   ]
  },
  {
   "cell_type": "markdown",
   "metadata": {},
   "source": [
    "####  Southern Hemisphere - Cloudiness (%) vs. Latitude Linear Regression"
   ]
  },
  {
   "cell_type": "code",
   "execution_count": 35,
   "metadata": {},
   "outputs": [
    {
     "name": "stdout",
     "output_type": "stream",
     "text": [
      "The r-squared is: 0.18780196264933602\n"
     ]
    },
    {
     "data": {
      "image/png": "[encoded data removed]",
      "text/plain": [
       "<Figure size 432x288 with 1 Axes>"
      ]
     },
     "metadata": {
      "needs_background": "light"
     },
     "output_type": "display_data"
    },
    {
     "data": {
      "text/plain": [
       "<Figure size 432x288 with 0 Axes>"
      ]
     },
     "metadata": {},
     "output_type": "display_data"
    }
   ],
   "source": [
    "x_values = south_hem['Latitude']\n",
    "y_values = south_hem['cloudiness']\n",
    "\n",
    "#all of these calculations are formulated by 'linregress'\n",
    "(slope, intercept, rvalue, pvalue, stderr) = linregress(x_values, y_values)\n",
    "regress_values = x_values * slope + intercept\n",
    "line_eq = \"y = \" + str(round(slope,2)) + \"x + \" + str(round(intercept,2))\n",
    "\n",
    "plt.scatter(x_values,y_values)\n",
    "\n",
    "plt.plot(x_values,regress_values,\"r-\")\n",
    "plt.annotate(line_eq,(6,10),fontsize=15,color=\"red\")\n",
    "\n",
    "plt.xlabel('Latitude')\n",
    "plt.ylabel('Cloudiness (%))')\n",
    "plt.title('Cloudiness vs Latitude Southern Hemisphere')\n",
    "print(f\"The r-squared is: {rvalue**2}\")\n",
    "plt.show()\n",
    "\n",
    "plt.savefig(\"Resources/South_LatvsCloud_LinReg.png\")"
   ]
  },
  {
   "cell_type": "markdown",
   "metadata": {},
   "source": [
    "####  Northern Hemisphere - Wind Speed (mph) vs. Latitude Linear Regression"
   ]
  },
  {
   "cell_type": "code",
   "execution_count": 36,
   "metadata": {},
   "outputs": [
    {
     "name": "stdout",
     "output_type": "stream",
     "text": [
      "The r-squared is: 0.0005654511899553861\n"
     ]
    },
    {
     "data": {
      "image/png": "[encoded data removed]",
      "text/plain": [
       "<Figure size 432x288 with 1 Axes>"
      ]
     },
     "metadata": {
      "needs_background": "light"
     },
     "output_type": "display_data"
    },
    {
     "data": {
      "text/plain": [
       "<Figure size 432x288 with 0 Axes>"
      ]
     },
     "metadata": {},
     "output_type": "display_data"
    }
   ],
   "source": [
    "x_values = north_hem['Latitude']\n",
    "y_values = north_hem['wind speed']\n",
    "\n",
    "#all of these calculations are formulated by 'linregress'\n",
    "(slope, intercept, rvalue, pvalue, stderr) = linregress(x_values, y_values)\n",
    "regress_values = x_values * slope + intercept\n",
    "line_eq = \"y = \" + str(round(slope,2)) + \"x + \" + str(round(intercept,2))\n",
    "\n",
    "plt.scatter(x_values,y_values)\n",
    "\n",
    "plt.plot(x_values,regress_values,\"r-\")\n",
    "plt.annotate(line_eq,(6,10),fontsize=15,color=\"red\")\n",
    "\n",
    "plt.xlabel('Latitude')\n",
    "plt.ylabel('Wind Speed (mph))')\n",
    "plt.title('Wind Speed vs Latitude Northern Hemisphere')\n",
    "print(f\"The r-squared is: {rvalue**2}\")\n",
    "plt.show()\n",
    "\n",
    "plt.savefig(\"Resources/North_LatvsWind_LinReg.png\")"
   ]
  },
  {
   "cell_type": "markdown",
   "metadata": {},
   "source": [
    "####  Southern Hemisphere - Wind Speed (mph) vs. Latitude Linear Regression"
   ]
  },
  {
   "cell_type": "code",
   "execution_count": 37,
   "metadata": {},
   "outputs": [
    {
     "name": "stdout",
     "output_type": "stream",
     "text": [
      "The r-squared is: 0.06990885056369327\n"
     ]
    },
    {
     "data": {
      "image/png": "[encoded data removed]",
      "text/plain": [
       "<Figure size 432x288 with 1 Axes>"
      ]
     },
     "metadata": {
      "needs_background": "light"
     },
     "output_type": "display_data"
    },
    {
     "data": {
      "text/plain": [
       "<Figure size 432x288 with 0 Axes>"
      ]
     },
     "metadata": {},
     "output_type": "display_data"
    }
   ],
   "source": [
    "x_values = south_hem['Latitude']\n",
    "y_values = south_hem['wind speed']\n",
    "\n",
    "#all of these calculations are formulated by 'linregress'\n",
    "(slope, intercept, rvalue, pvalue, stderr) = linregress(x_values, y_values)\n",
    "regress_values = x_values * slope + intercept\n",
    "line_eq = \"y = \" + str(round(slope,2)) + \"x + \" + str(round(intercept,2))\n",
    "\n",
    "plt.scatter(x_values,y_values)\n",
    "\n",
    "plt.plot(x_values,regress_values,\"r-\")\n",
    "plt.annotate(line_eq,(6,10),fontsize=15,color=\"red\")\n",
    "\n",
    "plt.xlabel('Latitude')\n",
    "plt.ylabel('Wind Speed (mph))')\n",
    "plt.title('Wind Speed vs Latitude Southern Hemisphere')\n",
    "print(f\"The r-squared is: {rvalue**2}\")\n",
    "plt.show()\n",
    "\n",
    "plt.savefig(\"Resources/South_LatvsWind_LinReg.png\")"
   ]
  },
  {
   "cell_type": "code",
   "execution_count": null,
   "metadata": {},
   "outputs": [],
   "source": []
  },
  {
   "cell_type": "code",
   "execution_count": null,
   "metadata": {},
   "outputs": [],
   "source": []
  }
 ],
 "metadata": {
  "anaconda-cloud": {},
  "kernel_info": {
   "name": "python3"
  },
  "kernelspec": {
   "display_name": "Python 3",
   "language": "python",
   "name": "python3"
  },
  "language_info": {
   "codemirror_mode": {
    "name": "ipython",
    "version": 3
   },
   "file_extension": ".py",
   "mimetype": "text/x-python",
   "name": "python",
   "nbconvert_exporter": "python",
   "pygments_lexer": "ipython3",
   "version": "3.8.3"
  },
  "latex_envs": {
   "LaTeX_envs_menu_present": true,
   "autoclose": false,
   "autocomplete": true,
   "bibliofile": "biblio.bib",
   "cite_by": "apalike",
   "current_citInitial": 1,
   "eqLabelWithNumbers": true,
   "eqNumInitial": 1,
   "hotkeys": {
    "equation": "Ctrl-E",
    "itemize": "Ctrl-I"
   },
   "labels_anchors": false,
   "latex_user_defs": false,
   "report_style_numbering": false,
   "user_envs_cfg": false
  },
  "nteract": {
   "version": "0.12.3"
  }
 },
 "nbformat": 4,
 "nbformat_minor": 2
}
