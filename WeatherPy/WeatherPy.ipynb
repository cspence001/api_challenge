{
 "cells": [
  {
   "cell_type": "markdown",
   "metadata": {},
   "source": [
    "# WeatherPy\n",
    "----\n",
    "\n",
    "#### Note\n",
    "* Instructions have been included for each segment. You do not have to follow them exactly, but they are included to help you think through the steps."
   ]
  },
  {
   "cell_type": "code",
   "execution_count": 7,
   "metadata": {},
   "outputs": [
    {
     "name": "stdout",
     "output_type": "stream",
     "text": [
      "Requirement already satisfied: citipy in /opt/anaconda3/lib/python3.8/site-packages (0.0.5)\n",
      "Requirement already satisfied: kdtree>=0.12 in /opt/anaconda3/lib/python3.8/site-packages (from citipy) (0.16)\n",
      "Note: you may need to restart the kernel to use updated packages.\n"
     ]
    }
   ],
   "source": [
    "pip install citipy"
   ]
  },
  {
   "cell_type": "code",
   "execution_count": 1,
   "metadata": {
    "scrolled": true
   },
   "outputs": [],
   "source": [
    "# Dependencies and Setup\n",
    "import matplotlib.pyplot as plt\n",
    "import pandas as pd\n",
    "import numpy as np\n",
    "import requests\n",
    "import time\n",
    "from scipy.stats import linregress\n",
    "\n",
    "# Import API key\n",
    "from api_keys import weather_api_key\n",
    "\n",
    "# Incorporated citipy to determine city based on latitude and longitude\n",
    "from citipy import citipy\n",
    "\n",
    "# Output File (CSV)\n",
    "output_data_file = \"Resources/cities.csv\"\n",
    "\n",
    "# Range of latitudes and longitudes\n",
    "lat_range = (-90, 90)\n",
    "lng_range = (-180, 180)"
   ]
  },
  {
   "cell_type": "markdown",
   "metadata": {},
   "source": [
    "## Generate Cities List"
   ]
  },
  {
   "cell_type": "code",
   "execution_count": 2,
   "metadata": {},
   "outputs": [
    {
     "data": {
      "text/plain": [
       "622"
      ]
     },
     "execution_count": 2,
     "metadata": {},
     "output_type": "execute_result"
    }
   ],
   "source": [
    "# List for holding lat_lngs and cities\n",
    "lat_lngs = []\n",
    "cities = []\n",
    "\n",
    "# Create a set of random lat and lng combinations\n",
    "lats = np.random.uniform(lat_range[0], lat_range[1], size=1500)\n",
    "lngs = np.random.uniform(lng_range[0], lng_range[1], size=1500)\n",
    "lat_lngs = zip(lats, lngs)\n",
    "\n",
    "# Identify nearest city for each lat, lng combination\n",
    "for lat_lng in lat_lngs:\n",
    "    city = citipy.nearest_city(lat_lng[0], lat_lng[1]).city_name\n",
    "    \n",
    "    # If the city is unique, then add it to a our cities list\n",
    "    if city not in cities:\n",
    "        cities.append(city)\n",
    "\n",
    "# Print the city count to confirm sufficient count\n",
    "len(cities)"
   ]
  },
  {
   "cell_type": "code",
   "execution_count": 3,
   "metadata": {},
   "outputs": [
    {
     "name": "stdout",
     "output_type": "stream",
     "text": [
      "['huejucar', 'barentsburg', 'mar del plata', 'carnarvon', 'predivinsk', 'ushuaia', 'iqaluit', 'pevek', 'aflu', 'soyo', 'san patricio', 'hermanus', 'albany', 'bluff', 'requena', 'port shepstone', 'new norfolk', 'port elizabeth', 'barrow', 'bambous virieux', 'graham', 'sambava', 'petersburg', 'kralendijk', 'mataura', 'sao filipe', 'punta arenas', 'thompson', 'castro', 'petropavlovsk-kamchatskiy', 'saint-philippe', 'cascais', 'huarmey', 'palana', 'victoria', 'coihaique', 'idah', 'puerto ayora', 'vaitupu', 'launceston', 'hamilton', 'tsihombe', 'aquiraz', 'bereda', 'ancud', 'vaini', 'yellowknife', 'jamestown', 'atuona', 'preston', 'busselton', 'labuan', 'mahebourg', 'husavik', 'lorengau', 'saskylakh', 'bethel', 'dikson', 'hobart', 'rikitea', 'butaritari', 'bocas del toro', 'san carlos del zulia', 'ust-maya', 'kodiak', 'hovd', 'lebu', 'cabo san lucas', 'grindavik', 'rundu', 'sentyabrskiy', 'chuy', 'cape town', 'nikolskoye', 'xining', 'lolua', 'westpunt', 'bolungarvik', 'los llanos de aridane', 'longyearbyen', 'ndjole', 'clyde river', 'kapaa', 'stornoway', 'umm lajj', 'synya', 'strelka', 'umzimvubu', 'lichinga', 'opobo', 'kaitangata', 'general roca', 'port blair', 'kamaishi', 'richmond', 'tutoia', 'krabi', 'dingle', 'verkhoyansk', 'mildura', 'qaanaaq', 'taltal', 'hobyo', 'xuddur', 'afikpo', 'livingston', 'lac-au-saumon', 'la ronge', 'hami', 'waddan', 'te anau', 'resplendor', 'avarua', 'saint anthony', 'new haven', 'pacifica', 'asind', 'dulce nombre de culmi', 'trani', 'coquimbo', 'egvekinot', 'monrovia', 'georgetown', 'arraial do cabo', 'chokurdakh', 'marystown', 'ponta do sol', 'komsomolskiy', 'nelson bay', 'khatanga', 'zaozerne', 'saldanha', 'neon soulion', 'camana', 'black diamond', 'conceicao do araguaia', 'marfino', 'louisbourg', 'tasiilaq', 'sinjai', 'taolanaro', 'ayorou', 'balkanabat', 'goksun', 'lompoc', 'san policarpo', 'shebalino', 'port alfred', 'centralia', 'pangnirtung', 'vila franca do campo', 'grand river south east', 'beringovskiy', 'quatre cocos', 'veraval', 'conway', 'samusu', 'port lincoln', 'kyren', 'saint george', 'trelew', 'cefalu', 'mys shmidta', 'ostrovnoy', 'tuktoyaktuk', 'tessalit', 'nanortalik', 'vung tau', 'evensk', 'buraydah', 'severo-kurilsk', 'ozernovskiy', 'ambilobe', 'san quintin', 'anadyr', 'faanui', 'berlevag', 'kamenskoye', 'marsh harbour', 'esmeraldas', 'lazaro cardenas', 'san pedro', 'belmonte', 'attawapiskat', 'almaznyy', 'bredasdorp', 'tazovskiy', 'xudat', 'manakara', 'richards bay', 'hoopstad', 'camara de lobos', 'tawkar', 'villa union', 'marsabit', 'pimentel', 'vinh', 'hofn', 'usiacuri', 'yining', 'bengkulu', 'la libertad', 'bhabua', 'saint-pierre', 'hasaki', 'lata', 'sungaipenuh', 'kerema', 'haibowan', 'kahului', 'pangody', 'carutapera', 'baoro', 'santa maria', 'touros', 'akdepe', 'warqla', 'sao joao da barra', 'tiksi', 'svetlyy', 'hithadhoo', 'stovring', 'omboue', 'lisieux', 'bilma', 'cidreira', 'punta alta', 'tumannyy', 'hilo', 'okhotsk', 'athabasca', 'sitka', 'east london', 'cherskiy', 'airai', 'namatanai', 'talnakh', 'muros', 'ilulissat', 'laguna', 'lander', 'aldergrove', 'faya', 'tampa', 'kaeo', 'pinega', 'sembakung', 'klaksvik', 'presidencia roque saenz pena', 'tornio', 'srednekolymsk', 'marinette', 'ust-nera', 'kirovskiy', 'camacha', 'rome', 'illoqqortoormiut', 'bay roberts', 'nome', 'karaj', 'ilhabela', 'lenger', 'ewo', 'adre', 'fomboni', 'cedral', 'upernavik', 'sangar', 'vzmorye', 'pisco', 'barbar', 'port hardy', 'tyup', 'amderma', 'ziro', 'gat', 'belushya guba', 'lumeje', 'nizhneyansk', 'lakinsk', 'acarau', 'rosetta', 'caravelas', 'kumba', 'berdigestyakh', 'fairbanks', 'finote selam', 'san cristobal', 'torbay', 'ribeira grande', 'burns lake', 'the valley', 'slidell', 'kutum', 'asau', 'nacozari', 'voh', 'demidov', 'bathsheba', 'bayangol', 'geraldton', 'neiafu', 'meyungs', 'zeya', 'jacqueville', 'nisia floresta', 'kloulklubed', 'adrar', 'soeng sang', 'rock sound', 'kurmanayevka', 'fortuna', 'ermelo', 'lavrentiya', 'aginskoye', 'comodoro rivadavia', 'shirokiy', 'chropyne', 'dongsheng', 'sinegorye', 'uglekamensk', 'lasa', 'narsaq', 'tokur', 'hambantota', 'potosi', 'sorland', 'baracoa', 'cabedelo', 'rocha', 'inhambane', 'teya', 'matara', 'bokspits', 'sola', 'pampa', 'ituni', 'denpasar', 'nabire', 'lafiagi', 'paso de los toros', 'ghorawal', 'gwadar', 'biak', 'nenjiang', 'klyuchi', 'stettler', 'kunming', 'nha trang', 'buckeye', 'henties bay', 'xixiang', 'brae', 'chapais', 'katherine', 'jamame', 'rincon', 'dali', 'jiuquan', 'galesong', 'luziania', 'tanabe', 'copala', 'morondava', 'aripuana', 'pokaran', 'norman wells', 'llangefni', 'cairns', 'vardo', 'prince rupert', 'port-gentil', 'luanda', 'farafangana', 'ojinaga', 'gympie', 'abha', 'taft', 'codrington', 'mujiayingzi', 'san jose', 'surt', 'emerald', 'aswan', 'kirksville', 'naftah', 'falam', 'katsuura', 'sakaraha', 'kholm', 'mount isa', 'herat', 'pacific grove', 'kavieng', 'west richland', 'jumla', 'puro', 'byron bay', 'oussouye', 'wanning', 'dukat', 'candido de abreu', 'seka', 'natal', 'bairnsdale', 'fort-shevchenko', 'tilichiki', 'zhigansk', 'port augusta', 'ust-omchug', 'rudnogorsk', 'ulladulla', 'zadar', 'itororo', 'olean', 'leh', 'praia da vitoria', 'amambai', 'port hedland', 'sobolevo', 'enterprise', 'pelym', 'northam', 'arlit', 'krasnoselkup', 'kropotkin', 'chara', 'gushi', 'vostok', 'karasjok', 'verkhnevilyuysk', 'high level', 'anloga', 'kon tum', 'olafsvik', 'lagoa', 'boditi', 'banjar', 'flinders', 'takoradi', 'japura', 'dargaville', 'hokitika', 'cooma', 'puerto escondido', 'acajutla', 'avera', 'wamba', 'vao', 'ternate', 'isangel', 'souillac', 'deputatskiy', 'dipkarpaz', 'keti bandar', 'yershov', 'pozhva', 'rozzano', 'atyrau', 'cobija', 'eureka', 'kosh-agach', 'along', 'wadsworth', 'sulangan', 'san jeronimo', 'soe', 'paamiut', 'bosaso', 'tezu', 'santa rosa', 'jacareacanga', 'kirakira', 'hihifo', 'haines junction', 'labuhan', 'baraboo', 'tucurui', 'tunduru', 'tongren', 'ilave', 'chenghai', 'sechura', 'toamasina', 'saint-augustin', 'praxedis guerrero', 'solhan', 'necochea', 'saquena', 'kalamazoo', 'gubkinskiy', 'tharad', 'guerrero negro', 'senneterre', 'markdorf', 'roebourne', 'tecoanapa', 'virginia beach', 'provideniya', 'warrnambool', 'nybro', 'kirkland lake', 'lensk', 'changli', 'galiwinku', 'baie-comeau', 'moron', 'aklavik', 'batemans bay', 'hamina', 'leiyang', 'mattru', 'saint-georges', 'oksfjord', 'alihe', 'kamen-na-obi', 'maine-soroa', 'alekseyevsk', 'chinsali', 'praya', 'sao jose da coroa grande', 'vestmannaeyjar', 'puerto carreno', 'luderitz', 'tomatlan', 'portree', 'langsa', 'menongue', 'izumo', 'nokha', 'kununurra', 'zlobin', 'mukdahan', 'benjamin constant', 'skali', 'manbij', 'atar', 'sinnamary', 'fort nelson', 'kuusamo', 'sioux lookout', 'kapit', 'vondrozo', 'karkaralinsk', 'liuzhou', 'krasnoarmeysk', 'naze', 'fontenay-le-fleury', 'batagay-alyta', 'westport', 'coahuayana', 'moctezuma', 'namibe', 'artyk', 'bizhbulyak', 'granville', 'xingyi', 'bukama', 'oranjemund', 'teknaf', 'zaysan', 'buala', 'kiruna', 'russell', 'ankara', 'kruisfontein', 'mecca', 'leshukonskoye', 'tura', 'lora del rio', 'gorno-chuyskiy', 'saleaula', 'kushalgarh', 'rungata', 'palabuhanratu', 'santa cruz', 'agadez', 'hit', 'poyarkovo', 'dhidhdhoo', 'kovdor', 'deer lake', 'metro', 'butembo', 'chingirlau', 'devils lake', 'hunza', 'axim', 'ajaccio', 'alta gracia', 'nova olimpia', 'catalina', 'vanimo', 'asheville', 'te horo', 'maneadero', 'alice springs', 'kizukuri', 'tatawin', 'urusha', 'varkkallai', 'kunyang', 'cabra', 'taoudenni', 'acapulco', 'kungurtug', 'yulara', 'baykit', 'yar-sale', 'iwaki', 'matucana', 'meulaboh', 'cape girardeau', 'najran', 'yenangyaung', 'khagrachari', 'truro', 'ventspils', 'barquisimeto', 'kusk', 'umm durman', 'bembereke']\n"
     ]
    }
   ],
   "source": [
    "print(cities)"
   ]
  },
  {
   "cell_type": "markdown",
   "metadata": {},
   "source": [
    "### Perform API Calls\n",
    "* Perform a weather check on each city using a series of successive API calls.\n",
    "* Include a print log of each city as it'sbeing processed (with the city number and city name).\n"
   ]
  },
  {
   "cell_type": "code",
   "execution_count": 13,
   "metadata": {},
   "outputs": [
    {
     "data": {
      "text/plain": [
       "{'cod': 401,\n",
       " 'message': 'Invalid API key. Please see http://openweathermap.org/faq#error401 for more info.'}"
      ]
     },
     "execution_count": 13,
     "metadata": {},
     "output_type": "execute_result"
    }
   ],
   "source": [
    "url = \"http://api.openweathermap.org/data/2.5/weather?\"\n",
    "city_name = \"metro\"\n",
    "samp_weather = requests.get(url + city_name).json()\n",
    "samp_weather"
   ]
  },
  {
   "cell_type": "code",
   "execution_count": 20,
   "metadata": {
    "scrolled": true
   },
   "outputs": [
    {
     "name": "stdout",
     "output_type": "stream",
     "text": [
      "huejucar is {'coord': {'lon': -103.22, 'lat': 22.35}, 'weather': [{'id': 800, 'main': 'Clear', 'description': 'clear sky', 'icon': '01d'}], 'base': 'stations', 'main': {'temp': 286.79, 'feels_like': 280.25, 'temp_min': 286.79, 'temp_max': 286.79, 'pressure': 1009, 'humidity': 33, 'sea_level': 1009, 'grnd_level': 815}, 'visibility': 10000, 'wind': {'speed': 6.06, 'deg': 234}, 'clouds': {'all': 0}, 'dt': 1609448427, 'sys': {'country': 'MX', 'sunrise': 1609421540, 'sunset': 1609460381}, 'timezone': -21600, 'id': 4004618, 'name': 'Huejúcar', 'cod': 200}\n",
      "barentsburg is {'cod': '404', 'message': 'city not found'}\n",
      "mar del plata is {'coord': {'lon': -57.56, 'lat': -38}, 'weather': [{'id': 801, 'main': 'Clouds', 'description': 'few clouds', 'icon': '02d'}], 'base': 'stations', 'main': {'temp': 293.81, 'feels_like': 288.44, 'temp_min': 292.59, 'temp_max': 295.15, 'pressure': 1009, 'humidity': 37}, 'visibility': 10000, 'wind': {'speed': 6.2, 'deg': 140}, 'clouds': {'all': 20}, 'dt': 1609448400, 'sys': {'type': 1, 'id': 8305, 'country': 'AR', 'sunrise': 1609403445, 'sunset': 1609456552}, 'timezone': -10800, 'id': 3430863, 'name': 'Mar del Plata', 'cod': 200}\n",
      "carnarvon is {'coord': {'lon': 113.63, 'lat': -24.87}, 'weather': [{'id': 800, 'main': 'Clear', 'description': 'clear sky', 'icon': '01n'}], 'base': 'stations', 'main': {'temp': 297.15, 'feels_like': 298.04, 'temp_min': 297.15, 'temp_max': 297.15, 'pressure': 1008, 'humidity': 94}, 'visibility': 10000, 'wind': {'speed': 6.2, 'deg': 180}, 'clouds': {'all': 0}, 'dt': 1609448427, 'sys': {'type': 1, 'id': 9505, 'country': 'AU', 'sunrise': 1609450759, 'sunset': 1609499896}, 'timezone': 28800, 'id': 2074865, 'name': 'Carnarvon', 'cod': 200}\n",
      "predivinsk is {'coord': {'lon': 93.44, 'lat': 57.07}, 'weather': [{'id': 804, 'main': 'Clouds', 'description': 'overcast clouds', 'icon': '04n'}], 'base': 'stations', 'main': {'temp': 249.57, 'feels_like': 244.82, 'temp_min': 249.57, 'temp_max': 249.57, 'pressure': 1043, 'humidity': 88, 'sea_level': 1043, 'grnd_level': 1029}, 'visibility': 7989, 'wind': {'speed': 1.45, 'deg': 45}, 'clouds': {'all': 100}, 'dt': 1609448427, 'sys': {'country': 'RU', 'sunrise': 1609467887, 'sunset': 1609492462}, 'timezone': 25200, 'id': 1494237, 'name': 'Predivinsk', 'cod': 200}\n",
      "ushuaia is {'coord': {'lon': -68.3, 'lat': -54.8}, 'weather': [{'id': 801, 'main': 'Clouds', 'description': 'few clouds', 'icon': '02d'}], 'base': 'stations', 'main': {'temp': 288.15, 'feels_like': 278.18, 'temp_min': 288.15, 'temp_max': 288.15, 'pressure': 996, 'humidity': 47}, 'visibility': 10000, 'wind': {'speed': 12.3, 'deg': 230}, 'clouds': {'all': 20}, 'dt': 1609448428, 'sys': {'type': 1, 'id': 8303, 'country': 'AR', 'sunrise': 1609401596, 'sunset': 1609463558}, 'timezone': -10800, 'id': 3833367, 'name': 'Ushuaia', 'cod': 200}\n",
      "iqaluit is {'coord': {'lon': -68.51, 'lat': 63.75}, 'weather': [{'id': 801, 'main': 'Clouds', 'description': 'few clouds', 'icon': '02n'}], 'base': 'stations', 'main': {'temp': 251.15, 'feels_like': 246.32, 'temp_min': 251.15, 'temp_max': 251.15, 'pressure': 1004, 'humidity': 63}, 'visibility': 10000, 'wind': {'speed': 1.5, 'deg': 355}, 'clouds': {'all': 20}, 'dt': 1609448412, 'sys': {'type': 1, 'id': 797, 'country': 'CA', 'sunrise': 1609424423, 'sunset': 1609440832}, 'timezone': -18000, 'id': 5983720, 'name': 'Iqaluit', 'cod': 200}\n",
      "pevek is {'coord': {'lon': 170.31, 'lat': 69.7}, 'weather': [{'id': 804, 'main': 'Clouds', 'description': 'overcast clouds', 'icon': '04n'}], 'base': 'stations', 'main': {'temp': 244.17, 'feels_like': 237.14, 'temp_min': 244.17, 'temp_max': 244.17, 'pressure': 1016, 'humidity': 87, 'sea_level': 1016, 'grnd_level': 1010}, 'visibility': 417, 'wind': {'speed': 4.55, 'deg': 311}, 'clouds': {'all': 100}, 'dt': 1609448428, 'sys': {'country': 'RU', 'sunrise': 0, 'sunset': 0}, 'timezone': 43200, 'id': 2122090, 'name': 'Pevek', 'cod': 200}\n",
      "aflu is {'cod': '404', 'message': 'city not found'}\n",
      "soyo is {'coord': {'lon': 12.37, 'lat': -6.13}, 'weather': [{'id': 804, 'main': 'Clouds', 'description': 'overcast clouds', 'icon': '04n'}], 'base': 'stations', 'main': {'temp': 298.61, 'feels_like': 302.19, 'temp_min': 298.61, 'temp_max': 298.61, 'pressure': 1011, 'humidity': 86, 'sea_level': 1011, 'grnd_level': 1011}, 'visibility': 10000, 'wind': {'speed': 2.33, 'deg': 163}, 'clouds': {'all': 100}, 'dt': 1609448428, 'sys': {'country': 'AO', 'sunrise': 1609390763, 'sunset': 1609435657}, 'timezone': 3600, 'id': 2236967, 'name': 'Soyo', 'cod': 200}\n",
      "san patricio is {'coord': {'lon': -97.52, 'lat': 28.02}, 'weather': [{'id': 804, 'main': 'Clouds', 'description': 'overcast clouds', 'icon': '04d'}], 'base': 'stations', 'main': {'temp': 282.84, 'feels_like': 275.08, 'temp_min': 282.15, 'temp_max': 283.15, 'pressure': 1008, 'humidity': 87}, 'visibility': 10000, 'wind': {'speed': 10.3, 'deg': 300, 'gust': 12.9}, 'clouds': {'all': 90}, 'dt': 1609448428, 'sys': {'type': 1, 'id': 3705, 'country': 'US', 'sunrise': 1609420881, 'sunset': 1609458303}, 'timezone': -21600, 'id': 4726521, 'name': 'San Patricio', 'cod': 200}\n",
      "hermanus is {'coord': {'lon': 19.23, 'lat': -34.42}, 'weather': [{'id': 802, 'main': 'Clouds', 'description': 'scattered clouds', 'icon': '03n'}], 'base': 'stations', 'main': {'temp': 290.93, 'feels_like': 291.51, 'temp_min': 290.93, 'temp_max': 290.93, 'pressure': 1020, 'humidity': 73}, 'visibility': 10000, 'wind': {'speed': 0.45, 'deg': 244, 'gust': 2.24}, 'clouds': {'all': 36}, 'dt': 1609448428, 'sys': {'type': 3, 'id': 2006131, 'country': 'ZA', 'sunrise': 1609385615, 'sunset': 1609437511}, 'timezone': 7200, 'id': 3366880, 'name': 'Hermanus', 'cod': 200}\n",
      "albany is {'coord': {'lon': -73.97, 'lat': 42.6}, 'weather': [{'id': 804, 'main': 'Clouds', 'description': 'overcast clouds', 'icon': '04d'}], 'base': 'stations', 'main': {'temp': 275.71, 'feels_like': 270.55, 'temp_min': 275.37, 'temp_max': 275.93, 'pressure': 1020, 'humidity': 58}, 'visibility': 10000, 'wind': {'speed': 3.66, 'deg': 301}, 'clouds': {'all': 100}, 'dt': 1609448357, 'sys': {'type': 3, 'id': 19530, 'country': 'US', 'sunrise': 1609417548, 'sunset': 1609450329}, 'timezone': -18000, 'id': 5106841, 'name': 'Albany', 'cod': 200}\n",
      "bluff is {'coord': {'lon': 168.33, 'lat': -46.6}, 'weather': [{'id': 804, 'main': 'Clouds', 'description': 'overcast clouds', 'icon': '04d'}], 'base': 'stations', 'main': {'temp': 285.93, 'feels_like': 286.33, 'temp_min': 285.93, 'temp_max': 285.93, 'pressure': 1018, 'humidity': 97}, 'visibility': 10000, 'wind': {'speed': 0.45, 'deg': 84, 'gust': 1.79}, 'clouds': {'all': 100}, 'dt': 1609448429, 'sys': {'type': 3, 'id': 2008959, 'country': 'NZ', 'sunrise': 1609433831, 'sunset': 1609490559}, 'timezone': 46800, 'id': 2206939, 'name': 'Bluff', 'cod': 200}\n",
      "requena is {'coord': {'lon': -1.1, 'lat': 39.49}, 'weather': [{'id': 801, 'main': 'Clouds', 'description': 'few clouds', 'icon': '02n'}], 'base': 'stations', 'main': {'temp': 278.71, 'feels_like': 270.33, 'temp_min': 278.71, 'temp_max': 278.71, 'pressure': 1015, 'humidity': 70}, 'visibility': 10000, 'wind': {'speed': 9.24, 'deg': 268}, 'clouds': {'all': 21}, 'dt': 1609448429, 'sys': {'type': 3, 'id': 2000685, 'country': 'ES', 'sunrise': 1609399475, 'sunset': 1609433412}, 'timezone': 3600, 'id': 2511930, 'name': 'Requena', 'cod': 200}\n",
      "port shepstone is {'coord': {'lon': 30.45, 'lat': -30.74}, 'weather': [{'id': 500, 'main': 'Rain', 'description': 'light rain', 'icon': '10n'}], 'base': 'stations', 'main': {'temp': 296.86, 'feels_like': 300.09, 'temp_min': 296.86, 'temp_max': 296.86, 'pressure': 1012, 'humidity': 92, 'sea_level': 1012, 'grnd_level': 1005}, 'visibility': 6772, 'wind': {'speed': 2.35, 'deg': 241}, 'rain': {'1h': 0.93}, 'clouds': {'all': 100}, 'dt': 1609448429, 'sys': {'country': 'ZA', 'sunrise': 1609383487, 'sunset': 1609434252}, 'timezone': 7200, 'id': 964406, 'name': 'Port Shepstone', 'cod': 200}\n",
      "new norfolk is {'coord': {'lon': 147.06, 'lat': -42.78}, 'weather': [{'id': 803, 'main': 'Clouds', 'description': 'broken clouds', 'icon': '04d'}], 'base': 'stations', 'main': {'temp': 286.98, 'feels_like': 286.31, 'temp_min': 284.82, 'temp_max': 288.71, 'pressure': 1028, 'humidity': 70}, 'visibility': 10000, 'wind': {'speed': 0.45, 'deg': 31, 'gust': 1.79}, 'clouds': {'all': 73}, 'dt': 1609448429, 'sys': {'type': 3, 'id': 2031307, 'country': 'AU', 'sunrise': 1609439823, 'sunset': 1609494780}, 'timezone': 39600, 'id': 2155415, 'name': 'New Norfolk', 'cod': 200}\n",
      "port elizabeth is {'coord': {'lon': 25.57, 'lat': -33.92}, 'weather': [{'id': 803, 'main': 'Clouds', 'description': 'broken clouds', 'icon': '04n'}], 'base': 'stations', 'main': {'temp': 293.71, 'feels_like': 293.1, 'temp_min': 293.71, 'temp_max': 293.71, 'pressure': 1017, 'humidity': 70}, 'visibility': 10000, 'wind': {'speed': 3.13, 'deg': 262, 'gust': 6.26}, 'clouds': {'all': 77}, 'dt': 1609448429, 'sys': {'type': 3, 'id': 2035063, 'country': 'ZA', 'sunrise': 1609384173, 'sunset': 1609435909}, 'timezone': 7200, 'id': 964420, 'name': 'Port Elizabeth', 'cod': 200}\n",
      "barrow is {'coord': {'lon': -156.79, 'lat': 71.29}, 'weather': [{'id': 801, 'main': 'Clouds', 'description': 'few clouds', 'icon': '02n'}], 'base': 'stations', 'main': {'temp': 246.15, 'feels_like': 237.61, 'temp_min': 246.15, 'temp_max': 246.15, 'pressure': 1022, 'humidity': 68}, 'visibility': 10000, 'wind': {'speed': 6.7, 'deg': 70}, 'clouds': {'all': 20}, 'dt': 1609448429, 'sys': {'type': 1, 'id': 7649, 'country': 'US', 'sunrise': 0, 'sunset': 0}, 'timezone': -32400, 'id': 5880054, 'name': 'Barrow', 'cod': 200}\n"
     ]
    },
    {
     "name": "stdout",
     "output_type": "stream",
     "text": [
      "bambous virieux is {'coord': {'lon': 57.76, 'lat': -20.34}, 'weather': [{'id': 500, 'main': 'Rain', 'description': 'light rain', 'icon': '10n'}], 'base': 'stations', 'main': {'temp': 298.94, 'feels_like': 298.14, 'temp_min': 298.71, 'temp_max': 299.15, 'pressure': 1017, 'humidity': 69}, 'visibility': 10000, 'wind': {'speed': 6.2, 'deg': 110}, 'rain': {'1h': 0.29}, 'clouds': {'all': 75}, 'dt': 1609448429, 'sys': {'type': 1, 'id': 2061, 'country': 'MU', 'sunrise': 1609464734, 'sunset': 1609512747}, 'timezone': 14400, 'id': 1106677, 'name': 'Bambous Virieux', 'cod': 200}\n",
      "graham is {'coord': {'lon': -122.29, 'lat': 47.05}, 'weather': [{'id': 804, 'main': 'Clouds', 'description': 'overcast clouds', 'icon': '04d'}], 'base': 'stations', 'main': {'temp': 282.02, 'feels_like': 279.6, 'temp_min': 280.93, 'temp_max': 283.15, 'pressure': 1019, 'humidity': 100}, 'visibility': 10000, 'wind': {'speed': 3.1, 'deg': 0}, 'clouds': {'all': 90}, 'dt': 1609448429, 'sys': {'type': 1, 'id': 5366, 'country': 'US', 'sunrise': 1609430108, 'sunset': 1609460970}, 'timezone': -28800, 'id': 5795906, 'name': 'Graham', 'cod': 200}\n",
      "sambava is {'coord': {'lon': 50.17, 'lat': -14.27}, 'weather': [{'id': 803, 'main': 'Clouds', 'description': 'broken clouds', 'icon': '04n'}], 'base': 'stations', 'main': {'temp': 297.49, 'feels_like': 298.62, 'temp_min': 297.49, 'temp_max': 297.49, 'pressure': 1012, 'humidity': 81, 'sea_level': 1012, 'grnd_level': 1011}, 'visibility': 10000, 'wind': {'speed': 4.26, 'deg': 194}, 'clouds': {'all': 51}, 'dt': 1609448430, 'sys': {'country': 'MG', 'sunrise': 1609467251, 'sunset': 1609513875}, 'timezone': 10800, 'id': 1056899, 'name': 'Sambava', 'cod': 200}\n",
      "petersburg is {'coord': {'lon': -77.4, 'lat': 37.23}, 'weather': [{'id': 804, 'main': 'Clouds', 'description': 'overcast clouds', 'icon': '04d'}], 'base': 'stations', 'main': {'temp': 287.58, 'feels_like': 286.71, 'temp_min': 287.04, 'temp_max': 288.15, 'pressure': 1021, 'humidity': 82}, 'visibility': 10000, 'wind': {'speed': 1.87, 'deg': 11}, 'clouds': {'all': 90}, 'dt': 1609448430, 'sys': {'type': 1, 'id': 5417, 'country': 'US', 'sunrise': 1609417402, 'sunset': 1609452121}, 'timezone': -18000, 'id': 4778626, 'name': 'Petersburg', 'cod': 200}\n",
      "kralendijk is {'coord': {'lon': -68.27, 'lat': 12.15}, 'weather': [{'id': 801, 'main': 'Clouds', 'description': 'few clouds', 'icon': '02d'}], 'base': 'stations', 'main': {'temp': 301.15, 'feels_like': 299.99, 'temp_min': 301.15, 'temp_max': 301.15, 'pressure': 1011, 'humidity': 69}, 'visibility': 10000, 'wind': {'speed': 8.2, 'deg': 70}, 'clouds': {'all': 20}, 'dt': 1609448430, 'sys': {'type': 1, 'id': 8794, 'country': 'BQ', 'sunrise': 1609412009, 'sunset': 1609453131}, 'timezone': -14400, 'id': 3513563, 'name': 'Kralendijk', 'cod': 200}\n",
      "mataura is {'coord': {'lon': 168.86, 'lat': -46.19}, 'weather': [{'id': 500, 'main': 'Rain', 'description': 'light rain', 'icon': '10d'}], 'base': 'stations', 'main': {'temp': 285.93, 'feels_like': 286.33, 'temp_min': 285.93, 'temp_max': 285.93, 'pressure': 1018, 'humidity': 97}, 'visibility': 10000, 'wind': {'speed': 0.45, 'deg': 84, 'gust': 1.79}, 'rain': {'1h': 0.18}, 'clouds': {'all': 100}, 'dt': 1609448430, 'sys': {'type': 3, 'id': 2008959, 'country': 'NZ', 'sunrise': 1609433806, 'sunset': 1609490330}, 'timezone': 46800, 'id': 6201424, 'name': 'Mataura', 'cod': 200}\n",
      "sao filipe is {'coord': {'lon': -24.5, 'lat': 14.9}, 'weather': [{'id': 800, 'main': 'Clear', 'description': 'clear sky', 'icon': '01n'}], 'base': 'stations', 'main': {'temp': 296.95, 'feels_like': 297.98, 'temp_min': 296.95, 'temp_max': 296.95, 'pressure': 1015, 'humidity': 77, 'sea_level': 1015, 'grnd_level': 1009}, 'visibility': 10000, 'wind': {'speed': 3.49, 'deg': 111}, 'clouds': {'all': 0}, 'dt': 1609448430, 'sys': {'country': 'CV', 'sunrise': 1609401797, 'sunset': 1609442326}, 'timezone': -3600, 'id': 3374210, 'name': 'São Filipe', 'cod': 200}\n",
      "punta arenas is {'coord': {'lon': -70.92, 'lat': -53.15}, 'weather': [{'id': 500, 'main': 'Rain', 'description': 'light rain', 'icon': '10d'}], 'base': 'stations', 'main': {'temp': 288.93, 'feels_like': 282.79, 'temp_min': 288.71, 'temp_max': 289.15, 'pressure': 999, 'humidity': 55}, 'visibility': 10000, 'wind': {'speed': 7.7, 'deg': 300}, 'rain': {'1h': 0.3}, 'clouds': {'all': 40}, 'dt': 1609448227, 'sys': {'type': 1, 'id': 8487, 'country': 'CL', 'sunrise': 1609402860, 'sunset': 1609463552}, 'timezone': -10800, 'id': 3874787, 'name': 'Punta Arenas', 'cod': 200}\n",
      "thompson is {'coord': {'lon': -97.86, 'lat': 55.74}, 'weather': [{'id': 600, 'main': 'Snow', 'description': 'light snow', 'icon': '13d'}], 'base': 'stations', 'main': {'temp': 260.15, 'feels_like': 253.16, 'temp_min': 260.15, 'temp_max': 260.15, 'pressure': 1009, 'humidity': 78}, 'visibility': 10000, 'wind': {'speed': 5.1, 'deg': 280}, 'clouds': {'all': 90}, 'dt': 1609448430, 'sys': {'type': 1, 'id': 935, 'country': 'CA', 'sunrise': 1609426863, 'sunset': 1609452484}, 'timezone': -21600, 'id': 6165406, 'name': 'Thompson', 'cod': 200}\n",
      "castro is {'coord': {'lon': -50.01, 'lat': -24.79}, 'weather': [{'id': 804, 'main': 'Clouds', 'description': 'overcast clouds', 'icon': '04d'}], 'base': 'stations', 'main': {'temp': 291.74, 'feels_like': 291.66, 'temp_min': 291.74, 'temp_max': 291.74, 'pressure': 1011, 'humidity': 90, 'sea_level': 1011, 'grnd_level': 901}, 'visibility': 10000, 'wind': {'speed': 3.46, 'deg': 305}, 'clouds': {'all': 100}, 'dt': 1609448430, 'sys': {'country': 'BR', 'sunrise': 1609403622, 'sunset': 1609452750}, 'timezone': -10800, 'id': 3466704, 'name': 'Castro', 'cod': 200}\n",
      "petropavlovsk-kamchatskiy is {'coord': {'lon': 158.65, 'lat': 53.05}, 'weather': [{'id': 802, 'main': 'Clouds', 'description': 'scattered clouds', 'icon': '03n'}], 'base': 'stations', 'main': {'temp': 267.15, 'feels_like': 261.99, 'temp_min': 267.15, 'temp_max': 267.15, 'pressure': 972, 'humidity': 73}, 'visibility': 10000, 'wind': {'speed': 3, 'deg': 30}, 'clouds': {'all': 40}, 'dt': 1609448431, 'sys': {'type': 1, 'id': 8887, 'country': 'RU', 'sunrise': 1609450742, 'sunset': 1609478296}, 'timezone': 43200, 'id': 2122104, 'name': 'Petropavlovsk-Kamchatskiy', 'cod': 200}\n",
      "saint-philippe is {'coord': {'lon': 55.77, 'lat': -21.36}, 'weather': [{'id': 800, 'main': 'Clear', 'description': 'clear sky', 'icon': '01n'}], 'base': 'stations', 'main': {'temp': 295.57, 'feels_like': 290.88, 'temp_min': 290.93, 'temp_max': 298.15, 'pressure': 1015, 'humidity': 73}, 'visibility': 10000, 'wind': {'speed': 10.3, 'deg': 130}, 'clouds': {'all': 0}, 'dt': 1609448431, 'sys': {'type': 1, 'id': 2127, 'country': 'RE', 'sunrise': 1609465089, 'sunset': 1609513347}, 'timezone': 14400, 'id': 935215, 'name': 'Saint-Philippe', 'cod': 200}\n",
      "cascais is {'coord': {'lon': -9.42, 'lat': 38.7}, 'weather': [{'id': 803, 'main': 'Clouds', 'description': 'broken clouds', 'icon': '04n'}], 'base': 'stations', 'main': {'temp': 285, 'feels_like': 277.34, 'temp_min': 284.82, 'temp_max': 285.37, 'pressure': 1016, 'humidity': 83}, 'visibility': 10000, 'wind': {'speed': 10.65, 'deg': 321}, 'clouds': {'all': 57}, 'dt': 1609448431, 'sys': {'type': 3, 'id': 2021330, 'country': 'PT', 'sunrise': 1609401334, 'sunset': 1609435549}, 'timezone': 0, 'id': 2269594, 'name': 'Cascais', 'cod': 200}\n",
      "huarmey is {'coord': {'lon': -78.15, 'lat': -10.07}, 'weather': [{'id': 803, 'main': 'Clouds', 'description': 'broken clouds', 'icon': '04d'}], 'base': 'stations', 'main': {'temp': 296.77, 'feels_like': 296.17, 'temp_min': 296.77, 'temp_max': 296.77, 'pressure': 1012, 'humidity': 67, 'sea_level': 1012, 'grnd_level': 1011}, 'visibility': 10000, 'wind': {'speed': 4.33, 'deg': 202}, 'clouds': {'all': 71}, 'dt': 1609448431, 'sys': {'country': 'PE', 'sunrise': 1609412081, 'sunset': 1609457802}, 'timezone': -18000, 'id': 3939168, 'name': 'Huarmey', 'cod': 200}\n",
      "palana is {'coord': {'lon': 159.97, 'lat': 59.12}, 'weather': [{'id': 804, 'main': 'Clouds', 'description': 'overcast clouds', 'icon': '04n'}], 'base': 'stations', 'main': {'temp': 255.11, 'feels_like': 244.7, 'temp_min': 255.11, 'temp_max': 255.11, 'pressure': 985, 'humidity': 96, 'sea_level': 985, 'grnd_level': 954}, 'visibility': 10000, 'wind': {'speed': 9.82, 'deg': 35}, 'clouds': {'all': 92}, 'dt': 1609448431, 'sys': {'country': 'RU', 'sunrise': 1609452882, 'sunset': 1609475523}, 'timezone': 43200, 'id': 2122262, 'name': 'Palana', 'cod': 200}\n",
      "victoria is {'coord': {'lon': 114.16, 'lat': 22.29}, 'weather': [{'id': 800, 'main': 'Clear', 'description': 'clear sky', 'icon': '01n'}], 'base': 'stations', 'main': {'temp': 280.1, 'feels_like': 274.57, 'temp_min': 275.93, 'temp_max': 282.04, 'pressure': 1026, 'humidity': 39}, 'visibility': 10000, 'wind': {'speed': 4.02, 'deg': 45, 'gust': 7.15}, 'clouds': {'all': 0}, 'dt': 1609448316, 'sys': {'type': 3, 'id': 265999, 'country': 'HK', 'sunrise': 1609455769, 'sunset': 1609494631}, 'timezone': 28800, 'id': 1819729, 'name': 'Hong Kong', 'cod': 200}\n",
      "coihaique is {'coord': {'lon': -72.07, 'lat': -45.58}, 'weather': [{'id': 500, 'main': 'Rain', 'description': 'light rain', 'icon': '10d'}], 'base': 'stations', 'main': {'temp': 290.15, 'feels_like': 287.74, 'temp_min': 290.15, 'temp_max': 290.15, 'pressure': 1013, 'humidity': 59}, 'visibility': 10000, 'wind': {'speed': 3.1, 'deg': 0}, 'rain': {'1h': 0.15}, 'clouds': {'all': 90}, 'dt': 1609448431, 'sys': {'type': 1, 'id': 8491, 'country': 'CL', 'sunrise': 1609405360, 'sunset': 1609461604}, 'timezone': -10800, 'id': 3894426, 'name': 'Coyhaique', 'cod': 200}\n"
     ]
    },
    {
     "name": "stdout",
     "output_type": "stream",
     "text": [
      "idah is {'coord': {'lon': 6.73, 'lat': 7.11}, 'weather': [{'id': 803, 'main': 'Clouds', 'description': 'broken clouds', 'icon': '04n'}], 'base': 'stations', 'main': {'temp': 301.46, 'feels_like': 301.11, 'temp_min': 301.46, 'temp_max': 301.46, 'pressure': 1009, 'humidity': 32, 'sea_level': 1009, 'grnd_level': 1004}, 'visibility': 10000, 'wind': {'speed': 0.57, 'deg': 31}, 'clouds': {'all': 63}, 'dt': 1609448431, 'sys': {'country': 'NG', 'sunrise': 1609393476, 'sunset': 1609435652}, 'timezone': 3600, 'id': 2339156, 'name': 'Idah', 'cod': 200}\n",
      "puerto ayora is {'coord': {'lon': -90.35, 'lat': -0.74}, 'weather': [{'id': 803, 'main': 'Clouds', 'description': 'broken clouds', 'icon': '04d'}], 'base': 'stations', 'main': {'temp': 301.15, 'feels_like': 297.85, 'temp_min': 301.15, 'temp_max': 301.15, 'pressure': 1011, 'humidity': 58}, 'visibility': 10000, 'wind': {'speed': 9.3, 'deg': 130}, 'clouds': {'all': 75}, 'dt': 1609448289, 'sys': {'type': 1, 'id': 8521, 'country': 'EC', 'sunrise': 1609415979, 'sunset': 1609459763}, 'timezone': -21600, 'id': 3652764, 'name': 'Puerto Ayora', 'cod': 200}\n",
      "vaitupu is {'cod': '404', 'message': 'city not found'}\n",
      "launceston is {'coord': {'lon': 147.17, 'lat': -41.45}, 'weather': [{'id': 800, 'main': 'Clear', 'description': 'clear sky', 'icon': '01d'}], 'base': 'stations', 'main': {'temp': 287.13, 'feels_like': 282.75, 'temp_min': 286.15, 'temp_max': 287.59, 'pressure': 1027, 'humidity': 82}, 'visibility': 10000, 'wind': {'speed': 6.7, 'deg': 160}, 'clouds': {'all': 2}, 'dt': 1609448347, 'sys': {'type': 1, 'id': 9549, 'country': 'AU', 'sunrise': 1609440073, 'sunset': 1609494477}, 'timezone': 39600, 'id': 2160517, 'name': 'Launceston', 'cod': 200}\n",
      "hamilton is {'coord': {'lon': -84.53, 'lat': 39.18}, 'weather': [{'id': 721, 'main': 'Haze', 'description': 'haze', 'icon': '50d'}], 'base': 'stations', 'main': {'temp': 273.43, 'feels_like': 269.07, 'temp_min': 273.15, 'temp_max': 273.71, 'pressure': 1024, 'humidity': 88}, 'visibility': 9656, 'wind': {'speed': 3.1, 'deg': 10}, 'clouds': {'all': 90}, 'dt': 1609448151, 'sys': {'type': 1, 'id': 3729, 'country': 'US', 'sunrise': 1609419446, 'sunset': 1609453501}, 'timezone': -18000, 'id': 4513583, 'name': 'Hamilton', 'cod': 200}\n",
      "tsihombe is {'cod': '404', 'message': 'city not found'}\n",
      "aquiraz is {'coord': {'lon': -38.39, 'lat': -3.9}, 'weather': [{'id': 800, 'main': 'Clear', 'description': 'clear sky', 'icon': '01n'}], 'base': 'stations', 'main': {'temp': 301.15, 'feels_like': 303.48, 'temp_min': 301.15, 'temp_max': 301.15, 'pressure': 1010, 'humidity': 74}, 'visibility': 10000, 'wind': {'speed': 4.1, 'deg': 60}, 'clouds': {'all': 0}, 'dt': 1609448432, 'sys': {'type': 1, 'id': 8363, 'country': 'BR', 'sunrise': 1609403180, 'sunset': 1609447613}, 'timezone': -10800, 'id': 3407407, 'name': 'Aquiraz', 'cod': 200}\n",
      "bereda is {'coord': {'lon': -7.54, 'lat': 43.27}, 'weather': [{'id': 500, 'main': 'Rain', 'description': 'light rain', 'icon': '10n'}], 'base': 'stations', 'main': {'temp': 277.23, 'feels_like': 274.36, 'temp_min': 275.93, 'temp_max': 278.15, 'pressure': 1014, 'humidity': 100}, 'visibility': 10000, 'wind': {'speed': 2.24, 'deg': 313, 'gust': 2.68}, 'rain': {'1h': 0.21}, 'clouds': {'all': 100}, 'dt': 1609448432, 'sys': {'type': 3, 'id': 2013071, 'country': 'ES', 'sunrise': 1609401738, 'sunset': 1609434242}, 'timezone': 3600, 'id': 3105522, 'name': 'Bereda', 'cod': 200}\n",
      "ancud is {'coord': {'lon': -73.82, 'lat': -41.87}, 'weather': [{'id': 803, 'main': 'Clouds', 'description': 'broken clouds', 'icon': '04d'}], 'base': 'stations', 'main': {'temp': 287.09, 'feels_like': 285.4, 'temp_min': 283.15, 'temp_max': 291.48, 'pressure': 1019, 'humidity': 72}, 'visibility': 10000, 'wind': {'speed': 2.1, 'deg': 100}, 'clouds': {'all': 75}, 'dt': 1609448432, 'sys': {'type': 1, 'id': 8512, 'country': 'CL', 'sunrise': 1609406606, 'sunset': 1609461199}, 'timezone': -10800, 'id': 3899695, 'name': 'Ancud', 'cod': 200}\n",
      "vaini is {'coord': {'lon': -175.2, 'lat': -21.2}, 'weather': [{'id': 803, 'main': 'Clouds', 'description': 'broken clouds', 'icon': '04n'}], 'base': 'stations', 'main': {'temp': 299.15, 'feels_like': 301.11, 'temp_min': 299.15, 'temp_max': 299.15, 'pressure': 1013, 'humidity': 83}, 'visibility': 10000, 'wind': {'speed': 4.6, 'deg': 120}, 'clouds': {'all': 75}, 'dt': 1609448432, 'sys': {'type': 1, 'id': 7285, 'country': 'TO', 'sunrise': 1609520565, 'sunset': 1609568772}, 'timezone': 46800, 'id': 4032243, 'name': 'Vaini', 'cod': 200}\n",
      "yellowknife is {'coord': {'lon': -114.35, 'lat': 62.46}, 'weather': [{'id': 804, 'main': 'Clouds', 'description': 'overcast clouds', 'icon': '04d'}], 'base': 'stations', 'main': {'temp': 254.15, 'feels_like': 248.71, 'temp_min': 254.15, 'temp_max': 254.15, 'pressure': 1013, 'humidity': 84}, 'visibility': 10000, 'wind': {'speed': 2.6, 'deg': 300}, 'clouds': {'all': 90}, 'dt': 1609447981, 'sys': {'type': 1, 'id': 1007, 'country': 'CA', 'sunrise': 1609434369, 'sunset': 1609452896}, 'timezone': -25200, 'id': 6185377, 'name': 'Yellowknife', 'cod': 200}\n",
      "jamestown is {'coord': {'lon': -79.24, 'lat': 42.1}, 'weather': [{'id': 804, 'main': 'Clouds', 'description': 'overcast clouds', 'icon': '04d'}], 'base': 'stations', 'main': {'temp': 271.8, 'feels_like': 267.94, 'temp_min': 271.15, 'temp_max': 272.04, 'pressure': 1023, 'humidity': 79}, 'visibility': 10000, 'wind': {'speed': 1.86, 'deg': 302}, 'clouds': {'all': 90}, 'dt': 1609448432, 'sys': {'type': 1, 'id': 4588, 'country': 'US', 'sunrise': 1609418715, 'sunset': 1609451692}, 'timezone': -18000, 'id': 5122534, 'name': 'Jamestown', 'cod': 200}\n",
      "atuona is {'coord': {'lon': -139.03, 'lat': -9.8}, 'weather': [{'id': 800, 'main': 'Clear', 'description': 'clear sky', 'icon': '01d'}], 'base': 'stations', 'main': {'temp': 299.02, 'feels_like': 297.64, 'temp_min': 299.02, 'temp_max': 299.02, 'pressure': 1012, 'humidity': 76, 'sea_level': 1012, 'grnd_level': 1009}, 'visibility': 10000, 'wind': {'speed': 8.17, 'deg': 74}, 'clouds': {'all': 3}, 'dt': 1609448433, 'sys': {'country': 'PF', 'sunrise': 1609426726, 'sunset': 1609472389}, 'timezone': -34200, 'id': 4020109, 'name': 'Atuona', 'cod': 200}\n",
      "preston is {'coord': {'lon': -2.72, 'lat': 53.77}, 'weather': [{'id': 804, 'main': 'Clouds', 'description': 'overcast clouds', 'icon': '04n'}], 'base': 'stations', 'main': {'temp': 273.33, 'feels_like': 270.12, 'temp_min': 272.04, 'temp_max': 274.82, 'pressure': 1007, 'humidity': 90}, 'visibility': 10000, 'wind': {'speed': 1.5, 'deg': 11}, 'clouds': {'all': 100}, 'dt': 1609448433, 'sys': {'type': 3, 'id': 2019288, 'country': 'GB', 'sunrise': 1609403315, 'sunset': 1609430351}, 'timezone': 0, 'id': 2639912, 'name': 'Preston', 'cod': 200}\n",
      "busselton is {'coord': {'lon': 115.33, 'lat': -33.65}, 'weather': [{'id': 800, 'main': 'Clear', 'description': 'clear sky', 'icon': '01n'}], 'base': 'stations', 'main': {'temp': 289.05, 'feels_like': 289.85, 'temp_min': 288.71, 'temp_max': 289.26, 'pressure': 1014, 'humidity': 86}, 'visibility': 10000, 'wind': {'speed': 0.45, 'deg': 91, 'gust': 2.24}, 'clouds': {'all': 0}, 'dt': 1609448433, 'sys': {'type': 3, 'id': 2020551, 'country': 'AU', 'sunrise': 1609449106, 'sunset': 1609500732}, 'timezone': 28800, 'id': 2075265, 'name': 'Busselton', 'cod': 200}\n",
      "labuan is {'coord': {'lon': 115.24, 'lat': 5.28}, 'weather': [{'id': 801, 'main': 'Clouds', 'description': 'few clouds', 'icon': '02n'}], 'base': 'stations', 'main': {'temp': 297.09, 'feels_like': 302.16, 'temp_min': 297.04, 'temp_max': 297.15, 'pressure': 1008, 'humidity': 100}, 'visibility': 10000, 'wind': {'speed': 1.02, 'deg': 94}, 'clouds': {'all': 20}, 'dt': 1609448433, 'sys': {'type': 1, 'id': 9372, 'country': 'MY', 'sunrise': 1609453663, 'sunset': 1609496219}, 'timezone': 28800, 'id': 1733782, 'name': 'Labuan', 'cod': 200}\n",
      "mahebourg is {'coord': {'lon': 57.7, 'lat': -20.41}, 'weather': [{'id': 500, 'main': 'Rain', 'description': 'light rain', 'icon': '10n'}], 'base': 'stations', 'main': {'temp': 299.15, 'feels_like': 298.44, 'temp_min': 299.15, 'temp_max': 299.15, 'pressure': 1017, 'humidity': 69}, 'visibility': 10000, 'wind': {'speed': 6.2, 'deg': 110}, 'rain': {'1h': 0.23}, 'clouds': {'all': 75}, 'dt': 1609448433, 'sys': {'type': 1, 'id': 2061, 'country': 'MU', 'sunrise': 1609464740, 'sunset': 1609512770}, 'timezone': 14400, 'id': 934322, 'name': 'Mahébourg', 'cod': 200}\n",
      "husavik is {'coord': {'lon': -17.34, 'lat': 66.04}, 'weather': [{'id': 800, 'main': 'Clear', 'description': 'clear sky', 'icon': '01n'}], 'base': 'stations', 'main': {'temp': 261.15, 'feels_like': 256.42, 'temp_min': 261.15, 'temp_max': 261.15, 'pressure': 1025, 'humidity': 92}, 'visibility': 10000, 'wind': {'speed': 2.1, 'deg': 180}, 'clouds': {'all': 0}, 'dt': 1609448433, 'sys': {'type': 1, 'id': 83, 'country': 'IS', 'sunrise': 1609414778, 'sunset': 1609425907}, 'timezone': 0, 'id': 2629833, 'name': 'Husavik', 'cod': 200}\n"
     ]
    },
    {
     "name": "stdout",
     "output_type": "stream",
     "text": [
      "lorengau is {'coord': {'lon': 147.27, 'lat': -2.02}, 'weather': [{'id': 802, 'main': 'Clouds', 'description': 'scattered clouds', 'icon': '03d'}], 'base': 'stations', 'main': {'temp': 301.62, 'feels_like': 304.91, 'temp_min': 301.62, 'temp_max': 301.62, 'pressure': 1008, 'humidity': 73, 'sea_level': 1008, 'grnd_level': 1008}, 'visibility': 10000, 'wind': {'speed': 2.91, 'deg': 100}, 'clouds': {'all': 45}, 'dt': 1609448433, 'sys': {'country': 'PG', 'sunrise': 1609445229, 'sunset': 1609489274}, 'timezone': 36000, 'id': 2092164, 'name': 'Lorengau', 'cod': 200}\n"
     ]
    },
    {
     "ename": "KeyboardInterrupt",
     "evalue": "",
     "output_type": "error",
     "traceback": [
      "\u001b[0;31m---------------------------------------------------------------------------\u001b[0m",
      "\u001b[0;31mKeyboardInterrupt\u001b[0m                         Traceback (most recent call last)",
      "\u001b[0;32m<ipython-input-20-d9ab8f081756>\u001b[0m in \u001b[0;36m<module>\u001b[0;34m\u001b[0m\n\u001b[1;32m      6\u001b[0m \u001b[0;34m\u001b[0m\u001b[0m\n\u001b[1;32m      7\u001b[0m \u001b[0;32mfor\u001b[0m \u001b[0mcity\u001b[0m \u001b[0;32min\u001b[0m \u001b[0mcities\u001b[0m\u001b[0;34m:\u001b[0m\u001b[0;34m\u001b[0m\u001b[0;34m\u001b[0m\u001b[0m\n\u001b[0;32m----> 8\u001b[0;31m     \u001b[0mcity_data\u001b[0m \u001b[0;34m=\u001b[0m \u001b[0mrequests\u001b[0m\u001b[0;34m.\u001b[0m\u001b[0mget\u001b[0m\u001b[0;34m(\u001b[0m\u001b[0mweather_url\u001b[0m \u001b[0;34m+\u001b[0m \u001b[0mcity\u001b[0m\u001b[0;34m)\u001b[0m\u001b[0;34m.\u001b[0m\u001b[0mjson\u001b[0m\u001b[0;34m(\u001b[0m\u001b[0;34m)\u001b[0m\u001b[0;34m\u001b[0m\u001b[0;34m\u001b[0m\u001b[0m\n\u001b[0m\u001b[1;32m      9\u001b[0m \u001b[0;34m\u001b[0m\u001b[0m\n\u001b[1;32m     10\u001b[0m     \u001b[0mresponses\u001b[0m\u001b[0;34m.\u001b[0m\u001b[0mappend\u001b[0m\u001b[0;34m(\u001b[0m\u001b[0mcity_data\u001b[0m\u001b[0;34m)\u001b[0m\u001b[0;34m\u001b[0m\u001b[0;34m\u001b[0m\u001b[0m\n",
      "\u001b[0;32m/opt/anaconda3/lib/python3.8/site-packages/requests/api.py\u001b[0m in \u001b[0;36mget\u001b[0;34m(url, params, **kwargs)\u001b[0m\n\u001b[1;32m     74\u001b[0m \u001b[0;34m\u001b[0m\u001b[0m\n\u001b[1;32m     75\u001b[0m     \u001b[0mkwargs\u001b[0m\u001b[0;34m.\u001b[0m\u001b[0msetdefault\u001b[0m\u001b[0;34m(\u001b[0m\u001b[0;34m'allow_redirects'\u001b[0m\u001b[0;34m,\u001b[0m \u001b[0;32mTrue\u001b[0m\u001b[0;34m)\u001b[0m\u001b[0;34m\u001b[0m\u001b[0;34m\u001b[0m\u001b[0m\n\u001b[0;32m---> 76\u001b[0;31m     \u001b[0;32mreturn\u001b[0m \u001b[0mrequest\u001b[0m\u001b[0;34m(\u001b[0m\u001b[0;34m'get'\u001b[0m\u001b[0;34m,\u001b[0m \u001b[0murl\u001b[0m\u001b[0;34m,\u001b[0m \u001b[0mparams\u001b[0m\u001b[0;34m=\u001b[0m\u001b[0mparams\u001b[0m\u001b[0;34m,\u001b[0m \u001b[0;34m**\u001b[0m\u001b[0mkwargs\u001b[0m\u001b[0;34m)\u001b[0m\u001b[0;34m\u001b[0m\u001b[0;34m\u001b[0m\u001b[0m\n\u001b[0m\u001b[1;32m     77\u001b[0m \u001b[0;34m\u001b[0m\u001b[0m\n\u001b[1;32m     78\u001b[0m \u001b[0;34m\u001b[0m\u001b[0m\n",
      "\u001b[0;32m/opt/anaconda3/lib/python3.8/site-packages/requests/api.py\u001b[0m in \u001b[0;36mrequest\u001b[0;34m(method, url, **kwargs)\u001b[0m\n\u001b[1;32m     59\u001b[0m     \u001b[0;31m# cases, and look like a memory leak in others.\u001b[0m\u001b[0;34m\u001b[0m\u001b[0;34m\u001b[0m\u001b[0;34m\u001b[0m\u001b[0m\n\u001b[1;32m     60\u001b[0m     \u001b[0;32mwith\u001b[0m \u001b[0msessions\u001b[0m\u001b[0;34m.\u001b[0m\u001b[0mSession\u001b[0m\u001b[0;34m(\u001b[0m\u001b[0;34m)\u001b[0m \u001b[0;32mas\u001b[0m \u001b[0msession\u001b[0m\u001b[0;34m:\u001b[0m\u001b[0;34m\u001b[0m\u001b[0;34m\u001b[0m\u001b[0m\n\u001b[0;32m---> 61\u001b[0;31m         \u001b[0;32mreturn\u001b[0m \u001b[0msession\u001b[0m\u001b[0;34m.\u001b[0m\u001b[0mrequest\u001b[0m\u001b[0;34m(\u001b[0m\u001b[0mmethod\u001b[0m\u001b[0;34m=\u001b[0m\u001b[0mmethod\u001b[0m\u001b[0;34m,\u001b[0m \u001b[0murl\u001b[0m\u001b[0;34m=\u001b[0m\u001b[0murl\u001b[0m\u001b[0;34m,\u001b[0m \u001b[0;34m**\u001b[0m\u001b[0mkwargs\u001b[0m\u001b[0;34m)\u001b[0m\u001b[0;34m\u001b[0m\u001b[0;34m\u001b[0m\u001b[0m\n\u001b[0m\u001b[1;32m     62\u001b[0m \u001b[0;34m\u001b[0m\u001b[0m\n\u001b[1;32m     63\u001b[0m \u001b[0;34m\u001b[0m\u001b[0m\n",
      "\u001b[0;32m/opt/anaconda3/lib/python3.8/site-packages/requests/sessions.py\u001b[0m in \u001b[0;36mrequest\u001b[0;34m(self, method, url, params, data, headers, cookies, files, auth, timeout, allow_redirects, proxies, hooks, stream, verify, cert, json)\u001b[0m\n\u001b[1;32m    528\u001b[0m         }\n\u001b[1;32m    529\u001b[0m         \u001b[0msend_kwargs\u001b[0m\u001b[0;34m.\u001b[0m\u001b[0mupdate\u001b[0m\u001b[0;34m(\u001b[0m\u001b[0msettings\u001b[0m\u001b[0;34m)\u001b[0m\u001b[0;34m\u001b[0m\u001b[0;34m\u001b[0m\u001b[0m\n\u001b[0;32m--> 530\u001b[0;31m         \u001b[0mresp\u001b[0m \u001b[0;34m=\u001b[0m \u001b[0mself\u001b[0m\u001b[0;34m.\u001b[0m\u001b[0msend\u001b[0m\u001b[0;34m(\u001b[0m\u001b[0mprep\u001b[0m\u001b[0;34m,\u001b[0m \u001b[0;34m**\u001b[0m\u001b[0msend_kwargs\u001b[0m\u001b[0;34m)\u001b[0m\u001b[0;34m\u001b[0m\u001b[0;34m\u001b[0m\u001b[0m\n\u001b[0m\u001b[1;32m    531\u001b[0m \u001b[0;34m\u001b[0m\u001b[0m\n\u001b[1;32m    532\u001b[0m         \u001b[0;32mreturn\u001b[0m \u001b[0mresp\u001b[0m\u001b[0;34m\u001b[0m\u001b[0;34m\u001b[0m\u001b[0m\n",
      "\u001b[0;32m/opt/anaconda3/lib/python3.8/site-packages/requests/sessions.py\u001b[0m in \u001b[0;36msend\u001b[0;34m(self, request, **kwargs)\u001b[0m\n\u001b[1;32m    641\u001b[0m \u001b[0;34m\u001b[0m\u001b[0m\n\u001b[1;32m    642\u001b[0m         \u001b[0;31m# Send the request\u001b[0m\u001b[0;34m\u001b[0m\u001b[0;34m\u001b[0m\u001b[0;34m\u001b[0m\u001b[0m\n\u001b[0;32m--> 643\u001b[0;31m         \u001b[0mr\u001b[0m \u001b[0;34m=\u001b[0m \u001b[0madapter\u001b[0m\u001b[0;34m.\u001b[0m\u001b[0msend\u001b[0m\u001b[0;34m(\u001b[0m\u001b[0mrequest\u001b[0m\u001b[0;34m,\u001b[0m \u001b[0;34m**\u001b[0m\u001b[0mkwargs\u001b[0m\u001b[0;34m)\u001b[0m\u001b[0;34m\u001b[0m\u001b[0;34m\u001b[0m\u001b[0m\n\u001b[0m\u001b[1;32m    644\u001b[0m \u001b[0;34m\u001b[0m\u001b[0m\n\u001b[1;32m    645\u001b[0m         \u001b[0;31m# Total elapsed time of the request (approximately)\u001b[0m\u001b[0;34m\u001b[0m\u001b[0;34m\u001b[0m\u001b[0;34m\u001b[0m\u001b[0m\n",
      "\u001b[0;32m/opt/anaconda3/lib/python3.8/site-packages/requests/adapters.py\u001b[0m in \u001b[0;36msend\u001b[0;34m(self, request, stream, timeout, verify, cert, proxies)\u001b[0m\n\u001b[1;32m    437\u001b[0m         \u001b[0;32mtry\u001b[0m\u001b[0;34m:\u001b[0m\u001b[0;34m\u001b[0m\u001b[0;34m\u001b[0m\u001b[0m\n\u001b[1;32m    438\u001b[0m             \u001b[0;32mif\u001b[0m \u001b[0;32mnot\u001b[0m \u001b[0mchunked\u001b[0m\u001b[0;34m:\u001b[0m\u001b[0;34m\u001b[0m\u001b[0;34m\u001b[0m\u001b[0m\n\u001b[0;32m--> 439\u001b[0;31m                 resp = conn.urlopen(\n\u001b[0m\u001b[1;32m    440\u001b[0m                     \u001b[0mmethod\u001b[0m\u001b[0;34m=\u001b[0m\u001b[0mrequest\u001b[0m\u001b[0;34m.\u001b[0m\u001b[0mmethod\u001b[0m\u001b[0;34m,\u001b[0m\u001b[0;34m\u001b[0m\u001b[0;34m\u001b[0m\u001b[0m\n\u001b[1;32m    441\u001b[0m                     \u001b[0murl\u001b[0m\u001b[0;34m=\u001b[0m\u001b[0murl\u001b[0m\u001b[0;34m,\u001b[0m\u001b[0;34m\u001b[0m\u001b[0;34m\u001b[0m\u001b[0m\n",
      "\u001b[0;32m/opt/anaconda3/lib/python3.8/site-packages/urllib3/connectionpool.py\u001b[0m in \u001b[0;36murlopen\u001b[0;34m(self, method, url, body, headers, retries, redirect, assert_same_host, timeout, pool_timeout, release_conn, chunked, body_pos, **response_kw)\u001b[0m\n\u001b[1;32m    668\u001b[0m \u001b[0;34m\u001b[0m\u001b[0m\n\u001b[1;32m    669\u001b[0m             \u001b[0;31m# Make the request on the httplib connection object.\u001b[0m\u001b[0;34m\u001b[0m\u001b[0;34m\u001b[0m\u001b[0;34m\u001b[0m\u001b[0m\n\u001b[0;32m--> 670\u001b[0;31m             httplib_response = self._make_request(\n\u001b[0m\u001b[1;32m    671\u001b[0m                 \u001b[0mconn\u001b[0m\u001b[0;34m,\u001b[0m\u001b[0;34m\u001b[0m\u001b[0;34m\u001b[0m\u001b[0m\n\u001b[1;32m    672\u001b[0m                 \u001b[0mmethod\u001b[0m\u001b[0;34m,\u001b[0m\u001b[0;34m\u001b[0m\u001b[0;34m\u001b[0m\u001b[0m\n",
      "\u001b[0;32m/opt/anaconda3/lib/python3.8/site-packages/urllib3/connectionpool.py\u001b[0m in \u001b[0;36m_make_request\u001b[0;34m(self, conn, method, url, timeout, chunked, **httplib_request_kw)\u001b[0m\n\u001b[1;32m    424\u001b[0m                     \u001b[0;31m# Python 3 (including for exceptions like SystemExit).\u001b[0m\u001b[0;34m\u001b[0m\u001b[0;34m\u001b[0m\u001b[0;34m\u001b[0m\u001b[0m\n\u001b[1;32m    425\u001b[0m                     \u001b[0;31m# Otherwise it looks like a bug in the code.\u001b[0m\u001b[0;34m\u001b[0m\u001b[0;34m\u001b[0m\u001b[0;34m\u001b[0m\u001b[0m\n\u001b[0;32m--> 426\u001b[0;31m                     \u001b[0msix\u001b[0m\u001b[0;34m.\u001b[0m\u001b[0mraise_from\u001b[0m\u001b[0;34m(\u001b[0m\u001b[0me\u001b[0m\u001b[0;34m,\u001b[0m \u001b[0;32mNone\u001b[0m\u001b[0;34m)\u001b[0m\u001b[0;34m\u001b[0m\u001b[0;34m\u001b[0m\u001b[0m\n\u001b[0m\u001b[1;32m    427\u001b[0m         \u001b[0;32mexcept\u001b[0m \u001b[0;34m(\u001b[0m\u001b[0mSocketTimeout\u001b[0m\u001b[0;34m,\u001b[0m \u001b[0mBaseSSLError\u001b[0m\u001b[0;34m,\u001b[0m \u001b[0mSocketError\u001b[0m\u001b[0;34m)\u001b[0m \u001b[0;32mas\u001b[0m \u001b[0me\u001b[0m\u001b[0;34m:\u001b[0m\u001b[0;34m\u001b[0m\u001b[0;34m\u001b[0m\u001b[0m\n\u001b[1;32m    428\u001b[0m             \u001b[0mself\u001b[0m\u001b[0;34m.\u001b[0m\u001b[0m_raise_timeout\u001b[0m\u001b[0;34m(\u001b[0m\u001b[0merr\u001b[0m\u001b[0;34m=\u001b[0m\u001b[0me\u001b[0m\u001b[0;34m,\u001b[0m \u001b[0murl\u001b[0m\u001b[0;34m=\u001b[0m\u001b[0murl\u001b[0m\u001b[0;34m,\u001b[0m \u001b[0mtimeout_value\u001b[0m\u001b[0;34m=\u001b[0m\u001b[0mread_timeout\u001b[0m\u001b[0;34m)\u001b[0m\u001b[0;34m\u001b[0m\u001b[0;34m\u001b[0m\u001b[0m\n",
      "\u001b[0;32m/opt/anaconda3/lib/python3.8/site-packages/urllib3/packages/six.py\u001b[0m in \u001b[0;36mraise_from\u001b[0;34m(value, from_value)\u001b[0m\n",
      "\u001b[0;32m/opt/anaconda3/lib/python3.8/site-packages/urllib3/connectionpool.py\u001b[0m in \u001b[0;36m_make_request\u001b[0;34m(self, conn, method, url, timeout, chunked, **httplib_request_kw)\u001b[0m\n\u001b[1;32m    419\u001b[0m                 \u001b[0;31m# Python 3\u001b[0m\u001b[0;34m\u001b[0m\u001b[0;34m\u001b[0m\u001b[0;34m\u001b[0m\u001b[0m\n\u001b[1;32m    420\u001b[0m                 \u001b[0;32mtry\u001b[0m\u001b[0;34m:\u001b[0m\u001b[0;34m\u001b[0m\u001b[0;34m\u001b[0m\u001b[0m\n\u001b[0;32m--> 421\u001b[0;31m                     \u001b[0mhttplib_response\u001b[0m \u001b[0;34m=\u001b[0m \u001b[0mconn\u001b[0m\u001b[0;34m.\u001b[0m\u001b[0mgetresponse\u001b[0m\u001b[0;34m(\u001b[0m\u001b[0;34m)\u001b[0m\u001b[0;34m\u001b[0m\u001b[0;34m\u001b[0m\u001b[0m\n\u001b[0m\u001b[1;32m    422\u001b[0m                 \u001b[0;32mexcept\u001b[0m \u001b[0mBaseException\u001b[0m \u001b[0;32mas\u001b[0m \u001b[0me\u001b[0m\u001b[0;34m:\u001b[0m\u001b[0;34m\u001b[0m\u001b[0;34m\u001b[0m\u001b[0m\n\u001b[1;32m    423\u001b[0m                     \u001b[0;31m# Remove the TypeError from the exception chain in\u001b[0m\u001b[0;34m\u001b[0m\u001b[0;34m\u001b[0m\u001b[0;34m\u001b[0m\u001b[0m\n",
      "\u001b[0;32m/opt/anaconda3/lib/python3.8/http/client.py\u001b[0m in \u001b[0;36mgetresponse\u001b[0;34m(self)\u001b[0m\n\u001b[1;32m   1330\u001b[0m         \u001b[0;32mtry\u001b[0m\u001b[0;34m:\u001b[0m\u001b[0;34m\u001b[0m\u001b[0;34m\u001b[0m\u001b[0m\n\u001b[1;32m   1331\u001b[0m             \u001b[0;32mtry\u001b[0m\u001b[0;34m:\u001b[0m\u001b[0;34m\u001b[0m\u001b[0;34m\u001b[0m\u001b[0m\n\u001b[0;32m-> 1332\u001b[0;31m                 \u001b[0mresponse\u001b[0m\u001b[0;34m.\u001b[0m\u001b[0mbegin\u001b[0m\u001b[0;34m(\u001b[0m\u001b[0;34m)\u001b[0m\u001b[0;34m\u001b[0m\u001b[0;34m\u001b[0m\u001b[0m\n\u001b[0m\u001b[1;32m   1333\u001b[0m             \u001b[0;32mexcept\u001b[0m \u001b[0mConnectionError\u001b[0m\u001b[0;34m:\u001b[0m\u001b[0;34m\u001b[0m\u001b[0;34m\u001b[0m\u001b[0m\n\u001b[1;32m   1334\u001b[0m                 \u001b[0mself\u001b[0m\u001b[0;34m.\u001b[0m\u001b[0mclose\u001b[0m\u001b[0;34m(\u001b[0m\u001b[0;34m)\u001b[0m\u001b[0;34m\u001b[0m\u001b[0;34m\u001b[0m\u001b[0m\n",
      "\u001b[0;32m/opt/anaconda3/lib/python3.8/http/client.py\u001b[0m in \u001b[0;36mbegin\u001b[0;34m(self)\u001b[0m\n\u001b[1;32m    301\u001b[0m         \u001b[0;31m# read until we get a non-100 response\u001b[0m\u001b[0;34m\u001b[0m\u001b[0;34m\u001b[0m\u001b[0;34m\u001b[0m\u001b[0m\n\u001b[1;32m    302\u001b[0m         \u001b[0;32mwhile\u001b[0m \u001b[0;32mTrue\u001b[0m\u001b[0;34m:\u001b[0m\u001b[0;34m\u001b[0m\u001b[0;34m\u001b[0m\u001b[0m\n\u001b[0;32m--> 303\u001b[0;31m             \u001b[0mversion\u001b[0m\u001b[0;34m,\u001b[0m \u001b[0mstatus\u001b[0m\u001b[0;34m,\u001b[0m \u001b[0mreason\u001b[0m \u001b[0;34m=\u001b[0m \u001b[0mself\u001b[0m\u001b[0;34m.\u001b[0m\u001b[0m_read_status\u001b[0m\u001b[0;34m(\u001b[0m\u001b[0;34m)\u001b[0m\u001b[0;34m\u001b[0m\u001b[0;34m\u001b[0m\u001b[0m\n\u001b[0m\u001b[1;32m    304\u001b[0m             \u001b[0;32mif\u001b[0m \u001b[0mstatus\u001b[0m \u001b[0;34m!=\u001b[0m \u001b[0mCONTINUE\u001b[0m\u001b[0;34m:\u001b[0m\u001b[0;34m\u001b[0m\u001b[0;34m\u001b[0m\u001b[0m\n\u001b[1;32m    305\u001b[0m                 \u001b[0;32mbreak\u001b[0m\u001b[0;34m\u001b[0m\u001b[0;34m\u001b[0m\u001b[0m\n",
      "\u001b[0;32m/opt/anaconda3/lib/python3.8/http/client.py\u001b[0m in \u001b[0;36m_read_status\u001b[0;34m(self)\u001b[0m\n\u001b[1;32m    262\u001b[0m \u001b[0;34m\u001b[0m\u001b[0m\n\u001b[1;32m    263\u001b[0m     \u001b[0;32mdef\u001b[0m \u001b[0m_read_status\u001b[0m\u001b[0;34m(\u001b[0m\u001b[0mself\u001b[0m\u001b[0;34m)\u001b[0m\u001b[0;34m:\u001b[0m\u001b[0;34m\u001b[0m\u001b[0;34m\u001b[0m\u001b[0m\n\u001b[0;32m--> 264\u001b[0;31m         \u001b[0mline\u001b[0m \u001b[0;34m=\u001b[0m \u001b[0mstr\u001b[0m\u001b[0;34m(\u001b[0m\u001b[0mself\u001b[0m\u001b[0;34m.\u001b[0m\u001b[0mfp\u001b[0m\u001b[0;34m.\u001b[0m\u001b[0mreadline\u001b[0m\u001b[0;34m(\u001b[0m\u001b[0m_MAXLINE\u001b[0m \u001b[0;34m+\u001b[0m \u001b[0;36m1\u001b[0m\u001b[0;34m)\u001b[0m\u001b[0;34m,\u001b[0m \u001b[0;34m\"iso-8859-1\"\u001b[0m\u001b[0;34m)\u001b[0m\u001b[0;34m\u001b[0m\u001b[0;34m\u001b[0m\u001b[0m\n\u001b[0m\u001b[1;32m    265\u001b[0m         \u001b[0;32mif\u001b[0m \u001b[0mlen\u001b[0m\u001b[0;34m(\u001b[0m\u001b[0mline\u001b[0m\u001b[0;34m)\u001b[0m \u001b[0;34m>\u001b[0m \u001b[0m_MAXLINE\u001b[0m\u001b[0;34m:\u001b[0m\u001b[0;34m\u001b[0m\u001b[0;34m\u001b[0m\u001b[0m\n\u001b[1;32m    266\u001b[0m             \u001b[0;32mraise\u001b[0m \u001b[0mLineTooLong\u001b[0m\u001b[0;34m(\u001b[0m\u001b[0;34m\"status line\"\u001b[0m\u001b[0;34m)\u001b[0m\u001b[0;34m\u001b[0m\u001b[0;34m\u001b[0m\u001b[0m\n",
      "\u001b[0;32m/opt/anaconda3/lib/python3.8/socket.py\u001b[0m in \u001b[0;36mreadinto\u001b[0;34m(self, b)\u001b[0m\n\u001b[1;32m    667\u001b[0m         \u001b[0;32mwhile\u001b[0m \u001b[0;32mTrue\u001b[0m\u001b[0;34m:\u001b[0m\u001b[0;34m\u001b[0m\u001b[0;34m\u001b[0m\u001b[0m\n\u001b[1;32m    668\u001b[0m             \u001b[0;32mtry\u001b[0m\u001b[0;34m:\u001b[0m\u001b[0;34m\u001b[0m\u001b[0;34m\u001b[0m\u001b[0m\n\u001b[0;32m--> 669\u001b[0;31m                 \u001b[0;32mreturn\u001b[0m \u001b[0mself\u001b[0m\u001b[0;34m.\u001b[0m\u001b[0m_sock\u001b[0m\u001b[0;34m.\u001b[0m\u001b[0mrecv_into\u001b[0m\u001b[0;34m(\u001b[0m\u001b[0mb\u001b[0m\u001b[0;34m)\u001b[0m\u001b[0;34m\u001b[0m\u001b[0;34m\u001b[0m\u001b[0m\n\u001b[0m\u001b[1;32m    670\u001b[0m             \u001b[0;32mexcept\u001b[0m \u001b[0mtimeout\u001b[0m\u001b[0;34m:\u001b[0m\u001b[0;34m\u001b[0m\u001b[0;34m\u001b[0m\u001b[0m\n\u001b[1;32m    671\u001b[0m                 \u001b[0mself\u001b[0m\u001b[0;34m.\u001b[0m\u001b[0m_timeout_occurred\u001b[0m \u001b[0;34m=\u001b[0m \u001b[0;32mTrue\u001b[0m\u001b[0;34m\u001b[0m\u001b[0;34m\u001b[0m\u001b[0m\n",
      "\u001b[0;31mKeyboardInterrupt\u001b[0m: "
     ]
    }
   ],
   "source": [
    "url = \"http://api.openweathermap.org/data/2.5/weather?\"\n",
    "\n",
    "responses = []\n",
    "\n",
    "weather_url = url + \"appid=\" + weather_api_key + \"&q=\"\n",
    "\n",
    "for city in cities:\n",
    "    city_data = requests.get(weather_url + city).json()\n",
    "    \n",
    "    responses.append(city_data)\n",
    "    \n",
    "    print(f'{city} is {city_data}')\n"
   ]
  },
  {
   "cell_type": "markdown",
   "metadata": {},
   "source": [
    "### Convert Raw Data to DataFrame\n",
    "* Export the city data into a .csv.\n",
    "* Display the DataFrame"
   ]
  },
  {
   "cell_type": "code",
   "execution_count": null,
   "metadata": {},
   "outputs": [],
   "source": []
  },
  {
   "cell_type": "code",
   "execution_count": null,
   "metadata": {},
   "outputs": [],
   "source": []
  },
  {
   "cell_type": "markdown",
   "metadata": {},
   "source": [
    "## Inspect the data and remove the cities where the humidity > 100%.\n",
    "----\n",
    "Skip this step if there are no cities that have humidity > 100%. "
   ]
  },
  {
   "cell_type": "code",
   "execution_count": null,
   "metadata": {},
   "outputs": [],
   "source": []
  },
  {
   "cell_type": "code",
   "execution_count": null,
   "metadata": {},
   "outputs": [],
   "source": [
    "#  Get the indices of cities that have humidity over 100%.\n"
   ]
  },
  {
   "cell_type": "code",
   "execution_count": null,
   "metadata": {},
   "outputs": [],
   "source": [
    "# Make a new DataFrame equal to the city data to drop all humidity outliers by index.\n",
    "# Passing \"inplace=False\" will make a copy of the city_data DataFrame, which we call \"clean_city_data\".\n"
   ]
  },
  {
   "cell_type": "code",
   "execution_count": null,
   "metadata": {},
   "outputs": [],
   "source": [
    "\n"
   ]
  },
  {
   "cell_type": "markdown",
   "metadata": {},
   "source": [
    "## Plotting the Data\n",
    "* Use proper labeling of the plots using plot titles (including date of analysis) and axes labels.\n",
    "* Save the plotted figures as .pngs."
   ]
  },
  {
   "cell_type": "markdown",
   "metadata": {},
   "source": [
    "## Latitude vs. Temperature Plot"
   ]
  },
  {
   "cell_type": "code",
   "execution_count": null,
   "metadata": {
    "scrolled": true
   },
   "outputs": [],
   "source": []
  },
  {
   "cell_type": "markdown",
   "metadata": {},
   "source": [
    "## Latitude vs. Humidity Plot"
   ]
  },
  {
   "cell_type": "code",
   "execution_count": null,
   "metadata": {},
   "outputs": [],
   "source": []
  },
  {
   "cell_type": "markdown",
   "metadata": {},
   "source": [
    "## Latitude vs. Cloudiness Plot"
   ]
  },
  {
   "cell_type": "code",
   "execution_count": null,
   "metadata": {},
   "outputs": [],
   "source": []
  },
  {
   "cell_type": "markdown",
   "metadata": {},
   "source": [
    "## Latitude vs. Wind Speed Plot"
   ]
  },
  {
   "cell_type": "code",
   "execution_count": null,
   "metadata": {},
   "outputs": [],
   "source": []
  },
  {
   "cell_type": "markdown",
   "metadata": {},
   "source": [
    "## Linear Regression"
   ]
  },
  {
   "cell_type": "code",
   "execution_count": null,
   "metadata": {},
   "outputs": [],
   "source": []
  },
  {
   "cell_type": "markdown",
   "metadata": {},
   "source": [
    "####  Northern Hemisphere - Max Temp vs. Latitude Linear Regression"
   ]
  },
  {
   "cell_type": "code",
   "execution_count": null,
   "metadata": {},
   "outputs": [],
   "source": []
  },
  {
   "cell_type": "markdown",
   "metadata": {},
   "source": [
    "####  Southern Hemisphere - Max Temp vs. Latitude Linear Regression"
   ]
  },
  {
   "cell_type": "code",
   "execution_count": null,
   "metadata": {},
   "outputs": [],
   "source": []
  },
  {
   "cell_type": "markdown",
   "metadata": {},
   "source": [
    "####  Northern Hemisphere - Humidity (%) vs. Latitude Linear Regression"
   ]
  },
  {
   "cell_type": "code",
   "execution_count": null,
   "metadata": {},
   "outputs": [],
   "source": []
  },
  {
   "cell_type": "markdown",
   "metadata": {},
   "source": [
    "####  Southern Hemisphere - Humidity (%) vs. Latitude Linear Regression"
   ]
  },
  {
   "cell_type": "code",
   "execution_count": null,
   "metadata": {},
   "outputs": [],
   "source": []
  },
  {
   "cell_type": "markdown",
   "metadata": {},
   "source": [
    "####  Northern Hemisphere - Cloudiness (%) vs. Latitude Linear Regression"
   ]
  },
  {
   "cell_type": "code",
   "execution_count": null,
   "metadata": {},
   "outputs": [],
   "source": []
  },
  {
   "cell_type": "markdown",
   "metadata": {},
   "source": [
    "####  Southern Hemisphere - Cloudiness (%) vs. Latitude Linear Regression"
   ]
  },
  {
   "cell_type": "code",
   "execution_count": null,
   "metadata": {},
   "outputs": [],
   "source": []
  },
  {
   "cell_type": "markdown",
   "metadata": {},
   "source": [
    "####  Northern Hemisphere - Wind Speed (mph) vs. Latitude Linear Regression"
   ]
  },
  {
   "cell_type": "code",
   "execution_count": null,
   "metadata": {},
   "outputs": [],
   "source": []
  },
  {
   "cell_type": "markdown",
   "metadata": {},
   "source": [
    "####  Southern Hemisphere - Wind Speed (mph) vs. Latitude Linear Regression"
   ]
  },
  {
   "cell_type": "code",
   "execution_count": null,
   "metadata": {},
   "outputs": [],
   "source": []
  },
  {
   "cell_type": "code",
   "execution_count": null,
   "metadata": {},
   "outputs": [],
   "source": []
  }
 ],
 "metadata": {
  "anaconda-cloud": {},
  "kernel_info": {
   "name": "python3"
  },
  "kernelspec": {
   "display_name": "Python 3",
   "language": "python",
   "name": "python3"
  },
  "language_info": {
   "codemirror_mode": {
    "name": "ipython",
    "version": 3
   },
   "file_extension": ".py",
   "mimetype": "text/x-python",
   "name": "python",
   "nbconvert_exporter": "python",
   "pygments_lexer": "ipython3",
   "version": "3.8.3"
  },
  "latex_envs": {
   "LaTeX_envs_menu_present": true,
   "autoclose": false,
   "autocomplete": true,
   "bibliofile": "biblio.bib",
   "cite_by": "apalike",
   "current_citInitial": 1,
   "eqLabelWithNumbers": true,
   "eqNumInitial": 1,
   "hotkeys": {
    "equation": "Ctrl-E",
    "itemize": "Ctrl-I"
   },
   "labels_anchors": false,
   "latex_user_defs": false,
   "report_style_numbering": false,
   "user_envs_cfg": false
  },
  "nteract": {
   "version": "0.12.3"
  }
 },
 "nbformat": 4,
 "nbformat_minor": 2
}
