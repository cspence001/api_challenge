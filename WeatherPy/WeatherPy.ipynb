{
 "cells": [
  {
   "cell_type": "markdown",
   "metadata": {},
   "source": [
    "# WeatherPy\n",
    "----\n",
    "\n",
    "#### Note\n",
    "* Instructions have been included for each segment. You do not have to follow them exactly, but they are included to help you think through the steps."
   ]
  },
  {
   "cell_type": "code",
   "execution_count": 1,
   "metadata": {},
   "outputs": [
    {
     "name": "stdout",
     "output_type": "stream",
     "text": [
      "Requirement already satisfied: citipy in /opt/anaconda3/lib/python3.8/site-packages (0.0.5)\n",
      "Requirement already satisfied: kdtree>=0.12 in /opt/anaconda3/lib/python3.8/site-packages (from citipy) (0.16)\n",
      "Note: you may need to restart the kernel to use updated packages.\n"
     ]
    }
   ],
   "source": [
    "pip install citipy"
   ]
  },
  {
   "cell_type": "code",
   "execution_count": 1,
   "metadata": {
    "scrolled": true
   },
   "outputs": [],
   "source": [
    "# Dependencies and Setup\n",
    "import matplotlib.pyplot as plt\n",
    "import pandas as pd\n",
    "import numpy as np\n",
    "import requests\n",
    "import time\n",
    "from scipy.stats import linregress\n",
    "\n",
    "# Import API key\n",
    "from api_keys import weather_api_key\n",
    "\n",
    "# Incorporated citipy to determine city based on latitude and longitude\n",
    "from citipy import citipy\n",
    "\n",
    "# Output File (CSV)\n",
    "output_data_file = \"Resources/cities.csv\"\n",
    "\n",
    "# Range of latitudes and longitudes\n",
    "lat_range = (-90, 90)\n",
    "lng_range = (-180, 180)"
   ]
  },
  {
   "cell_type": "markdown",
   "metadata": {},
   "source": [
    "## Generate Cities List"
   ]
  },
  {
   "cell_type": "code",
   "execution_count": 2,
   "metadata": {},
   "outputs": [
    {
     "data": {
      "text/plain": [
       "628"
      ]
     },
     "execution_count": 2,
     "metadata": {},
     "output_type": "execute_result"
    }
   ],
   "source": [
    "# List for holding lat_lngs and cities\n",
    "lat_lngs = []\n",
    "cities = []\n",
    "\n",
    "# Create a set of random lat and lng combinations\n",
    "lats = np.random.uniform(lat_range[0], lat_range[1], size=1500)\n",
    "lngs = np.random.uniform(lng_range[0], lng_range[1], size=1500)\n",
    "lat_lngs = zip(lats, lngs)\n",
    "\n",
    "# Identify nearest city for each lat, lng combination\n",
    "for lat_lng in lat_lngs:\n",
    "    city = citipy.nearest_city(lat_lng[0], lat_lng[1]).city_name\n",
    "    \n",
    "    # If the city is unique, then add it to a our cities list\n",
    "    if city not in cities:\n",
    "        cities.append(city)\n",
    "\n",
    "# Print the city count to confirm sufficient count\n",
    "len(cities)"
   ]
  },
  {
   "cell_type": "code",
   "execution_count": 3,
   "metadata": {},
   "outputs": [
    {
     "name": "stdout",
     "output_type": "stream",
     "text": [
      "['lompoc', 'khatanga', 'san patricio', 'chokurdakh', 'ilulissat', 'hilo', 'albany', 'yellowknife', 'rikitea', 'kodiak', 'ushuaia', 'busselton', 'oksfjord', 'beyneu', 'upernavik', 'mount isa', 'atar', 'morgan city', 'ponta do sol', 'bengkulu', 'sorong', 'atambua', 'bose', 'kapaa', 'marcona', 'mataura', 'clyde river', 'attawapiskat', 'punta arenas', 'hofn', 'qaanaaq', 'energetik', 'saint-philippe', 'san quintin', 'new norfolk', 'hirara', 'kavaratti', 'srivardhan', 'avarua', 'hamilton', 'castro', 'pevek', 'mys shmidta', 'torbay', 'ribeira grande', 'jamestown', 'barrow', 'nhlangano', 'olden', 'northam', 'norman wells', 'naze', 'antalaha', 'peleduy', 'dudinka', 'zalesovo', 'barcelos', 'zhigansk', 'georgetown', 'lasa', 'bredasdorp', 'hermanus', 'hami', 'saint anthony', 'whyalla', 'cape town', 'inyonga', 'portland', 'mwene-ditu', 'nagornskiy', 'grand river south east', 'waingapu', 'matamoros', 'esperance', 'tautira', 'bluff', 'zalukokoazhe', 'amderma', 'port hedland', 'tromso', 'kaitangata', 'sorland', 'neryungri', 'illoqqortoormiut', 'atuona', 'shubarkuduk', 'ormond beach', 'donna', 'tual', 'antofagasta', 'dikson', 'englewood', 'talnakh', 'kirakira', 'vaini', 'barentsburg', 'turkmenabat', 'huilong', 'marzuq', 'port hardy', 'bargal', 'klaksvik', 'yarmouth', 'burns lake', 'forbes', 'butaritari', 'lagoa', 'hobart', 'port lincoln', 'chuy', 'atocha', 'provideniya', 'dhidhdhoo', 'tasiilaq', 'te anau', 'kholm', 'lavrentiya', 'dunedin', 'governador valadares', 'flinders', 'visnes', 'vardo', 'taolanaro', 'shimoda', 'baruun-urt', 'plettenberg bay', 'cidreira', 'anadyr', 'comodoro rivadavia', 'paamiut', 'baykit', 'rajanpur', 'padang', 'whitianga', 'mogadishu', 'thompson', 'faya', 'san jeronimo', 'hithadhoo', 'trinidad', 'wad madani', 'capari', 'santa eulalia del rio', 'la joya', 'acajutla', 'sao filipe', 'aklavik', 'ulladulla', 'ust-kuyga', 'ternate', 'klyuchi', 'sosnogorsk', 'lebu', 'vila velha', 'saint quentin', 'nikolskoye', 'tuktoyaktuk', 'batsfjord', 'laurel', 'siyabuswa', 'baft', 'sao joao da barra', 'kashan', 'umzimvubu', 'west bay', 'tikrit', 'buzmeyin', 'gannan', 'samalaeulu', 'sarkand', 'takoradi', 'itoman', 'general roca', 'tarakan', 'shebalino', 'marshall', 'aktau', 'santa isabel do rio negro', 'chaozhou', 'namatanai', 'santa maria', 'airai', 'saint george', 'samarai', 'puerto palomas', 'bubaque', 'tuggurt', 'labuhan', 'adrar', 'souillac', 'cabo san lucas', 'kologriv', 'jieshi', 'oxford', 'codrington', 'bondo', 'konstantinovka', 'hasaki', 'lichuan', 'bichena', 'tyret pervaya', 'bethel', 'coquimbo', 'port alfred', 'djenne', 'haines junction', 'banda aceh', 'north bend', 'xichang', 'bossembele', 'chara', 'camargo', 'nanortalik', 'longyearbyen', 'san policarpo', 'ancud', 'along', 'fortuna', 'kaabong', 'samusu', 'alexandria', 'longlac', 'manzhouli', 'filingue', 'araouane', 'verkhoyansk', 'bilibino', 'altea', 'sun valley', 'lorengau', 'bagamoyo', 'carlsbad', 'maputo', 'nizhneyansk', 'cherskiy', 'pafos', 'coihaique', 'severo-kurilsk', 'beringovskiy', 'barhi', 'babanusah', 'port elizabeth', 'pangnirtung', 'shizuishan', 'chapais', 'wonthaggi', 'ensley', 'deniliquin', 'port macquarie', 'rocha', 'ketchikan', 'la ronge', 'faanui', 'kropotkin', 'dicabisagan', 'belushya guba', 'sao miguel do araguaia', 'zaozerne', 'tonantins', 'cerquilho', 'kahului', 'khash', 'pombas', 'puerto ayora', 'vao', 'arraial do cabo', 'san cristobal', 'xinqing', 'rawson', 'manokwari', 'morondava', 'innisfail', 'lodja', 'victoria', 'isfana', 'derbent', 'kruisfontein', 'bathsheba', 'pangody', 'komsomolskiy', 'tiksi', 'ponta delgada', 'sinjah', 'alofi', 'diu', 'cairns', 'waki', 'barstow', 'kulaman', 'mar del plata', 'sosnovo-ozerskoye', 'aswan', 'bonfim', 'norfolk', 'vila franca do campo', 'lovozero', 'mwanga', 'yulara', 'grand centre', 'kadykchan', 'laguna', 'saskylakh', 'carutapera', 'sumkino', 'oktyabrskiy', 'crnomelj', 'esqueda', 'grindavik', 'pochutla', 'bereda', 'khor', 'barabai', 'yarkovo', 'urumqi', 'kailua', 'saldanha', 'tuatapere', 'becerril', 'exu', 'cocorit', 'arari', 'vilhena', 'noumea', 'qaqortoq', 'tsihombe', 'carballo', 'san carlos de bariloche', 'joacaba', 'hof', 'guerrero negro', 'sobolevo', 'eyl', 'tecoanapa', 'bulls', 'astara', 'sola', 'jiuquan', 'avera', 'vestmannaeyjar', 'kununurra', 'fram', 'richards bay', 'turukhansk', 'henties bay', 'lata', 'olinda', 'lancaster', 'naryan-mar', 'warqla', 'tairua', 'wilmington', 'westport', 'lukulu', 'gualeguaychu', 'christchurch', 'le moule', 'kindu', 'pemangkat', 'lolua', 'khilok', 'lufkin', 'rorvik', 'lai', 'khani', 'turbat', 'gurgan', 'gorno-chuyskiy', 'bardiyah', 'ostrovnoy', 'tura', 'sentyabrskiy', 'sabzevar', 'baghdad', 'palmas bellas', 'umm kaddadah', 'mahon', 'cheremukhovo', 'ugoofaaru', 'taian', 'belmonte', 'si racha', 'moose factory', 'sitka', 'tremedal', 'berlevag', 'palmer', 'emirdag', 'novyy buyan', 'victor harbor', 'artyk', 'namibe', 'sur', 'sioux lookout', 'vostok', 'tasgaon', 'carnarvon', 'bakhtiyarpur', 'mayo', 'mponela', 'lovec', 'bambous virieux', 'maceio', 'abha', 'yershov', 'pangai', 'aykhal', 'mecca', 'caribou', 'bowen', 'hihifo', 'banfora', 'teya', 'cervo', 'vanavara', 'guerrero', 'koutsouras', 'athabasca', 'aranda de duero', 'khakhea', 'galgani', 'alta', 'charters towers', 'arganil', 'road town', 'launceston', 'the valley', 'tadine', 'galbshtadt', 'isangel', 'nichinan', 'zhaotong', 'fonte boa', 'sahrak', 'yeppoon', 'langenburg', 'itupiranga', 'xuanwu', 'ambalavao', 'yumen', 'volot', 'camacha', 'taoudenni', 'tumannyy', 'saleaula', 'meulaboh', 'vondrozo', 'vallenar', 'minsk', 'pacific grove', 'asyut', 'rio gallegos', 'santa rosa', 'asau', 'lashio', 'bacolod', 'yankton', 'yangjiang', 'narsaq', 'hemnesberget', 'neiafu', 'atka', 'panama city', 'kanniyakumari', 'barra bonita', 'mumford', 'rafaela', 'kuche', 'doha', 'yerofey pavlovich', 'dwarka', 'calama', 'krasnyy chikoy', 'andevoranto', 'puerto leguizamo', 'hudesti', 'iramuco', 'bac lieu', 'puerto del rosario', 'shenjiamen', 'tokmak', 'orlik', 'fukue', 'katsuura', 'varnamo', 'rolla', 'daru', 'vaitupu', 'ukiah', 'mutare', 'pemba', 'aporawan', 'basco', 'matara', 'nome', 'mizan teferi', 'zanjan', 'korla', 'fomboni', 'havre-saint-pierre', 'newport', 'palabuhanratu', 'shushenskoye', 'nacunday', 'straumen', 'amga', 'auki', 'trat', 'samfya', 'rio grande', 'campbellton', 'businga', 'lure', 'miles city', 'biloela', 'paita', 'abeche', 'srednekolymsk', 'geraldton', 'iqaluit', 'erzin', 'ngukurr', 'kaseda', 'rock sound', 'constitucion', 'bria', 'jurm', 'yele', 'letka', 'dingle', 'marsh harbour', 'port-gentil', 'kabakovo', 'krasnoselkup', 'wausau', 'los llanos de aridane', 'aberfeldy', 'lisakovsk', 'honningsvag', 'sadon', 'gizo', 'botro', 'dallas', 'tanda', 'togur', 'karaul', 'puerto baquerizo moreno', 'inhambane', 'high level', 'sirjan', 'kenora', 'falealupo', 'batagay-alyta', 'srikakulam', 'olafsvik', 'roma', 'manakara', 'staraya mayna', 'mayuge', 'nautla', 'sibolga', 'san luis', 'navirai', 'kushmurun', 'kenai', 'fort morgan', 'lingyuan', 'general pico', 'kiunga', 'waddan', 'kamenskoye', 'gorahun', 'boyolangu', 'tocopilla', 'ostersund', 'necochea', 'areosa', 'biu', 'abu samrah', 'college', 'maniitsoq', 'saint-georges', 'tazmalt', 'kavieng', 'yadrin', 'morwell', 'yenagoa', 'dalvik', 'salalah', 'ossora', 'rossosh', 'ahipara', 'jaipur', 'miraflores', 'batemans bay', 'trelleborg', 'emba', 'kabinda', 'tonder', 'shache', 'belaya gora', 'poum', 'kunigal', 'ardakan', 'gao', 'garowe', 'lugovoy', 'challans', 'matagami', 'pasir gudang', 'ucluelet', 'juneau', 'huangpi', 'jilin', 'fecamp', 'commerce', 'conceicao da barra', 'riberalta', 'honiara', 'manosque', 'hualmay', 'east london', 'eisenberg', 'bad waldsee', 'erdokertes', 'luderitz', 'potrero del llano', 'beloha', 'sorvag']\n"
     ]
    }
   ],
   "source": [
    "print(cities)"
   ]
  },
  {
   "cell_type": "markdown",
   "metadata": {},
   "source": [
    "### Perform API Calls\n",
    "* Perform a weather check on each city using a series of successive API calls.\n",
    "* Include a print log of each city as it'sbeing processed (with the city number and city name).\n"
   ]
  },
  {
   "cell_type": "code",
   "execution_count": 4,
   "metadata": {},
   "outputs": [
    {
     "name": "stdout",
     "output_type": "stream",
     "text": [
      "65e67b99df7e4d1a7b6d4e19ea6783d8\n"
     ]
    }
   ],
   "source": [
    "print(weather_api_key)"
   ]
  },
  {
   "cell_type": "code",
   "execution_count": 5,
   "metadata": {},
   "outputs": [
    {
     "data": {
      "text/plain": [
       "{'coord': {'lon': -124.1573, 'lat': 40.5982},\n",
       " 'weather': [{'id': 804,\n",
       "   'main': 'Clouds',\n",
       "   'description': 'overcast clouds',\n",
       "   'icon': '04d'}],\n",
       " 'base': 'stations',\n",
       " 'main': {'temp': 287.59,\n",
       "  'feels_like': 287.24,\n",
       "  'temp_min': 286.48,\n",
       "  'temp_max': 288.15,\n",
       "  'pressure': 1028,\n",
       "  'humidity': 94},\n",
       " 'visibility': 4828,\n",
       " 'wind': {'speed': 2.06, 'deg': 310},\n",
       " 'clouds': {'all': 90},\n",
       " 'dt': 1610582985,\n",
       " 'sys': {'type': 1,\n",
       "  'id': 4127,\n",
       "  'country': 'US',\n",
       "  'sunrise': 1610552323,\n",
       "  'sunset': 1610586708},\n",
       " 'timezone': -28800,\n",
       " 'id': 5563839,\n",
       " 'name': 'Fortuna',\n",
       " 'cod': 200}"
      ]
     },
     "execution_count": 5,
     "metadata": {},
     "output_type": "execute_result"
    }
   ],
   "source": [
    "#establish base url\n",
    "base_url = \"http://api.openweathermap.org/data/2.5/weather?\"\n",
    "\n",
    "#build query url\n",
    "weather_url = base_url + \"appid=\" + weather_api_key + \"&q=\" \n",
    "\n",
    "#get sample weather of city\n",
    "samp_weather = requests.get(weather_url + \"fortuna\").json()\n",
    "samp_weather\n"
   ]
  },
  {
   "cell_type": "code",
   "execution_count": 6,
   "metadata": {},
   "outputs": [
    {
     "name": "stdout",
     "output_type": "stream",
     "text": [
      "lompoc,5367788 found! Appending stats\n",
      "khatanga,2022572 found! Appending stats\n",
      "san patricio,4726521 found! Appending stats\n",
      "chokurdakh,2126123 found! Appending stats\n",
      "ilulissat,3423146 found! Appending stats\n",
      "hilo,5855927 found! Appending stats\n",
      "albany,5106841 found! Appending stats\n",
      "yellowknife,6185377 found! Appending stats\n",
      "rikitea,4030556 found! Appending stats\n",
      "kodiak,5866583 found! Appending stats\n",
      "ushuaia,3833367 found! Appending stats\n",
      "busselton,2075265 found! Appending stats\n",
      "oksfjord,778362 found! Appending stats\n",
      "beyneu,610298 found! Appending stats\n",
      "upernavik,3418910 found! Appending stats\n",
      "mount isa,2065594 found! Appending stats\n",
      "atar,2381334 found! Appending stats\n",
      "morgan city,4333811 found! Appending stats\n",
      "ponta do sol,2264557 found! Appending stats\n",
      "bengkulu,1649150 found! Appending stats\n",
      "sorong,1626542 found! Appending stats\n",
      "atambua,1651103 found! Appending stats\n",
      "bose,6457397 found! Appending stats\n",
      "kapaa,5848280 found! Appending stats\n",
      "marcona not found! NaN\n",
      "mataura,6201424 found! Appending stats\n",
      "clyde river,5924351 found! Appending stats\n",
      "attawapiskat not found! NaN\n",
      "punta arenas,3874787 found! Appending stats\n",
      "hofn,2630299 found! Appending stats\n",
      "qaanaaq,3831208 found! Appending stats\n",
      "energetik,563471 found! Appending stats\n",
      "saint-philippe,935215 found! Appending stats\n",
      "san quintin,3984997 found! Appending stats\n",
      "new norfolk,2155415 found! Appending stats\n",
      "hirara,1862505 found! Appending stats\n",
      "kavaratti,1267390 found! Appending stats\n",
      "srivardhan,1255619 found! Appending stats\n",
      "avarua,4035715 found! Appending stats\n",
      "hamilton,4513583 found! Appending stats\n",
      "castro,3466704 found! Appending stats\n",
      "pevek,2122090 found! Appending stats\n",
      "mys shmidta not found! NaN\n",
      "torbay,6167817 found! Appending stats\n",
      "ribeira grande,3372707 found! Appending stats\n",
      "jamestown,5122534 found! Appending stats\n",
      "barrow,5880054 found! Appending stats\n",
      "nhlangano,934913 found! Appending stats\n",
      "olden,3135601 found! Appending stats\n",
      "northam,2641434 found! Appending stats\n",
      "norman wells,6089245 found! Appending stats\n",
      "naze,1855540 found! Appending stats\n",
      "antalaha,1071296 found! Appending stats\n",
      "peleduy,2018069 found! Appending stats\n",
      "dudinka,1507116 found! Appending stats\n",
      "zalesovo,1485528 found! Appending stats\n",
      "barcelos,2742416 found! Appending stats\n",
      "zhigansk,2012530 found! Appending stats\n",
      "georgetown,1735106 found! Appending stats\n",
      "lasa,3175096 found! Appending stats\n",
      "bredasdorp,1015776 found! Appending stats\n",
      "hermanus,3366880 found! Appending stats\n",
      "hami,1529484 found! Appending stats\n",
      "saint anthony,5044290 found! Appending stats\n",
      "whyalla,2058430 found! Appending stats\n",
      "cape town,3369157 found! Appending stats\n",
      "inyonga,159134 found! Appending stats\n",
      "portland,5746545 found! Appending stats\n",
      "mwene-ditu,207570 found! Appending stats\n",
      "nagornskiy,558209 found! Appending stats\n",
      "grand river south east not found! NaN\n",
      "waingapu,1622318 found! Appending stats\n",
      "matamoros,3996426 found! Appending stats\n",
      "esperance,2071860 found! Appending stats\n",
      "tautira,4033557 found! Appending stats\n",
      "bluff,2206939 found! Appending stats\n",
      "zalukokoazhe,465174 found! Appending stats\n",
      "amderma not found! NaN\n",
      "port hedland,2063042 found! Appending stats\n",
      "tromso,6453316 found! Appending stats\n",
      "kaitangata,2208248 found! Appending stats\n",
      "sorland,3137469 found! Appending stats\n",
      "neryungri,2019309 found! Appending stats\n",
      "illoqqortoormiut not found! NaN\n",
      "atuona,4020109 found! Appending stats\n",
      "shubarkuduk,608271 found! Appending stats\n",
      "ormond beach,4167178 found! Appending stats\n",
      "donna,4686593 found! Appending stats\n",
      "tual,1623197 found! Appending stats\n",
      "antofagasta,3899539 found! Appending stats\n",
      "dikson,1507390 found! Appending stats\n",
      "englewood,5421250 found! Appending stats\n",
      "talnakh,1490256 found! Appending stats\n",
      "kirakira,2178753 found! Appending stats\n",
      "vaini,4032243 found! Appending stats\n",
      "barentsburg not found! NaN\n",
      "turkmenabat,1219649 found! Appending stats\n",
      "huilong,1806840 found! Appending stats\n",
      "marzuq,72181 found! Appending stats\n",
      "port hardy,6111862 found! Appending stats\n",
      "bargal not found! NaN\n",
      "klaksvik,2618795 found! Appending stats\n",
      "yarmouth,4956335 found! Appending stats\n",
      "burns lake,5911745 found! Appending stats\n",
      "forbes,2166368 found! Appending stats\n",
      "butaritari,2110227 found! Appending stats\n",
      "lagoa,3372964 found! Appending stats\n",
      "hobart,2163355 found! Appending stats\n",
      "port lincoln,2063036 found! Appending stats\n",
      "chuy,3443061 found! Appending stats\n",
      "atocha,3923570 found! Appending stats\n",
      "provideniya,4031574 found! Appending stats\n",
      "dhidhdhoo,1337612 found! Appending stats\n",
      "tasiilaq,3424607 found! Appending stats\n",
      "te anau,2181625 found! Appending stats\n",
      "kholm,549786 found! Appending stats\n",
      "lavrentiya,4031637 found! Appending stats\n",
      "dunedin,2191562 found! Appending stats\n",
      "governador valadares,3462315 found! Appending stats\n",
      "flinders,6255012 found! Appending stats\n",
      "visnes,3131500 found! Appending stats\n",
      "vardo,777019 found! Appending stats\n",
      "taolanaro not found! NaN\n",
      "shimoda,1852357 found! Appending stats\n",
      "baruun-urt,2032614 found! Appending stats\n",
      "plettenberg bay,964712 found! Appending stats\n",
      "cidreira,3466165 found! Appending stats\n",
      "anadyr,2127202 found! Appending stats\n",
      "comodoro rivadavia,3860443 found! Appending stats\n",
      "paamiut,3421193 found! Appending stats\n",
      "baykit,1510689 found! Appending stats\n",
      "rajanpur,1167380 found! Appending stats\n",
      "padang,1633419 found! Appending stats\n",
      "whitianga,2179103 found! Appending stats\n",
      "mogadishu,53654 found! Appending stats\n",
      "thompson,6165406 found! Appending stats\n",
      "faya,110690 found! Appending stats\n",
      "san jeronimo,3929611 found! Appending stats\n",
      "hithadhoo,1282256 found! Appending stats\n",
      "trinidad,3902377 found! Appending stats\n",
      "wad madani,364103 found! Appending stats\n",
      "capari,792055 found! Appending stats\n",
      "santa eulalia del rio not found! NaN\n",
      "la joya,3525570 found! Appending stats\n",
      "acajutla,3587498 found! Appending stats\n",
      "sao filipe,3374210 found! Appending stats\n",
      "aklavik,5882953 found! Appending stats\n",
      "ulladulla,2145554 found! Appending stats\n",
      "ust-kuyga,2013921 found! Appending stats\n",
      "ternate,1624041 found! Appending stats\n",
      "klyuchi,1503153 found! Appending stats\n",
      "sosnogorsk,490391 found! Appending stats\n",
      "lebu,3883457 found! Appending stats\n",
      "vila velha,3445026 found! Appending stats\n",
      "saint quentin not found! NaN\n",
      "nikolskoye,546105 found! Appending stats\n",
      "tuktoyaktuk,6170031 found! Appending stats\n",
      "batsfjord,780717 found! Appending stats\n",
      "laurel,4360369 found! Appending stats\n",
      "siyabuswa,955313 found! Appending stats\n",
      "baft,390054 found! Appending stats\n",
      "sao joao da barra,3448903 found! Appending stats\n",
      "kashan,128477 found! Appending stats\n",
      "umzimvubu not found! NaN\n",
      "west bay,3580477 found! Appending stats\n",
      "tikrit,90150 found! Appending stats\n",
      "buzmeyin,162099 found! Appending stats\n",
      "gannan,2037311 found! Appending stats\n",
      "samalaeulu not found! NaN\n",
      "sarkand,1519691 found! Appending stats\n",
      "takoradi,2294915 found! Appending stats\n",
      "itoman,1861280 found! Appending stats\n",
      "general roca,3855065 found! Appending stats\n",
      "tarakan,1624725 found! Appending stats\n",
      "shebalino,1492299 found! Appending stats\n",
      "marshall,4074736 found! Appending stats\n",
      "aktau,610612 found! Appending stats\n",
      "santa isabel do rio negro,3662489 found! Appending stats\n",
      "chaozhou,1815395 found! Appending stats\n",
      "namatanai,2090021 found! Appending stats\n",
      "santa maria,3450083 found! Appending stats\n",
      "airai,1651810 found! Appending stats\n",
      "saint george,5546220 found! Appending stats\n",
      "samarai,2132606 found! Appending stats\n",
      "puerto palomas,3991350 found! Appending stats\n",
      "bubaque,2374583 found! Appending stats\n",
      "tuggurt not found! NaN\n",
      "labuhan,8079926 found! Appending stats\n",
      "adrar,2381972 found! Appending stats\n",
      "souillac,933995 found! Appending stats\n",
      "cabo san lucas,3985710 found! Appending stats\n",
      "kologriv,546282 found! Appending stats\n",
      "jieshi,1805857 found! Appending stats\n",
      "oxford,2640729 found! Appending stats\n",
      "codrington,2171099 found! Appending stats\n",
      "bondo,218253 found! Appending stats\n",
      "konstantinovka,2021799 found! Appending stats\n",
      "hasaki,2112802 found! Appending stats\n",
      "lichuan,1803782 found! Appending stats\n",
      "bichena,342190 found! Appending stats\n",
      "tyret pervaya,2014705 found! Appending stats\n",
      "bethel,5282297 found! Appending stats\n",
      "coquimbo,3893629 found! Appending stats\n",
      "port alfred,964432 found! Appending stats\n",
      "djenne,2458589 found! Appending stats\n",
      "haines junction,5969025 found! Appending stats\n",
      "banda aceh,1215502 found! Appending stats\n",
      "north bend,5742974 found! Appending stats\n",
      "xichang,1789647 found! Appending stats\n",
      "bossembele not found! NaN\n",
      "chara,2025630 found! Appending stats\n"
     ]
    },
    {
     "name": "stdout",
     "output_type": "stream",
     "text": [
      "camargo,4013724 found! Appending stats\n",
      "nanortalik,3421765 found! Appending stats\n",
      "longyearbyen,2729907 found! Appending stats\n",
      "san policarpo,1688696 found! Appending stats\n",
      "ancud,3899695 found! Appending stats\n",
      "along,1278969 found! Appending stats\n",
      "fortuna,5563839 found! Appending stats\n",
      "kaabong,233093 found! Appending stats\n",
      "samusu not found! NaN\n",
      "alexandria,361058 found! Appending stats\n",
      "longlac not found! NaN\n",
      "manzhouli,2035836 found! Appending stats\n",
      "filingue,2444995 found! Appending stats\n",
      "araouane,2460954 found! Appending stats\n",
      "verkhoyansk,2013465 found! Appending stats\n",
      "bilibino,2126682 found! Appending stats\n",
      "altea,2521804 found! Appending stats\n",
      "sun valley,5513307 found! Appending stats\n",
      "lorengau,2092164 found! Appending stats\n",
      "bagamoyo,161290 found! Appending stats\n",
      "carlsbad,5334223 found! Appending stats\n",
      "maputo,1040652 found! Appending stats\n",
      "nizhneyansk not found! NaN\n",
      "cherskiy,2126199 found! Appending stats\n",
      "pafos,146214 found! Appending stats\n",
      "coihaique,3894426 found! Appending stats\n",
      "severo-kurilsk,2121385 found! Appending stats\n",
      "beringovskiy,2126710 found! Appending stats\n",
      "barhi,1276956 found! Appending stats\n",
      "babanusah not found! NaN\n",
      "port elizabeth,964420 found! Appending stats\n",
      "pangnirtung,6096551 found! Appending stats\n",
      "shizuishan,1794806 found! Appending stats\n",
      "chapais,5919850 found! Appending stats\n",
      "wonthaggi,2154826 found! Appending stats\n",
      "ensley,4154489 found! Appending stats\n",
      "deniliquin,2169068 found! Appending stats\n",
      "port macquarie,2152659 found! Appending stats\n",
      "rocha,3440777 found! Appending stats\n",
      "ketchikan,5554428 found! Appending stats\n",
      "la ronge,6050066 found! Appending stats\n",
      "faanui,4034551 found! Appending stats\n",
      "kropotkin,540761 found! Appending stats\n",
      "dicabisagan,1715015 found! Appending stats\n",
      "belushya guba not found! NaN\n",
      "sao miguel do araguaia,3448455 found! Appending stats\n",
      "zaozerne,687726 found! Appending stats\n",
      "tonantins,3661894 found! Appending stats\n",
      "cerquilho,3466429 found! Appending stats\n",
      "kahului,5847411 found! Appending stats\n",
      "khash,1160571 found! Appending stats\n",
      "pombas,3374351 found! Appending stats\n",
      "puerto ayora,3652764 found! Appending stats\n",
      "vao,2137773 found! Appending stats\n",
      "arraial do cabo,3471451 found! Appending stats\n",
      "san cristobal,3628473 found! Appending stats\n",
      "xinqing,2033667 found! Appending stats\n",
      "rawson,3839307 found! Appending stats\n",
      "manokwari,1636308 found! Appending stats\n",
      "morondava,1058381 found! Appending stats\n",
      "innisfail,2162683 found! Appending stats\n",
      "lodja,211647 found! Appending stats\n",
      "victoria,1819729 found! Appending stats\n",
      "isfana,1222662 found! Appending stats\n",
      "derbent,566532 found! Appending stats\n",
      "kruisfontein,986717 found! Appending stats\n",
      "bathsheba,3374083 found! Appending stats\n",
      "pangody,1495626 found! Appending stats\n",
      "komsomolskiy,1513491 found! Appending stats\n",
      "tiksi,2015306 found! Appending stats\n",
      "ponta delgada,3372783 found! Appending stats\n",
      "sinjah not found! NaN\n",
      "alofi,4036284 found! Appending stats\n",
      "diu,1272502 found! Appending stats\n",
      "cairns,2172797 found! Appending stats\n",
      "waki,1848933 found! Appending stats\n",
      "barstow,5326297 found! Appending stats\n",
      "kulaman,1708485 found! Appending stats\n",
      "mar del plata,3430863 found! Appending stats\n",
      "sosnovo-ozerskoye,2016216 found! Appending stats\n",
      "aswan,359792 found! Appending stats\n",
      "bonfim,3405215 found! Appending stats\n",
      "norfolk,4945455 found! Appending stats\n",
      "vila franca do campo,3372472 found! Appending stats\n",
      "lovozero,533933 found! Appending stats\n",
      "mwanga,152265 found! Appending stats\n",
      "yulara,6355222 found! Appending stats\n",
      "grand centre not found! NaN\n",
      "kadykchan not found! NaN\n",
      "laguna,5364271 found! Appending stats\n",
      "saskylakh,2017155 found! Appending stats\n",
      "carutapera,3402648 found! Appending stats\n",
      "sumkino,1490655 found! Appending stats\n",
      "oktyabrskiy,515879 found! Appending stats\n",
      "crnomelj,3202333 found! Appending stats\n",
      "esqueda,4006532 found! Appending stats\n",
      "grindavik,3416888 found! Appending stats\n",
      "pochutla,3517970 found! Appending stats\n",
      "bereda,3105522 found! Appending stats\n",
      "khor,2022317 found! Appending stats\n",
      "barabai,1650064 found! Appending stats\n",
      "yarkovo,1486369 found! Appending stats\n",
      "urumqi,1529102 found! Appending stats\n",
      "kailua,5847486 found! Appending stats\n",
      "saldanha,3361934 found! Appending stats\n",
      "tuatapere,2180815 found! Appending stats\n",
      "becerril,3689026 found! Appending stats\n",
      "exu,3400541 found! Appending stats\n",
      "cocorit,4013593 found! Appending stats\n",
      "arari,3407258 found! Appending stats\n",
      "vilhena,3924679 found! Appending stats\n",
      "noumea,2139521 found! Appending stats\n",
      "qaqortoq,3420846 found! Appending stats\n",
      "tsihombe not found! NaN\n",
      "carballo,3126369 found! Appending stats\n",
      "san carlos de bariloche,7647007 found! Appending stats\n",
      "joacaba,3459869 found! Appending stats\n",
      "hof,2902768 found! Appending stats\n",
      "guerrero negro,4021858 found! Appending stats\n",
      "sobolevo,525426 found! Appending stats\n",
      "eyl,60019 found! Appending stats\n",
      "tecoanapa,3516171 found! Appending stats\n",
      "bulls,2192828 found! Appending stats\n",
      "astara,148442 found! Appending stats\n",
      "sola,2134814 found! Appending stats\n",
      "jiuquan,1279945 found! Appending stats\n",
      "avera,4231997 found! Appending stats\n",
      "vestmannaeyjar,3412093 found! Appending stats\n",
      "kununurra,2068110 found! Appending stats\n",
      "fram,3438106 found! Appending stats\n",
      "richards bay,962367 found! Appending stats\n",
      "turukhansk,1488903 found! Appending stats\n",
      "henties bay,3356832 found! Appending stats\n",
      "lata,2738381 found! Appending stats\n",
      "olinda,3393536 found! Appending stats\n",
      "lancaster,5197085 found! Appending stats\n",
      "naryan-mar,523392 found! Appending stats\n",
      "warqla not found! NaN\n",
      "tairua,2182010 found! Appending stats\n",
      "wilmington,4499379 found! Appending stats\n",
      "westport,4845585 found! Appending stats\n",
      "lukulu,909488 found! Appending stats\n",
      "gualeguaychu,3433658 found! Appending stats\n",
      "christchurch,2192362 found! Appending stats\n",
      "le moule,3578967 found! Appending stats\n",
      "kindu,212902 found! Appending stats\n",
      "pemangkat,1631637 found! Appending stats\n",
      "lolua not found! NaN\n",
      "khilok,2022463 found! Appending stats\n",
      "lufkin,4708308 found! Appending stats\n",
      "rorvik,3141310 found! Appending stats\n",
      "lai,2429296 found! Appending stats\n",
      "khani,610864 found! Appending stats\n",
      "turbat,1163054 found! Appending stats\n",
      "gurgan not found! NaN\n",
      "gorno-chuyskiy not found! NaN\n",
      "bardiyah,80509 found! Appending stats\n",
      "ostrovnoy,556268 found! Appending stats\n",
      "tura,1254046 found! Appending stats\n",
      "sentyabrskiy not found! NaN\n",
      "sabzevar,118063 found! Appending stats\n",
      "baghdad,98182 found! Appending stats\n",
      "palmas bellas,3703523 found! Appending stats\n",
      "umm kaddadah,364933 found! Appending stats\n",
      "mahon,2514301 found! Appending stats\n",
      "cheremukhovo,569295 found! Appending stats\n",
      "ugoofaaru,1337619 found! Appending stats\n",
      "taian,1793724 found! Appending stats\n",
      "belmonte,3470137 found! Appending stats\n",
      "si racha,1606250 found! Appending stats\n",
      "moose factory,6078372 found! Appending stats\n",
      "sitka,5557293 found! Appending stats\n",
      "tremedal,3446198 found! Appending stats\n",
      "berlevag,780687 found! Appending stats\n",
      "palmer,4946620 found! Appending stats\n",
      "emirdag,315621 found! Appending stats\n",
      "novyy buyan,517218 found! Appending stats\n",
      "victor harbor,2059470 found! Appending stats\n",
      "artyk not found! NaN\n",
      "namibe,3347019 found! Appending stats\n",
      "sur,286245 found! Appending stats\n",
      "sioux lookout,6148373 found! Appending stats\n",
      "vostok,2013279 found! Appending stats\n",
      "tasgaon,1254858 found! Appending stats\n",
      "carnarvon,2074865 found! Appending stats\n",
      "bakhtiyarpur,1277684 found! Appending stats\n",
      "mayo,4362001 found! Appending stats\n",
      "mponela,926087 found! Appending stats\n",
      "lovec not found! NaN\n",
      "bambous virieux,1106677 found! Appending stats\n",
      "maceio,3395981 found! Appending stats\n",
      "abha,110690 found! Appending stats\n",
      "yershov,467120 found! Appending stats\n",
      "pangai,4032369 found! Appending stats\n",
      "aykhal,2027296 found! Appending stats\n",
      "mecca,104515 found! Appending stats\n",
      "caribou,4960140 found! Appending stats\n",
      "bowen,2174444 found! Appending stats\n",
      "hihifo not found! NaN\n",
      "banfora,2362909 found! Appending stats\n",
      "teya,1489656 found! Appending stats\n",
      "cervo,3125287 found! Appending stats\n",
      "vanavara,2013727 found! Appending stats\n",
      "guerrero,3527213 found! Appending stats\n",
      "koutsouras,261814 found! Appending stats\n",
      "athabasca,5887916 found! Appending stats\n",
      "aranda de duero,3129877 found! Appending stats\n",
      "khakhea,933649 found! Appending stats\n",
      "galgani not found! NaN\n",
      "alta,847633 found! Appending stats\n",
      "charters towers,2171722 found! Appending stats\n",
      "arganil,2742757 found! Appending stats\n",
      "road town,3577430 found! Appending stats\n",
      "launceston,2160517 found! Appending stats\n",
      "the valley,3573374 found! Appending stats\n",
      "tadine,2138285 found! Appending stats\n"
     ]
    },
    {
     "name": "stdout",
     "output_type": "stream",
     "text": [
      "galbshtadt,1497899 found! Appending stats\n",
      "isangel,2136825 found! Appending stats\n",
      "nichinan,1855476 found! Appending stats\n",
      "zhaotong,1784841 found! Appending stats\n",
      "fonte boa,6319315 found! Appending stats\n",
      "sahrak not found! NaN\n",
      "yeppoon,2142316 found! Appending stats\n",
      "langenburg,2881128 found! Appending stats\n",
      "itupiranga,3397851 found! Appending stats\n",
      "xuanwu,1799962 found! Appending stats\n",
      "ambalavao,1083968 found! Appending stats\n",
      "yumen,1528998 found! Appending stats\n",
      "volot,472328 found! Appending stats\n",
      "camacha,2270385 found! Appending stats\n",
      "taoudenni,2450173 found! Appending stats\n",
      "tumannyy not found! NaN\n",
      "saleaula not found! NaN\n",
      "meulaboh,1214488 found! Appending stats\n",
      "vondrozo,1053507 found! Appending stats\n",
      "vallenar,3868633 found! Appending stats\n",
      "minsk,625144 found! Appending stats\n",
      "pacific grove,5380437 found! Appending stats\n",
      "asyut,359783 found! Appending stats\n",
      "rio gallegos,3838859 found! Appending stats\n",
      "santa rosa,1687894 found! Appending stats\n",
      "asau,686090 found! Appending stats\n",
      "lashio,1314759 found! Appending stats\n",
      "bacolod,1729564 found! Appending stats\n",
      "yankton,5233053 found! Appending stats\n",
      "yangjiang,1806408 found! Appending stats\n",
      "narsaq,3421719 found! Appending stats\n",
      "hemnesberget,3152995 found! Appending stats\n",
      "neiafu,4032420 found! Appending stats\n",
      "atka not found! NaN\n",
      "panama city,3703443 found! Appending stats\n",
      "kanniyakumari,1268008 found! Appending stats\n",
      "barra bonita,3470776 found! Appending stats\n",
      "mumford,2297810 found! Appending stats\n",
      "rafaela,3839479 found! Appending stats\n",
      "kuche not found! NaN\n",
      "doha,290030 found! Appending stats\n",
      "yerofey pavlovich,2012938 found! Appending stats\n",
      "dwarka,1272140 found! Appending stats\n",
      "calama,3897347 found! Appending stats\n",
      "krasnyy chikoy,2012349 found! Appending stats\n",
      "andevoranto not found! NaN\n",
      "puerto leguizamo,3671437 found! Appending stats\n",
      "hudesti,675941 found! Appending stats\n",
      "iramuco,4004331 found! Appending stats\n",
      "bac lieu,1591474 found! Appending stats\n",
      "puerto del rosario,2512186 found! Appending stats\n",
      "shenjiamen,1795632 found! Appending stats\n",
      "tokmak,691469 found! Appending stats\n",
      "orlik,1496073 found! Appending stats\n",
      "fukue,1863997 found! Appending stats\n",
      "katsuura,2112309 found! Appending stats\n",
      "varnamo,2664855 found! Appending stats\n",
      "rolla,4406282 found! Appending stats\n",
      "daru,2098329 found! Appending stats\n",
      "vaitupu not found! NaN\n",
      "ukiah,5404476 found! Appending stats\n",
      "mutare,884979 found! Appending stats\n",
      "pemba,1028918 found! Appending stats\n",
      "aporawan not found! NaN\n",
      "basco,1726449 found! Appending stats\n",
      "matara,1235846 found! Appending stats\n",
      "nome,5870133 found! Appending stats\n",
      "mizan teferi,330534 found! Appending stats\n",
      "zanjan,111453 found! Appending stats\n",
      "korla,1529376 found! Appending stats\n",
      "fomboni,921889 found! Appending stats\n",
      "havre-saint-pierre,5972291 found! Appending stats\n",
      "newport,2641598 found! Appending stats\n",
      "palabuhanratu not found! NaN\n",
      "shushenskoye,1491953 found! Appending stats\n",
      "nacunday not found! NaN\n",
      "straumen,3135728 found! Appending stats\n",
      "amga,2027786 found! Appending stats\n",
      "auki,2109701 found! Appending stats\n",
      "trat,1605277 found! Appending stats\n",
      "samfya,899274 found! Appending stats\n",
      "rio grande,3451138 found! Appending stats\n",
      "campbellton,6696258 found! Appending stats\n",
      "businga,217637 found! Appending stats\n",
      "lure,2997075 found! Appending stats\n",
      "miles city,5666176 found! Appending stats\n",
      "biloela,2175819 found! Appending stats\n",
      "paita,3694112 found! Appending stats\n",
      "abeche,245785 found! Appending stats\n",
      "srednekolymsk,2121025 found! Appending stats\n",
      "geraldton,2070998 found! Appending stats\n",
      "iqaluit,5983720 found! Appending stats\n",
      "erzin,296852 found! Appending stats\n",
      "ngukurr not found! NaN\n",
      "kaseda,1859964 found! Appending stats\n",
      "rock sound,3571592 found! Appending stats\n",
      "constitucion,3893726 found! Appending stats\n",
      "bria,239899 found! Appending stats\n",
      "jurm,1139085 found! Appending stats\n",
      "yele,2331715 found! Appending stats\n",
      "letka,535639 found! Appending stats\n",
      "dingle,1714733 found! Appending stats\n",
      "marsh harbour,3571913 found! Appending stats\n",
      "port-gentil,2396518 found! Appending stats\n",
      "kabakovo,554692 found! Appending stats\n",
      "krasnoselkup,1502073 found! Appending stats\n",
      "wausau,5278120 found! Appending stats\n",
      "los llanos de aridane,2514651 found! Appending stats\n",
      "aberfeldy,2657820 found! Appending stats\n",
      "lisakovsk,1521315 found! Appending stats\n",
      "honningsvag,779554 found! Appending stats\n",
      "sadon,525990 found! Appending stats\n",
      "gizo,2108857 found! Appending stats\n",
      "botro,2290985 found! Appending stats\n",
      "dallas,4684904 found! Appending stats\n",
      "tanda,1255024 found! Appending stats\n",
      "togur,1489499 found! Appending stats\n",
      "karaul not found! NaN\n",
      "puerto baquerizo moreno,3652758 found! Appending stats\n",
      "inhambane,1045114 found! Appending stats\n",
      "high level,5975004 found! Appending stats\n",
      "sirjan,114259 found! Appending stats\n",
      "kenora,5991056 found! Appending stats\n",
      "falealupo not found! NaN\n",
      "batagay-alyta,2027042 found! Appending stats\n",
      "srikakulam,1255647 found! Appending stats\n",
      "olafsvik,3414079 found! Appending stats\n",
      "roma,5134295 found! Appending stats\n",
      "manakara,1061605 found! Appending stats\n",
      "staraya mayna,489135 found! Appending stats\n",
      "mayuge,229292 found! Appending stats\n",
      "nautla,3522788 found! Appending stats\n",
      "sibolga,1213855 found! Appending stats\n",
      "san luis,3837056 found! Appending stats\n",
      "navirai,3456368 found! Appending stats\n",
      "kushmurun,1519924 found! Appending stats\n",
      "kenai,5866063 found! Appending stats\n",
      "fort morgan,5577158 found! Appending stats\n",
      "lingyuan,2036075 found! Appending stats\n",
      "general pico,3855075 found! Appending stats\n",
      "kiunga,2093846 found! Appending stats\n",
      "waddan,2209055 found! Appending stats\n",
      "kamenskoye not found! NaN\n",
      "gorahun,2408683 found! Appending stats\n",
      "boyolangu,1648082 found! Appending stats\n",
      "tocopilla,3869716 found! Appending stats\n",
      "ostersund,2685750 found! Appending stats\n",
      "necochea,3430443 found! Appending stats\n",
      "areosa,2742765 found! Appending stats\n",
      "biu,2346995 found! Appending stats\n",
      "abu samrah,172515 found! Appending stats\n",
      "college,5859699 found! Appending stats\n",
      "maniitsoq,3421982 found! Appending stats\n",
      "saint-georges,3579925 found! Appending stats\n",
      "tazmalt,2477537 found! Appending stats\n",
      "kavieng,2094342 found! Appending stats\n",
      "yadrin,469809 found! Appending stats\n",
      "morwell,2156825 found! Appending stats\n",
      "yenagoa,2318123 found! Appending stats\n",
      "dalvik,2632287 found! Appending stats\n",
      "salalah,286621 found! Appending stats\n",
      "ossora,2122389 found! Appending stats\n",
      "rossosh,501215 found! Appending stats\n",
      "ahipara,2194098 found! Appending stats\n",
      "jaipur,1269515 found! Appending stats\n",
      "miraflores,3761194 found! Appending stats\n",
      "batemans bay,2176639 found! Appending stats\n",
      "trelleborg,2667402 found! Appending stats\n",
      "emba,609924 found! Appending stats\n",
      "kabinda,215527 found! Appending stats\n",
      "tonder,2611497 found! Appending stats\n",
      "shache,1280037 found! Appending stats\n",
      "belaya gora,2126785 found! Appending stats\n",
      "poum,2138555 found! Appending stats\n",
      "kunigal,1265591 found! Appending stats\n",
      "ardakan,143073 found! Appending stats\n",
      "gao,2457161 found! Appending stats\n",
      "garowe,58933 found! Appending stats\n",
      "lugovoy,1521293 found! Appending stats\n",
      "challans,3027513 found! Appending stats\n",
      "matagami,6067747 found! Appending stats\n",
      "pasir gudang,1880252 found! Appending stats\n",
      "ucluelet,6171633 found! Appending stats\n",
      "juneau,5554072 found! Appending stats\n",
      "huangpi,1807308 found! Appending stats\n",
      "jilin,2036500 found! Appending stats\n",
      "fecamp,3018794 found! Appending stats\n",
      "commerce,5338929 found! Appending stats\n",
      "conceicao da barra,3465769 found! Appending stats\n",
      "riberalta,3906466 found! Appending stats\n",
      "honiara,2108502 found! Appending stats\n",
      "manosque,2996180 found! Appending stats\n",
      "hualmay,3939761 found! Appending stats\n",
      "east london,1006984 found! Appending stats\n",
      "eisenberg,2931521 found! Appending stats\n",
      "bad waldsee,2953320 found! Appending stats\n",
      "erdokertes,3053253 found! Appending stats\n",
      "luderitz,3355672 found! Appending stats\n",
      "potrero del llano,3521207 found! Appending stats\n",
      "beloha,1067565 found! Appending stats\n",
      "sorvag not found! NaN\n"
     ]
    }
   ],
   "source": [
    "#set lists\n",
    "city_name = []\n",
    "city_id = []\n",
    "latitude = []\n",
    "longitude = []\n",
    "temperature = []\n",
    "humidity = []\n",
    "cloudiness = []\n",
    "wind_speed = []\n",
    "\n",
    "#loop through cities\n",
    "for city in cities:\n",
    "    \n",
    "    #query\n",
    "    city_data = requests.get(weather_url + city).json()\n",
    "    \n",
    "    try:\n",
    "        city_name.append(city_data['name'])\n",
    "        city_id.append(city_data[\"id\"])\n",
    "        latitude.append(city_data['coord']['lat'])\n",
    "        longitude.append(city_data['coord']['lon'])\n",
    "        temperature.append(city_data['main']['temp'])\n",
    "        humidity.append(city_data['main']['humidity'])\n",
    "        cloudiness.append(city_data['clouds']['all'])\n",
    "        wind_speed.append(city_data['wind']['speed'])\n",
    "        \n",
    "        print(f\"{city},{city_data['id']} found! Appending stats\")\n",
    "        \n",
    "    except:\n",
    "        #append null\n",
    "        print(f\"{city} not found! NaN\")\n",
    "        pass"
   ]
  },
  {
   "cell_type": "code",
   "execution_count": 7,
   "metadata": {
    "scrolled": true
   },
   "outputs": [
    {
     "data": {
      "text/html": [
       "<div>\n",
       "<style scoped>\n",
       "    .dataframe tbody tr th:only-of-type {\n",
       "        vertical-align: middle;\n",
       "    }\n",
       "\n",
       "    .dataframe tbody tr th {\n",
       "        vertical-align: top;\n",
       "    }\n",
       "\n",
       "    .dataframe thead th {\n",
       "        text-align: right;\n",
       "    }\n",
       "</style>\n",
       "<table border=\"1\" class=\"dataframe\">\n",
       "  <thead>\n",
       "    <tr style=\"text-align: right;\">\n",
       "      <th></th>\n",
       "      <th>City</th>\n",
       "      <th>City ID</th>\n",
       "      <th>Latitude</th>\n",
       "      <th>Longitude</th>\n",
       "      <th>temperature</th>\n",
       "      <th>humidity</th>\n",
       "      <th>cloudiness</th>\n",
       "      <th>wind speed</th>\n",
       "    </tr>\n",
       "  </thead>\n",
       "  <tbody>\n",
       "    <tr>\n",
       "      <th>0</th>\n",
       "      <td>Lompoc</td>\n",
       "      <td>5367788</td>\n",
       "      <td>34.6391</td>\n",
       "      <td>-120.4579</td>\n",
       "      <td>291.13</td>\n",
       "      <td>67</td>\n",
       "      <td>1</td>\n",
       "      <td>4.63</td>\n",
       "    </tr>\n",
       "    <tr>\n",
       "      <th>1</th>\n",
       "      <td>Khatanga</td>\n",
       "      <td>2022572</td>\n",
       "      <td>71.9667</td>\n",
       "      <td>102.5000</td>\n",
       "      <td>237.80</td>\n",
       "      <td>83</td>\n",
       "      <td>100</td>\n",
       "      <td>6.09</td>\n",
       "    </tr>\n",
       "    <tr>\n",
       "      <th>2</th>\n",
       "      <td>San Patricio</td>\n",
       "      <td>4726521</td>\n",
       "      <td>28.0170</td>\n",
       "      <td>-97.5169</td>\n",
       "      <td>283.48</td>\n",
       "      <td>76</td>\n",
       "      <td>75</td>\n",
       "      <td>4.12</td>\n",
       "    </tr>\n",
       "    <tr>\n",
       "      <th>3</th>\n",
       "      <td>Chokurdakh</td>\n",
       "      <td>2126123</td>\n",
       "      <td>70.6333</td>\n",
       "      <td>147.9167</td>\n",
       "      <td>238.00</td>\n",
       "      <td>84</td>\n",
       "      <td>63</td>\n",
       "      <td>2.53</td>\n",
       "    </tr>\n",
       "    <tr>\n",
       "      <th>4</th>\n",
       "      <td>Ilulissat</td>\n",
       "      <td>3423146</td>\n",
       "      <td>69.2167</td>\n",
       "      <td>-51.1000</td>\n",
       "      <td>269.15</td>\n",
       "      <td>80</td>\n",
       "      <td>90</td>\n",
       "      <td>6.69</td>\n",
       "    </tr>\n",
       "    <tr>\n",
       "      <th>...</th>\n",
       "      <td>...</td>\n",
       "      <td>...</td>\n",
       "      <td>...</td>\n",
       "      <td>...</td>\n",
       "      <td>...</td>\n",
       "      <td>...</td>\n",
       "      <td>...</td>\n",
       "      <td>...</td>\n",
       "    </tr>\n",
       "    <tr>\n",
       "      <th>575</th>\n",
       "      <td>Bad Waldsee</td>\n",
       "      <td>2953320</td>\n",
       "      <td>47.9167</td>\n",
       "      <td>9.7667</td>\n",
       "      <td>274.72</td>\n",
       "      <td>93</td>\n",
       "      <td>90</td>\n",
       "      <td>3.09</td>\n",
       "    </tr>\n",
       "    <tr>\n",
       "      <th>576</th>\n",
       "      <td>Erdőkertes</td>\n",
       "      <td>3053253</td>\n",
       "      <td>47.6726</td>\n",
       "      <td>19.3079</td>\n",
       "      <td>273.56</td>\n",
       "      <td>80</td>\n",
       "      <td>0</td>\n",
       "      <td>3.60</td>\n",
       "    </tr>\n",
       "    <tr>\n",
       "      <th>577</th>\n",
       "      <td>Lüderitz</td>\n",
       "      <td>3355672</td>\n",
       "      <td>-26.6481</td>\n",
       "      <td>15.1594</td>\n",
       "      <td>291.27</td>\n",
       "      <td>89</td>\n",
       "      <td>18</td>\n",
       "      <td>2.93</td>\n",
       "    </tr>\n",
       "    <tr>\n",
       "      <th>578</th>\n",
       "      <td>Potrero del Llano</td>\n",
       "      <td>3521207</td>\n",
       "      <td>21.0500</td>\n",
       "      <td>-97.6833</td>\n",
       "      <td>291.15</td>\n",
       "      <td>72</td>\n",
       "      <td>90</td>\n",
       "      <td>3.09</td>\n",
       "    </tr>\n",
       "    <tr>\n",
       "      <th>579</th>\n",
       "      <td>Beloha</td>\n",
       "      <td>1067565</td>\n",
       "      <td>-25.1667</td>\n",
       "      <td>45.0500</td>\n",
       "      <td>296.43</td>\n",
       "      <td>95</td>\n",
       "      <td>35</td>\n",
       "      <td>3.17</td>\n",
       "    </tr>\n",
       "  </tbody>\n",
       "</table>\n",
       "<p>580 rows × 8 columns</p>\n",
       "</div>"
      ],
      "text/plain": [
       "                  City  City ID  Latitude  Longitude  temperature  humidity  \\\n",
       "0               Lompoc  5367788   34.6391  -120.4579       291.13        67   \n",
       "1             Khatanga  2022572   71.9667   102.5000       237.80        83   \n",
       "2         San Patricio  4726521   28.0170   -97.5169       283.48        76   \n",
       "3           Chokurdakh  2126123   70.6333   147.9167       238.00        84   \n",
       "4            Ilulissat  3423146   69.2167   -51.1000       269.15        80   \n",
       "..                 ...      ...       ...        ...          ...       ...   \n",
       "575        Bad Waldsee  2953320   47.9167     9.7667       274.72        93   \n",
       "576         Erdőkertes  3053253   47.6726    19.3079       273.56        80   \n",
       "577           Lüderitz  3355672  -26.6481    15.1594       291.27        89   \n",
       "578  Potrero del Llano  3521207   21.0500   -97.6833       291.15        72   \n",
       "579             Beloha  1067565  -25.1667    45.0500       296.43        95   \n",
       "\n",
       "     cloudiness  wind speed  \n",
       "0             1        4.63  \n",
       "1           100        6.09  \n",
       "2            75        4.12  \n",
       "3            63        2.53  \n",
       "4            90        6.69  \n",
       "..          ...         ...  \n",
       "575          90        3.09  \n",
       "576           0        3.60  \n",
       "577          18        2.93  \n",
       "578          90        3.09  \n",
       "579          35        3.17  \n",
       "\n",
       "[580 rows x 8 columns]"
      ]
     },
     "execution_count": 7,
     "metadata": {},
     "output_type": "execute_result"
    }
   ],
   "source": [
    "#df\n",
    "weather_data = pd.DataFrame({\"City\" : pd.Series(city_name),\n",
    "            \"City ID\" : pd.Series(city_id),\n",
    "            \"Latitude\" : pd.Series(latitude),\n",
    "            \"Longitude\" : pd.Series(longitude),\n",
    "            \"temperature\" : pd.Series(temperature),\n",
    "            \"humidity\" : pd.Series(humidity),\n",
    "            \"cloudiness\" : pd.Series(cloudiness),\n",
    "            \"wind speed\" : pd.Series(wind_speed)\n",
    "            })\n",
    "\n",
    "weather_data \n",
    "        \n"
   ]
  },
  {
   "cell_type": "markdown",
   "metadata": {},
   "source": [
    "### Convert Raw Data to DataFrame\n",
    "* Export the city data into a .csv.\n",
    "* Display the DataFrame"
   ]
  },
  {
   "cell_type": "code",
   "execution_count": null,
   "metadata": {},
   "outputs": [],
   "source": []
  },
  {
   "cell_type": "code",
   "execution_count": 10,
   "metadata": {},
   "outputs": [
    {
     "data": {
      "text/html": [
       "<div>\n",
       "<style scoped>\n",
       "    .dataframe tbody tr th:only-of-type {\n",
       "        vertical-align: middle;\n",
       "    }\n",
       "\n",
       "    .dataframe tbody tr th {\n",
       "        vertical-align: top;\n",
       "    }\n",
       "\n",
       "    .dataframe thead th {\n",
       "        text-align: right;\n",
       "    }\n",
       "</style>\n",
       "<table border=\"1\" class=\"dataframe\">\n",
       "  <thead>\n",
       "    <tr style=\"text-align: right;\">\n",
       "      <th></th>\n",
       "      <th>City</th>\n",
       "      <th>City ID</th>\n",
       "      <th>Latitude</th>\n",
       "      <th>Longitude</th>\n",
       "      <th>temperature</th>\n",
       "      <th>humidity</th>\n",
       "      <th>cloudiness</th>\n",
       "      <th>wind speed</th>\n",
       "    </tr>\n",
       "  </thead>\n",
       "  <tbody>\n",
       "    <tr>\n",
       "      <th>0</th>\n",
       "      <td>Lompoc</td>\n",
       "      <td>5367788</td>\n",
       "      <td>34.6391</td>\n",
       "      <td>-120.4579</td>\n",
       "      <td>291.13</td>\n",
       "      <td>67</td>\n",
       "      <td>1</td>\n",
       "      <td>4.63</td>\n",
       "    </tr>\n",
       "    <tr>\n",
       "      <th>1</th>\n",
       "      <td>Khatanga</td>\n",
       "      <td>2022572</td>\n",
       "      <td>71.9667</td>\n",
       "      <td>102.5000</td>\n",
       "      <td>237.80</td>\n",
       "      <td>83</td>\n",
       "      <td>100</td>\n",
       "      <td>6.09</td>\n",
       "    </tr>\n",
       "    <tr>\n",
       "      <th>2</th>\n",
       "      <td>San Patricio</td>\n",
       "      <td>4726521</td>\n",
       "      <td>28.0170</td>\n",
       "      <td>-97.5169</td>\n",
       "      <td>283.48</td>\n",
       "      <td>76</td>\n",
       "      <td>75</td>\n",
       "      <td>4.12</td>\n",
       "    </tr>\n",
       "    <tr>\n",
       "      <th>3</th>\n",
       "      <td>Chokurdakh</td>\n",
       "      <td>2126123</td>\n",
       "      <td>70.6333</td>\n",
       "      <td>147.9167</td>\n",
       "      <td>238.00</td>\n",
       "      <td>84</td>\n",
       "      <td>63</td>\n",
       "      <td>2.53</td>\n",
       "    </tr>\n",
       "    <tr>\n",
       "      <th>4</th>\n",
       "      <td>Ilulissat</td>\n",
       "      <td>3423146</td>\n",
       "      <td>69.2167</td>\n",
       "      <td>-51.1000</td>\n",
       "      <td>269.15</td>\n",
       "      <td>80</td>\n",
       "      <td>90</td>\n",
       "      <td>6.69</td>\n",
       "    </tr>\n",
       "  </tbody>\n",
       "</table>\n",
       "</div>"
      ],
      "text/plain": [
       "           City  City ID  Latitude  Longitude  temperature  humidity  \\\n",
       "0        Lompoc  5367788   34.6391  -120.4579       291.13        67   \n",
       "1      Khatanga  2022572   71.9667   102.5000       237.80        83   \n",
       "2  San Patricio  4726521   28.0170   -97.5169       283.48        76   \n",
       "3    Chokurdakh  2126123   70.6333   147.9167       238.00        84   \n",
       "4     Ilulissat  3423146   69.2167   -51.1000       269.15        80   \n",
       "\n",
       "   cloudiness  wind speed  \n",
       "0           1        4.63  \n",
       "1         100        6.09  \n",
       "2          75        4.12  \n",
       "3          63        2.53  \n",
       "4          90        6.69  "
      ]
     },
     "execution_count": 10,
     "metadata": {},
     "output_type": "execute_result"
    }
   ],
   "source": [
    "# Save the updated dataframe as a csv\n",
    "weather_data.to_csv(\"Resources/city_data.csv\", encoding=\"utf-8\", index=False)\n",
    "weather_data.head()"
   ]
  },
  {
   "cell_type": "markdown",
   "metadata": {},
   "source": [
    "## Inspect the data and remove the cities where the humidity > 100%.\n",
    "----\n",
    "Skip this step if there are no cities that have humidity > 100%. "
   ]
  },
  {
   "cell_type": "code",
   "execution_count": 11,
   "metadata": {},
   "outputs": [
    {
     "data": {
      "text/html": [
       "<div>\n",
       "<style scoped>\n",
       "    .dataframe tbody tr th:only-of-type {\n",
       "        vertical-align: middle;\n",
       "    }\n",
       "\n",
       "    .dataframe tbody tr th {\n",
       "        vertical-align: top;\n",
       "    }\n",
       "\n",
       "    .dataframe thead th {\n",
       "        text-align: right;\n",
       "    }\n",
       "</style>\n",
       "<table border=\"1\" class=\"dataframe\">\n",
       "  <thead>\n",
       "    <tr style=\"text-align: right;\">\n",
       "      <th></th>\n",
       "      <th>City</th>\n",
       "      <th>City ID</th>\n",
       "      <th>Latitude</th>\n",
       "      <th>Longitude</th>\n",
       "      <th>temperature</th>\n",
       "      <th>humidity</th>\n",
       "      <th>cloudiness</th>\n",
       "      <th>wind speed</th>\n",
       "    </tr>\n",
       "  </thead>\n",
       "  <tbody>\n",
       "    <tr>\n",
       "      <th>0</th>\n",
       "      <td>Lompoc</td>\n",
       "      <td>5367788</td>\n",
       "      <td>34.6391</td>\n",
       "      <td>-120.4579</td>\n",
       "      <td>291.13</td>\n",
       "      <td>67</td>\n",
       "      <td>1</td>\n",
       "      <td>4.63</td>\n",
       "    </tr>\n",
       "    <tr>\n",
       "      <th>1</th>\n",
       "      <td>Khatanga</td>\n",
       "      <td>2022572</td>\n",
       "      <td>71.9667</td>\n",
       "      <td>102.5000</td>\n",
       "      <td>237.80</td>\n",
       "      <td>83</td>\n",
       "      <td>100</td>\n",
       "      <td>6.09</td>\n",
       "    </tr>\n",
       "    <tr>\n",
       "      <th>2</th>\n",
       "      <td>San Patricio</td>\n",
       "      <td>4726521</td>\n",
       "      <td>28.0170</td>\n",
       "      <td>-97.5169</td>\n",
       "      <td>283.48</td>\n",
       "      <td>76</td>\n",
       "      <td>75</td>\n",
       "      <td>4.12</td>\n",
       "    </tr>\n",
       "    <tr>\n",
       "      <th>3</th>\n",
       "      <td>Chokurdakh</td>\n",
       "      <td>2126123</td>\n",
       "      <td>70.6333</td>\n",
       "      <td>147.9167</td>\n",
       "      <td>238.00</td>\n",
       "      <td>84</td>\n",
       "      <td>63</td>\n",
       "      <td>2.53</td>\n",
       "    </tr>\n",
       "    <tr>\n",
       "      <th>4</th>\n",
       "      <td>Ilulissat</td>\n",
       "      <td>3423146</td>\n",
       "      <td>69.2167</td>\n",
       "      <td>-51.1000</td>\n",
       "      <td>269.15</td>\n",
       "      <td>80</td>\n",
       "      <td>90</td>\n",
       "      <td>6.69</td>\n",
       "    </tr>\n",
       "    <tr>\n",
       "      <th>...</th>\n",
       "      <td>...</td>\n",
       "      <td>...</td>\n",
       "      <td>...</td>\n",
       "      <td>...</td>\n",
       "      <td>...</td>\n",
       "      <td>...</td>\n",
       "      <td>...</td>\n",
       "      <td>...</td>\n",
       "    </tr>\n",
       "    <tr>\n",
       "      <th>575</th>\n",
       "      <td>Bad Waldsee</td>\n",
       "      <td>2953320</td>\n",
       "      <td>47.9167</td>\n",
       "      <td>9.7667</td>\n",
       "      <td>274.72</td>\n",
       "      <td>93</td>\n",
       "      <td>90</td>\n",
       "      <td>3.09</td>\n",
       "    </tr>\n",
       "    <tr>\n",
       "      <th>576</th>\n",
       "      <td>Erdőkertes</td>\n",
       "      <td>3053253</td>\n",
       "      <td>47.6726</td>\n",
       "      <td>19.3079</td>\n",
       "      <td>273.56</td>\n",
       "      <td>80</td>\n",
       "      <td>0</td>\n",
       "      <td>3.60</td>\n",
       "    </tr>\n",
       "    <tr>\n",
       "      <th>577</th>\n",
       "      <td>Lüderitz</td>\n",
       "      <td>3355672</td>\n",
       "      <td>-26.6481</td>\n",
       "      <td>15.1594</td>\n",
       "      <td>291.27</td>\n",
       "      <td>89</td>\n",
       "      <td>18</td>\n",
       "      <td>2.93</td>\n",
       "    </tr>\n",
       "    <tr>\n",
       "      <th>578</th>\n",
       "      <td>Potrero del Llano</td>\n",
       "      <td>3521207</td>\n",
       "      <td>21.0500</td>\n",
       "      <td>-97.6833</td>\n",
       "      <td>291.15</td>\n",
       "      <td>72</td>\n",
       "      <td>90</td>\n",
       "      <td>3.09</td>\n",
       "    </tr>\n",
       "    <tr>\n",
       "      <th>579</th>\n",
       "      <td>Beloha</td>\n",
       "      <td>1067565</td>\n",
       "      <td>-25.1667</td>\n",
       "      <td>45.0500</td>\n",
       "      <td>296.43</td>\n",
       "      <td>95</td>\n",
       "      <td>35</td>\n",
       "      <td>3.17</td>\n",
       "    </tr>\n",
       "  </tbody>\n",
       "</table>\n",
       "<p>563 rows × 8 columns</p>\n",
       "</div>"
      ],
      "text/plain": [
       "                  City  City ID  Latitude  Longitude  temperature  humidity  \\\n",
       "0               Lompoc  5367788   34.6391  -120.4579       291.13        67   \n",
       "1             Khatanga  2022572   71.9667   102.5000       237.80        83   \n",
       "2         San Patricio  4726521   28.0170   -97.5169       283.48        76   \n",
       "3           Chokurdakh  2126123   70.6333   147.9167       238.00        84   \n",
       "4            Ilulissat  3423146   69.2167   -51.1000       269.15        80   \n",
       "..                 ...      ...       ...        ...          ...       ...   \n",
       "575        Bad Waldsee  2953320   47.9167     9.7667       274.72        93   \n",
       "576         Erdőkertes  3053253   47.6726    19.3079       273.56        80   \n",
       "577           Lüderitz  3355672  -26.6481    15.1594       291.27        89   \n",
       "578  Potrero del Llano  3521207   21.0500   -97.6833       291.15        72   \n",
       "579             Beloha  1067565  -25.1667    45.0500       296.43        95   \n",
       "\n",
       "     cloudiness  wind speed  \n",
       "0             1        4.63  \n",
       "1           100        6.09  \n",
       "2            75        4.12  \n",
       "3            63        2.53  \n",
       "4            90        6.69  \n",
       "..          ...         ...  \n",
       "575          90        3.09  \n",
       "576           0        3.60  \n",
       "577          18        2.93  \n",
       "578          90        3.09  \n",
       "579          35        3.17  \n",
       "\n",
       "[563 rows x 8 columns]"
      ]
     },
     "execution_count": 11,
     "metadata": {},
     "output_type": "execute_result"
    }
   ],
   "source": [
    "humidity_100 = weather_data.loc[weather_data[\"humidity\"] <100]\n",
    "humidity_100"
   ]
  },
  {
   "cell_type": "code",
   "execution_count": 12,
   "metadata": {},
   "outputs": [],
   "source": [
    "#  Get the indices of cities that have humidity over 100%.\n",
    "#index = humidity_100.index\n",
    "#index"
   ]
  },
  {
   "cell_type": "code",
   "execution_count": 13,
   "metadata": {},
   "outputs": [],
   "source": [
    "# Make a new DataFrame equal to the city data to drop all humidity outliers by index.\n",
    "# Passing \"inplace=False\" will make a copy of the city_data DataFrame, which we call \"clean_city_data\".\n",
    "\n",
    "#clean_city_data = weather_data.dropna[(weather_data[\"humidity\"] != )]"
   ]
  },
  {
   "cell_type": "code",
   "execution_count": 14,
   "metadata": {
    "scrolled": true
   },
   "outputs": [
    {
     "data": {
      "text/plain": [
       "City            object\n",
       "City ID          int64\n",
       "Latitude       float64\n",
       "Longitude      float64\n",
       "temperature    float64\n",
       "humidity         int64\n",
       "cloudiness       int64\n",
       "wind speed     float64\n",
       "dtype: object"
      ]
     },
     "execution_count": 14,
     "metadata": {},
     "output_type": "execute_result"
    }
   ],
   "source": [
    "humidity_100.dtypes"
   ]
  },
  {
   "cell_type": "markdown",
   "metadata": {},
   "source": [
    "## Plotting the Data\n",
    "* Use proper labeling of the plots using plot titles (including date of analysis) and axes labels.\n",
    "* Save the plotted figures as .pngs."
   ]
  },
  {
   "cell_type": "markdown",
   "metadata": {},
   "source": [
    "## Latitude vs. Temperature Plot"
   ]
  },
  {
   "cell_type": "code",
   "execution_count": 15,
   "metadata": {
    "scrolled": true
   },
   "outputs": [
    {
     "data": {
      "image/png": "[encoded data removed]",
      "text/plain": [
       "<Figure size 576x576 with 1 Axes>"
      ]
     },
     "metadata": {
      "needs_background": "light"
     },
     "output_type": "display_data"
    }
   ],
   "source": [
    "humidity_100.plot(kind=\"scatter\", x=\"Latitude\", y=\"temperature\", grid=True, figsize=(8, 8),\n",
    "                  title=\"Latitude vs Temperature\")\n",
    "\n",
    "plt.savefig(\"Resources/LatvsTemp.png\")"
   ]
  },
  {
   "cell_type": "markdown",
   "metadata": {},
   "source": [
    "## Latitude vs. Humidity Plot"
   ]
  },
  {
   "cell_type": "code",
   "execution_count": 16,
   "metadata": {},
   "outputs": [
    {
     "data": {
      "image/png": "[encoded data removed]",
      "text/plain": [
       "<Figure size 576x576 with 1 Axes>"
      ]
     },
     "metadata": {
      "needs_background": "light"
     },
     "output_type": "display_data"
    }
   ],
   "source": [
    "humidity_100.plot(kind=\"scatter\", x=\"Latitude\", y=\"humidity\", grid=True, figsize=(8, 8),\n",
    "                  title=\"Latitude vs Humidity\")\n",
    "\n",
    "plt.savefig(\"Resources/LatvsHumid.png\")"
   ]
  },
  {
   "cell_type": "markdown",
   "metadata": {},
   "source": [
    "## Latitude vs. Cloudiness Plot"
   ]
  },
  {
   "cell_type": "code",
   "execution_count": 17,
   "metadata": {},
   "outputs": [
    {
     "data": {
      "image/png": "[encoded data removed]",
      "text/plain": [
       "<Figure size 576x576 with 1 Axes>"
      ]
     },
     "metadata": {
      "needs_background": "light"
     },
     "output_type": "display_data"
    }
   ],
   "source": [
    "humidity_100.plot(kind=\"scatter\", x=\"Latitude\", y=\"cloudiness\", grid=True, figsize=(8, 8),\n",
    "                  title=\"Latitude vs Cloudiness\")\n",
    "\n",
    "plt.savefig(\"Resources/LatvsCloud.png\")"
   ]
  },
  {
   "cell_type": "markdown",
   "metadata": {},
   "source": [
    "## Latitude vs. Wind Speed Plot"
   ]
  },
  {
   "cell_type": "code",
   "execution_count": 18,
   "metadata": {},
   "outputs": [
    {
     "data": {
      "image/png": "[encoded data removed]",
      "text/plain": [
       "<Figure size 576x576 with 1 Axes>"
      ]
     },
     "metadata": {
      "needs_background": "light"
     },
     "output_type": "display_data"
    }
   ],
   "source": [
    "humidity_100.plot(kind=\"scatter\", x=\"Latitude\", y=\"wind speed\", grid=True, figsize=(8, 8),\n",
    "                  title=\"Latitude vs Wind Speed\")\n",
    "\n",
    "plt.savefig(\"Resources/LatvsWind.png\")"
   ]
  },
  {
   "cell_type": "code",
   "execution_count": null,
   "metadata": {},
   "outputs": [],
   "source": []
  },
  {
   "cell_type": "markdown",
   "metadata": {},
   "source": [
    "## Linear Regression"
   ]
  },
  {
   "cell_type": "code",
   "execution_count": 19,
   "metadata": {},
   "outputs": [],
   "source": [
    "north_hem = humidity_100.loc[humidity_100[\"Latitude\"] >= 0]\n",
    "south_hem = humidity_100.loc[humidity_100[\"Latitude\"] < 0]"
   ]
  },
  {
   "cell_type": "markdown",
   "metadata": {},
   "source": [
    "####  Northern Hemisphere - Max Temp vs. Latitude Linear Regression"
   ]
  },
  {
   "cell_type": "code",
   "execution_count": 20,
   "metadata": {},
   "outputs": [
    {
     "name": "stdout",
     "output_type": "stream",
     "text": [
      "The r-squared is: 0.7049966964807683\n"
     ]
    },
    {
     "data": {
      "image/png": "[encoded data removed]",
      "text/plain": [
       "<Figure size 432x288 with 1 Axes>"
      ]
     },
     "metadata": {
      "needs_background": "light"
     },
     "output_type": "display_data"
    },
    {
     "data": {
      "text/plain": [
       "<Figure size 432x288 with 0 Axes>"
      ]
     },
     "metadata": {},
     "output_type": "display_data"
    }
   ],
   "source": [
    "# Add the linear regression equation and line to plot\n",
    "x_values = north_hem['Latitude']\n",
    "y_values = north_hem['temperature']\n",
    "\n",
    "#all of these calculations are formulated by 'linregress'\n",
    "(slope, intercept, rvalue, pvalue, stderr) = linregress(x_values, y_values)\n",
    "regress_values = x_values * slope + intercept\n",
    "line_eq = \"y = \" + str(round(slope,2)) + \"x + \" + str(round(intercept,2))\n",
    "\n",
    "plt.scatter(x_values,y_values)\n",
    "\n",
    "plt.plot(x_values,regress_values,\"r-\")\n",
    "plt.annotate(line_eq,(6,10),fontsize=15,color=\"red\")\n",
    "\n",
    "plt.xlabel('Latitude')\n",
    "plt.ylabel('Temperature (F)')\n",
    "plt.title('Temperature vs Latitude Northern Hemisphere')\n",
    "print(f\"The r-squared is: {rvalue**2}\")\n",
    "plt.show()\n",
    "\n",
    "plt.savefig(\"Resources/North_LatvsTemp_LinReg.png\")"
   ]
  },
  {
   "cell_type": "markdown",
   "metadata": {},
   "source": [
    "####  Southern Hemisphere - Max Temp vs. Latitude Linear Regression"
   ]
  },
  {
   "cell_type": "code",
   "execution_count": 21,
   "metadata": {},
   "outputs": [
    {
     "name": "stdout",
     "output_type": "stream",
     "text": [
      "The r-squared is: 0.18826471047039398\n"
     ]
    },
    {
     "data": {
      "image/png": "[encoded data removed]",
      "text/plain": [
       "<Figure size 432x288 with 1 Axes>"
      ]
     },
     "metadata": {
      "needs_background": "light"
     },
     "output_type": "display_data"
    },
    {
     "data": {
      "text/plain": [
       "<Figure size 432x288 with 0 Axes>"
      ]
     },
     "metadata": {},
     "output_type": "display_data"
    }
   ],
   "source": [
    "# Add the linear regression equation and line to plot\n",
    "x_values = south_hem['Latitude']\n",
    "y_values = south_hem['temperature']\n",
    "\n",
    "#all of these calculations are formulated by 'linregress'\n",
    "(slope, intercept, rvalue, pvalue, stderr) = linregress(x_values, y_values)\n",
    "regress_values = x_values * slope + intercept\n",
    "line_eq = \"y = \" + str(round(slope,2)) + \"x + \" + str(round(intercept,2))\n",
    "\n",
    "plt.scatter(x_values,y_values)\n",
    "\n",
    "plt.plot(x_values,regress_values,\"r-\")\n",
    "plt.annotate(line_eq,(6,10),fontsize=15,color=\"red\")\n",
    "\n",
    "plt.xlabel('Latitude')\n",
    "plt.ylabel('Temperature (F)')\n",
    "plt.title('Temperature vs Latitude Southern Hemisphere')\n",
    "print(f\"The r-squared is: {rvalue**2}\")\n",
    "plt.show()\n",
    "\n",
    "\n",
    "plt.savefig(\"Resources/South_LatvsTemp_LinReg.png\")"
   ]
  },
  {
   "cell_type": "markdown",
   "metadata": {},
   "source": [
    "####  Northern Hemisphere - Humidity (%) vs. Latitude Linear Regression"
   ]
  },
  {
   "cell_type": "code",
   "execution_count": 22,
   "metadata": {},
   "outputs": [
    {
     "name": "stdout",
     "output_type": "stream",
     "text": [
      "The r-squared is: 0.19041287518471864\n"
     ]
    },
    {
     "data": {
      "image/png": "[encoded data removed]",
      "text/plain": [
       "<Figure size 432x288 with 1 Axes>"
      ]
     },
     "metadata": {
      "needs_background": "light"
     },
     "output_type": "display_data"
    },
    {
     "data": {
      "text/plain": [
       "<Figure size 432x288 with 0 Axes>"
      ]
     },
     "metadata": {},
     "output_type": "display_data"
    }
   ],
   "source": [
    "# Add the linear regression equation and line to plot\n",
    "x_values = north_hem['Latitude']\n",
    "y_values = north_hem['humidity']\n",
    "\n",
    "#all of these calculations are formulated by 'linregress'\n",
    "(slope, intercept, rvalue, pvalue, stderr) = linregress(x_values, y_values)\n",
    "regress_values = x_values * slope + intercept\n",
    "line_eq = \"y = \" + str(round(slope,2)) + \"x + \" + str(round(intercept,2))\n",
    "\n",
    "plt.scatter(x_values,y_values)\n",
    "\n",
    "plt.plot(x_values,regress_values,\"r-\")\n",
    "plt.annotate(line_eq,(6,10),fontsize=15,color=\"red\")\n",
    "\n",
    "plt.xlabel('Latitude')\n",
    "plt.ylabel('Humidity (%))')\n",
    "plt.title('Humidity vs Latitude Northern Hemisphere')\n",
    "print(f\"The r-squared is: {rvalue**2}\")\n",
    "plt.show()\n",
    "\n",
    "plt.savefig(\"Resources/North_LatvsHumid_LinReg.png\")"
   ]
  },
  {
   "cell_type": "markdown",
   "metadata": {},
   "source": [
    "####  Southern Hemisphere - Humidity (%) vs. Latitude Linear Regression"
   ]
  },
  {
   "cell_type": "code",
   "execution_count": 23,
   "metadata": {},
   "outputs": [
    {
     "name": "stdout",
     "output_type": "stream",
     "text": [
      "The r-squared is: 0.1986341663287285\n"
     ]
    },
    {
     "data": {
      "image/png": "[encoded data removed]",
      "text/plain": [
       "<Figure size 432x288 with 1 Axes>"
      ]
     },
     "metadata": {
      "needs_background": "light"
     },
     "output_type": "display_data"
    },
    {
     "data": {
      "text/plain": [
       "<Figure size 432x288 with 0 Axes>"
      ]
     },
     "metadata": {},
     "output_type": "display_data"
    }
   ],
   "source": [
    "# Add the linear regression equation and line to plot\n",
    "x_values = south_hem['Latitude']\n",
    "y_values = south_hem['humidity']\n",
    "\n",
    "#all of these calculations are formulated by 'linregress'\n",
    "(slope, intercept, rvalue, pvalue, stderr) = linregress(x_values, y_values)\n",
    "regress_values = x_values * slope + intercept\n",
    "line_eq = \"y = \" + str(round(slope,2)) + \"x + \" + str(round(intercept,2))\n",
    "\n",
    "plt.scatter(x_values,y_values)\n",
    "\n",
    "plt.plot(x_values,regress_values,\"r-\")\n",
    "plt.annotate(line_eq,(6,10),fontsize=15,color=\"red\")\n",
    "\n",
    "plt.xlabel('Latitude')\n",
    "plt.ylabel('Humidity (%))')\n",
    "plt.title('Humidity vs Latitude Southern Hemisphere')\n",
    "print(f\"The r-squared is: {rvalue**2}\")\n",
    "plt.show()\n",
    "\n",
    "plt.savefig(\"Resources/South_LatvsHumid_LinReg.png\")"
   ]
  },
  {
   "cell_type": "markdown",
   "metadata": {},
   "source": [
    "####  Northern Hemisphere - Cloudiness (%) vs. Latitude Linear Regression"
   ]
  },
  {
   "cell_type": "code",
   "execution_count": 24,
   "metadata": {},
   "outputs": [
    {
     "name": "stdout",
     "output_type": "stream",
     "text": [
      "The r-squared is: 0.07665850295679152\n"
     ]
    },
    {
     "data": {
      "image/png": "[encoded data removed]",
      "text/plain": [
       "<Figure size 432x288 with 1 Axes>"
      ]
     },
     "metadata": {
      "needs_background": "light"
     },
     "output_type": "display_data"
    },
    {
     "data": {
      "text/plain": [
       "<Figure size 432x288 with 0 Axes>"
      ]
     },
     "metadata": {},
     "output_type": "display_data"
    }
   ],
   "source": [
    "x_values = north_hem['Latitude']\n",
    "y_values = north_hem['cloudiness']\n",
    "\n",
    "#all of these calculations are formulated by 'linregress'\n",
    "(slope, intercept, rvalue, pvalue, stderr) = linregress(x_values, y_values)\n",
    "regress_values = x_values * slope + intercept\n",
    "line_eq = \"y = \" + str(round(slope,2)) + \"x + \" + str(round(intercept,2))\n",
    "\n",
    "plt.scatter(x_values,y_values)\n",
    "\n",
    "plt.plot(x_values,regress_values,\"r-\")\n",
    "plt.annotate(line_eq,(6,10),fontsize=15,color=\"red\")\n",
    "\n",
    "plt.xlabel('Latitude')\n",
    "plt.ylabel('Cloudiness (%))')\n",
    "plt.title('Cloudiness vs Latitude Northern Hemisphere')\n",
    "print(f\"The r-squared is: {rvalue**2}\")\n",
    "plt.show()\n",
    "\n",
    "plt.savefig(\"Resources/North_LatvsCloud_LinReg.png\")"
   ]
  },
  {
   "cell_type": "markdown",
   "metadata": {},
   "source": [
    "####  Southern Hemisphere - Cloudiness (%) vs. Latitude Linear Regression"
   ]
  },
  {
   "cell_type": "code",
   "execution_count": 25,
   "metadata": {},
   "outputs": [
    {
     "name": "stdout",
     "output_type": "stream",
     "text": [
      "The r-squared is: 0.21183753825869003\n"
     ]
    },
    {
     "data": {
      "image/png": "[encoded data removed]",
      "text/plain": [
       "<Figure size 432x288 with 1 Axes>"
      ]
     },
     "metadata": {
      "needs_background": "light"
     },
     "output_type": "display_data"
    },
    {
     "data": {
      "text/plain": [
       "<Figure size 432x288 with 0 Axes>"
      ]
     },
     "metadata": {},
     "output_type": "display_data"
    }
   ],
   "source": [
    "x_values = south_hem['Latitude']\n",
    "y_values = south_hem['cloudiness']\n",
    "\n",
    "#all of these calculations are formulated by 'linregress'\n",
    "(slope, intercept, rvalue, pvalue, stderr) = linregress(x_values, y_values)\n",
    "regress_values = x_values * slope + intercept\n",
    "line_eq = \"y = \" + str(round(slope,2)) + \"x + \" + str(round(intercept,2))\n",
    "\n",
    "plt.scatter(x_values,y_values)\n",
    "\n",
    "plt.plot(x_values,regress_values,\"r-\")\n",
    "plt.annotate(line_eq,(6,10),fontsize=15,color=\"red\")\n",
    "\n",
    "plt.xlabel('Latitude')\n",
    "plt.ylabel('Cloudiness (%))')\n",
    "plt.title('Cloudiness vs Latitude Southern Hemisphere')\n",
    "print(f\"The r-squared is: {rvalue**2}\")\n",
    "plt.show()\n",
    "\n",
    "plt.savefig(\"Resources/South_LatvsCloud_LinReg.png\")"
   ]
  },
  {
   "cell_type": "markdown",
   "metadata": {},
   "source": [
    "####  Northern Hemisphere - Wind Speed (mph) vs. Latitude Linear Regression"
   ]
  },
  {
   "cell_type": "code",
   "execution_count": 26,
   "metadata": {},
   "outputs": [
    {
     "name": "stdout",
     "output_type": "stream",
     "text": [
      "The r-squared is: 0.01175915483595881\n"
     ]
    },
    {
     "data": {
      "image/png": "[encoded data removed]",
      "text/plain": [
       "<Figure size 432x288 with 1 Axes>"
      ]
     },
     "metadata": {
      "needs_background": "light"
     },
     "output_type": "display_data"
    },
    {
     "data": {
      "text/plain": [
       "<Figure size 432x288 with 0 Axes>"
      ]
     },
     "metadata": {},
     "output_type": "display_data"
    }
   ],
   "source": [
    "x_values = north_hem['Latitude']\n",
    "y_values = north_hem['wind speed']\n",
    "\n",
    "#all of these calculations are formulated by 'linregress'\n",
    "(slope, intercept, rvalue, pvalue, stderr) = linregress(x_values, y_values)\n",
    "regress_values = x_values * slope + intercept\n",
    "line_eq = \"y = \" + str(round(slope,2)) + \"x + \" + str(round(intercept,2))\n",
    "\n",
    "plt.scatter(x_values,y_values)\n",
    "\n",
    "plt.plot(x_values,regress_values,\"r-\")\n",
    "plt.annotate(line_eq,(6,10),fontsize=15,color=\"red\")\n",
    "\n",
    "plt.xlabel('Latitude')\n",
    "plt.ylabel('Wind Speed (mph))')\n",
    "plt.title('Wind Speed vs Latitude Northern Hemisphere')\n",
    "print(f\"The r-squared is: {rvalue**2}\")\n",
    "plt.show()\n",
    "\n",
    "plt.savefig(\"Resources/North_LatvsWind_LinReg.png\")"
   ]
  },
  {
   "cell_type": "markdown",
   "metadata": {},
   "source": [
    "####  Southern Hemisphere - Wind Speed (mph) vs. Latitude Linear Regression"
   ]
  },
  {
   "cell_type": "code",
   "execution_count": 27,
   "metadata": {},
   "outputs": [
    {
     "name": "stdout",
     "output_type": "stream",
     "text": [
      "The r-squared is: 0.048870660149113246\n"
     ]
    },
    {
     "data": {
      "image/png": "[encoded data removed]",
      "text/plain": [
       "<Figure size 432x288 with 1 Axes>"
      ]
     },
     "metadata": {
      "needs_background": "light"
     },
     "output_type": "display_data"
    },
    {
     "data": {
      "text/plain": [
       "<Figure size 432x288 with 0 Axes>"
      ]
     },
     "metadata": {},
     "output_type": "display_data"
    }
   ],
   "source": [
    "x_values = south_hem['Latitude']\n",
    "y_values = south_hem['wind speed']\n",
    "\n",
    "#all of these calculations are formulated by 'linregress'\n",
    "(slope, intercept, rvalue, pvalue, stderr) = linregress(x_values, y_values)\n",
    "regress_values = x_values * slope + intercept\n",
    "line_eq = \"y = \" + str(round(slope,2)) + \"x + \" + str(round(intercept,2))\n",
    "\n",
    "plt.scatter(x_values,y_values)\n",
    "\n",
    "plt.plot(x_values,regress_values,\"r-\")\n",
    "plt.annotate(line_eq,(6,10),fontsize=15,color=\"red\")\n",
    "\n",
    "plt.xlabel('Latitude')\n",
    "plt.ylabel('Wind Speed (mph))')\n",
    "plt.title('Wind Speed vs Latitude Southern Hemisphere')\n",
    "print(f\"The r-squared is: {rvalue**2}\")\n",
    "plt.show()\n",
    "\n",
    "plt.savefig(\"Resources/South_LatvsWind_LinReg.png\")"
   ]
  },
  {
   "cell_type": "code",
   "execution_count": null,
   "metadata": {},
   "outputs": [],
   "source": []
  }
 ],
 "metadata": {
  "anaconda-cloud": {},
  "kernel_info": {
   "name": "python3"
  },
  "kernelspec": {
   "display_name": "Python 3",
   "language": "python",
   "name": "python3"
  },
  "language_info": {
   "codemirror_mode": {
    "name": "ipython",
    "version": 3
   },
   "file_extension": ".py",
   "mimetype": "text/x-python",
   "name": "python",
   "nbconvert_exporter": "python",
   "pygments_lexer": "ipython3",
   "version": "3.8.3"
  },
  "latex_envs": {
   "LaTeX_envs_menu_present": true,
   "autoclose": false,
   "autocomplete": true,
   "bibliofile": "biblio.bib",
   "cite_by": "apalike",
   "current_citInitial": 1,
   "eqLabelWithNumbers": true,
   "eqNumInitial": 1,
   "hotkeys": {
    "equation": "Ctrl-E",
    "itemize": "Ctrl-I"
   },
   "labels_anchors": false,
   "latex_user_defs": false,
   "report_style_numbering": false,
   "user_envs_cfg": false
  },
  "nteract": {
   "version": "0.12.3"
  }
 },
 "nbformat": 4,
 "nbformat_minor": 2
}
